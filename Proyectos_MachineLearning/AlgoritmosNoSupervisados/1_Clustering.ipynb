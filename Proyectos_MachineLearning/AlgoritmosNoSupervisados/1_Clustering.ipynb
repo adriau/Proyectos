{
 "cells": [
  {
   "cell_type": "markdown",
   "source": [
    "# Clustering K-means\n",
    "\n",
    "Aunque la mayoría de las aplicaciones de los algoritmos de aprendizaje automático en la actualidad se basan en el aprendizaje supervisado, la gran mayoría de los datos disponibles **no están etiquetados**. Tenemos la entrada $X$, pero no tenemos las etiquetas $y$."
   ],
   "metadata": {
    "collapsed": false
   }
  },
  {
   "cell_type": "markdown",
   "source": [
    "# 1. ¿Qué es el clustering?\n",
    "\n",
    "El clustering (o agrupación) es la tarea de identificar grupos que contienen objetos similares. Aplicaciones del clustering:\n",
    "- **Búsqueda de similitud de imágenes**: agrupación de imágenes disponibles y cuando el usuario proporciona un nuevo elemento, agruparlo con el mismo algoritmo y devolver los principales N elementos centrados.\n",
    "- **Segmentación de imágenes**: agrupando píxeles según su color y luego reemplazando los colores de los píxeles con la media de su clúster.\n",
    "- **Análisis de datos**: puede ser útil agrupar la instancia y analizar cada una por separado.\n",
    "- **Reducción de dimensionalidad**: reemplazando las características con la afinidad de cada instancia a cada clúster.\n",
    "- **Detección de anomalías**: es probable que cualquier instancia que tenga poca afinidad con todos los clústeres sea un valor atípico.\n",
    "- **Aprendizaje semisupervisado**: si tenemos pocas etiquetas, podemos realizar clustering y propagar las etiquetas disponibles a otras instancias dentro de los clústeres.\n",
    "\n",
    "Existen diferentes tipos de algoritmos de clustering y no existe una definición universal de lo que es un clúster."
   ],
   "metadata": {
    "collapsed": false
   }
  },
  {
   "cell_type": "markdown",
   "source": [
    "# 2. K-means\n",
    "\n",
    "El algoritmo $K$-means divide un conjunto de $N$ muestras $X$ en $K$ grupos separados $C$, cada uno descrito por la media $\\mu_j$ de las muestras en el grupo. Los puntos medios o centrales se denominan comúnmente **cluster “centroides”**; ten en cuenta que no son, en general, puntos de $X$, aunque viven en el mismo espacio. El algoritmo K-means tiene como objetivo elegir centroides que minimicen la inercia, o el criterio de suma de cuadrados dentro del grupo:\n",
    "\n",
    "$$\\sum_{i=0}^{n}\\min_{\\mu_j \\in C}(||x_j - \\mu_i||^2)$$\n",
    "\n",
    "La **inertia** (o función de distorsión) representa la suma de los errores cuadráticos. El error viene dado por la diferencia entre las coordenadas de cada punto y las de su centroide. Por lo tanto, calcular la inertia implica tres pasos: determinar el error, elevarlo a cuadrado y, finalmente, sumarlo.\n",
    "\n",
    "Los centroides de nuestro modelo podrían ser:\n",
    "\n",
    "- Conocidos: entonces podríamos etiquetar fácilmente el dataset asignando cada registro al grupo con el centroide más cercado. Otra alternativa sería si nos dieran un dataset etiquetado, ya que se podrían ubicar fácilmente todos los centroides calculando la media de las instancias dentro de cada grupo.\n",
    "- Desconocidos: lo más habitual és que no dispongamos de los centroides ni de las etiquetas. En este caso elegiremos los centroides al azar y refinaremos la búsqueda hasta que no haya cambios. Vamos a verlo!\n",
    "\n"
   ],
   "metadata": {
    "collapsed": false
   }
  },
  {
   "cell_type": "markdown",
   "source": [
    "## 3. ¿Cómo funciona el algoritmo?\n",
    "\n",
    "El algoritmo de clustering Κ-means suele desconocer los centroides y utiliza un refinamiento iterativo para producir su resultado final. Las entradas del algoritmo son el número de grupos $Κ$ y el conjunto de datos. El conjunto de datos es una colección de características para cada punto de datos. El algoritmo comienza con estimaciones iniciales para los centroides $Κ$, que pueden generarse aleatoriamente o seleccionarse aleatoriamente del conjunto de datos. Luego, el algoritmo itera entre dos pasos:\n",
    "\n",
    "**1. Paso de asignación de datos**: Cada centroide define uno de los clústeres. En este paso, cada punto de datos se asigna a su centroide más cercano, en función de la distancia euclidiana al cuadrado. Más formalmente, si $c_i$ es la colección de centroides en el conjunto $C$, entonces cada punto de datos $x$ se asigna a un grupo basado en\n",
    "\n",
    "$$\\underset{c_i \\in C}{\\arg\\min} \\; dist(c_i,x)^2$$\n",
    "\n",
    "donde $dist()$ es el estandar ($L_2$) distancia euclídea y $S_i$ el conjunto de asignaciones de puntos de datos para cada i-ésimo centroide de conglomerado.\n",
    "\n",
    "**2. Paso de actualización del centroide**: en este paso, se vuelven a calcular los centroides. Esto se hace tomando la media de todos los puntos de datos asignados al grupo de ese centroide.\n",
    "\n",
    "$$c_i=\\frac{1}{|S_i|}\\sum_{x_i \\in S_i x_i}$$\n",
    "\n",
    "El algoritmo itera entre los pasos uno y dos hasta que se cumple un criterio de parada (es decir, ningún punto de datos cambia de grupo, la suma de las distancias se minimiza o se alcanza un número máximo de iteraciones).\n",
    "\n"
   ],
   "metadata": {
    "collapsed": false,
    "pycharm": {
     "name": "#%% md\n"
    }
   }
  },
  {
   "cell_type": "markdown",
   "source": [
    "## 4. Convergencia e inicialización aleatoria\n",
    "\n",
    "Este algoritmo está garantizado para converger a un resultado. El resultado puede ser un óptimo local (es decir, no necesariamente el mejor resultado posible), lo que significa que evaluar más de una ejecución del algoritmo con centroides iniciales aleatorios puede dar un mejor resultado.\n",
    "\n",
    "\n",
    "<div style=\"text-align:center\">\n",
    "    <img style=\"ancho:50%\" src=\"img/K-means_convergence.gif\">\n",
    "</div>\n"
   ],
   "metadata": {
    "collapsed": false,
    "pycharm": {
     "name": "#%% md\n"
    }
   }
  },
  {
   "cell_type": "markdown",
   "source": [
    "## 5. Demo\n",
    "\n",
    "Vamos a realizar pruebas del algoritmo K-means con la librería `sklearn`:"
   ],
   "metadata": {
    "collapsed": false,
    "pycharm": {
     "name": "#%% md\n"
    }
   }
  },
  {
   "cell_type": "code",
   "execution_count": 1,
   "outputs": [],
   "source": [
    "from sklearn import datasets\n",
    "import matplotlib.pyplot as plt"
   ],
   "metadata": {
    "collapsed": false,
    "pycharm": {
     "name": "#%%\n"
    }
   }
  },
  {
   "cell_type": "code",
   "execution_count": 2,
   "outputs": [],
   "source": [
    "X, y = datasets.make_blobs(n_samples=1000, n_features=2, centers=5, cluster_std=[0.5, 0.5, 0.5, 1, 1])"
   ],
   "metadata": {
    "collapsed": false,
    "pycharm": {
     "name": "#%%\n"
    }
   }
  },
  {
   "cell_type": "code",
   "execution_count": 3,
   "outputs": [
    {
     "data": {
      "text/plain": "<Figure size 576x576 with 1 Axes>",
      "image/png": "[encoded data removed]"
     },
     "metadata": {
      "needs_background": "light"
     },
     "output_type": "display_data"
    }
   ],
   "source": [
    "plt.figure(figsize=(8, 8))\n",
    "plt.scatter(X[:, 0], X[:, 1], s=2)\n",
    "plt.xlabel('x1')\n",
    "plt.ylabel('x2')\n",
    "plt.show()"
   ],
   "metadata": {
    "collapsed": false,
    "pycharm": {
     "name": "#%%\n"
    }
   }
  },
  {
   "cell_type": "markdown",
   "source": [
    "Ahora entrenaremos el algoritmo de clustering K-means sobre este dataset:"
   ],
   "metadata": {
    "collapsed": false
   }
  },
  {
   "cell_type": "code",
   "execution_count": 4,
   "outputs": [],
   "source": [
    "from sklearn.cluster import KMeans"
   ],
   "metadata": {
    "collapsed": false,
    "pycharm": {
     "name": "#%%\n"
    }
   }
  },
  {
   "cell_type": "code",
   "execution_count": 5,
   "outputs": [],
   "source": [
    "k = 5 # Numero de clusters, o grupos en los que vamos a clasificar."
   ],
   "metadata": {
    "collapsed": false,
    "pycharm": {
     "name": "#%%\n"
    }
   }
  },
  {
   "cell_type": "code",
   "execution_count": 6,
   "outputs": [],
   "source": [
    "kmeans = KMeans(n_clusters=k) # Creamos el modelo"
   ],
   "metadata": {
    "collapsed": false,
    "pycharm": {
     "name": "#%%\n"
    }
   }
  },
  {
   "cell_type": "code",
   "execution_count": 7,
   "outputs": [],
   "source": [
    "y_pred = kmeans.fit_predict(X) # Como no tenemos el resultado, lo que hacemos es entrenar y predecir con los mismos datos"
   ],
   "metadata": {
    "collapsed": false,
    "pycharm": {
     "name": "#%%\n"
    }
   }
  },
  {
   "cell_type": "markdown",
   "source": [
    "Ten en cuenta que debe especificar el número de clústeres que se van a encontrar."
   ],
   "metadata": {
    "collapsed": false
   }
  },
  {
   "cell_type": "code",
   "execution_count": 8,
   "outputs": [
    {
     "data": {
      "text/plain": "True"
     },
     "execution_count": 8,
     "metadata": {},
     "output_type": "execute_result"
    }
   ],
   "source": [
    "y_pred is kmeans.labels_ # Compara y_pred con labels_, labels_ contendria los diferentes grupos"
   ],
   "metadata": {
    "collapsed": false,
    "pycharm": {
     "name": "#%%\n"
    }
   }
  },
  {
   "cell_type": "markdown",
   "source": [
    "También podemos echar un vistazo a los cinco centroides que encontró el algoritmo:"
   ],
   "metadata": {
    "collapsed": false
   }
  },
  {
   "cell_type": "code",
   "execution_count": 9,
   "outputs": [
    {
     "data": {
      "text/plain": "array([[-1.34893509,  2.84348757],\n       [ 5.86624826, -4.5359946 ],\n       [-5.85093136,  5.85259611],\n       [ 5.68265189,  4.57299063],\n       [ 2.12703393,  2.98961025]])"
     },
     "execution_count": 9,
     "metadata": {},
     "output_type": "execute_result"
    }
   ],
   "source": [
    "kmeans.cluster_centers_ # Nos mostrara las coordenadas de los centroides"
   ],
   "metadata": {
    "collapsed": false,
    "pycharm": {
     "name": "#%%\n"
    }
   }
  },
  {
   "cell_type": "markdown",
   "source": [
    "Podemos predecir fácilmente los clústers a los cuáles pertenecen un grupo de nuevas instancias:"
   ],
   "metadata": {
    "collapsed": false
   }
  },
  {
   "cell_type": "code",
   "execution_count": 10,
   "outputs": [],
   "source": [
    "import numpy as np\n",
    "\n",
    "X_new = np.array([[0, 2], [3, 2], [-3, 3], [-3, 2.5]])"
   ],
   "metadata": {
    "collapsed": false,
    "pycharm": {
     "name": "#%%\n"
    }
   }
  },
  {
   "cell_type": "code",
   "execution_count": 11,
   "outputs": [
    {
     "data": {
      "text/plain": "array([0, 4, 0, 0], dtype=int32)"
     },
     "execution_count": 11,
     "metadata": {},
     "output_type": "execute_result"
    }
   ],
   "source": [
    "kmeans.predict(X_new) # Prediccion de nuevos datos"
   ],
   "metadata": {
    "collapsed": false,
    "pycharm": {
     "name": "#%%\n"
    }
   }
  },
  {
   "cell_type": "markdown",
   "source": [
    "Al trazar los límites de decisión del algoritmo, obtenemos una **teselación de Voronoi**:"
   ],
   "metadata": {
    "collapsed": false
   }
  },
  {
   "cell_type": "code",
   "execution_count": 12,
   "outputs": [],
   "source": [
    "# Plotting decision regions\n",
    "x_min, x_max = X[:, 0].min() - 1, X[:, 0].max() + 1\n",
    "y_min, y_max = X[:, 1].min() - 1, X[:, 1].max() + 1\n",
    "xx, yy = np.meshgrid(np.arange(x_min, x_max, 0.1),\n",
    "                     np.arange(y_min, y_max, 0.1))"
   ],
   "metadata": {
    "collapsed": false,
    "pycharm": {
     "name": "#%%\n"
    }
   }
  },
  {
   "cell_type": "code",
   "execution_count": 13,
   "outputs": [],
   "source": [
    "Z = kmeans.predict(np.c_[xx.ravel(), yy.ravel()])\n",
    "Z = Z.reshape(xx.shape)"
   ],
   "metadata": {
    "collapsed": false,
    "pycharm": {
     "name": "#%%\n"
    }
   }
  },
  {
   "cell_type": "code",
   "execution_count": 14,
   "outputs": [
    {
     "data": {
      "text/plain": "<Figure size 576x576 with 1 Axes>",
      "image/png": "[encoded data removed]"
     },
     "metadata": {
      "needs_background": "light"
     },
     "output_type": "display_data"
    }
   ],
   "source": [
    "plt.figure(figsize=(8, 8))\n",
    "plt.contourf(xx, yy, Z, alpha=0.4)\n",
    "plt.scatter(X[:, 0], X[:, 1], c=y_pred, s=20, edgecolor='k')\n",
    "plt.show()"
   ],
   "metadata": {
    "collapsed": false,
    "pycharm": {
     "name": "#%%\n"
    }
   }
  },
  {
   "cell_type": "markdown",
   "source": [
    "La gran mayoría de las instancias se asignaron claramente a su clúster original.\n",
    "\n",
    "Lo único que le importa a K-means es la distancia entre las instancias y los centroides. En lugar de asignar cada instancia a un clúster (agrupación dura), es mejor dar una puntuación de clúster por instancia (agrupación suave). La puntuación puede ser la distancia entre la instancia y los centroides (esta también puede ser una buena técnica de reducción de dimensionalidad).\n",
    "\n",
    "En `sklearn`, el método `transform` mide la distancia entre cada instancia y los centroides."
   ],
   "metadata": {
    "collapsed": false
   }
  },
  {
   "cell_type": "code",
   "execution_count": 15,
   "outputs": [
    {
     "data": {
      "text/plain": "array([[ 1.59094222,  8.78248792,  7.00541895,  6.23801357,  2.34597566],\n       [ 4.42997829,  7.13684835,  9.65305562,  3.71710935,  1.31962048],\n       [ 1.6584666 , 11.63621815,  4.03300313,  8.82398682,  5.12704446],\n       [ 1.68641604, 11.31881523,  4.40087609,  8.92668662,  5.15035874]])"
     },
     "execution_count": 15,
     "metadata": {},
     "output_type": "execute_result"
    }
   ],
   "source": [
    "kmeans.transform(X_new)"
   ],
   "metadata": {
    "collapsed": false,
    "pycharm": {
     "name": "#%%\n"
    }
   }
  },
  {
   "cell_type": "markdown",
   "source": [
    "## 5.1. Variante con centroides conocidos\n",
    "\n",
    "Si se sabe aproximadamente dónde deberían estar los centroides, entonces puede inicializar `KMeans` con un parámetro llamado init que los contenga:"
   ],
   "metadata": {
    "collapsed": false
   }
  },
  {
   "cell_type": "code",
   "execution_count": 16,
   "outputs": [],
   "source": [
    "good_init = np.array([[-3, 3], [-3, 2], [-3, 1], [-1, 2], [0, 2]]) # Coordenadas de los centroides"
   ],
   "metadata": {
    "collapsed": false,
    "pycharm": {
     "name": "#%%\n"
    }
   }
  },
  {
   "cell_type": "code",
   "execution_count": 17,
   "outputs": [],
   "source": [
    "kmeans = KMeans(n_clusters=5, init=good_init)"
   ],
   "metadata": {
    "collapsed": false,
    "pycharm": {
     "name": "#%%\n"
    }
   }
  },
  {
   "cell_type": "code",
   "execution_count": 18,
   "outputs": [
    {
     "name": "stderr",
     "output_type": "stream",
     "text": [
      "/home/a13adrianac/anaconda3/lib/python3.9/site-packages/sklearn/cluster/_kmeans.py:1146: RuntimeWarning: Explicit initial center position passed: performing only one init in KMeans instead of n_init=10.\n",
      "  self._check_params(X)\n"
     ]
    },
    {
     "data": {
      "text/plain": "array([2, 3, 3, 4, 0, 0, 0, 3, 2, 3, 3, 0, 2, 2, 4, 1, 1, 4, 3, 2, 4, 0,\n       2, 1, 2, 3, 1, 1, 2, 3, 2, 3, 1, 2, 1, 4, 3, 1, 0, 3, 2, 4, 1, 3,\n       0, 4, 3, 2, 4, 1, 0, 0, 0, 4, 1, 1, 2, 4, 4, 0, 2, 4, 0, 1, 0, 2,\n       2, 2, 4, 1, 1, 2, 1, 1, 4, 3, 0, 4, 2, 0, 0, 0, 0, 4, 3, 4, 2, 4,\n       0, 0, 4, 0, 1, 2, 2, 2, 1, 4, 0, 2, 4, 4, 1, 3, 4, 3, 3, 0, 4, 1,\n       3, 1, 2, 1, 1, 3, 4, 1, 3, 4, 3, 0, 1, 0, 4, 4, 0, 3, 0, 0, 1, 0,\n       0, 2, 1, 0, 2, 4, 4, 1, 2, 3, 0, 1, 3, 4, 0, 2, 2, 0, 1, 1, 1, 1,\n       0, 0, 1, 1, 3, 2, 4, 1, 0, 4, 4, 2, 2, 0, 2, 3, 3, 4, 0, 3, 1, 4,\n       2, 4, 2, 3, 0, 1, 3, 4, 0, 1, 0, 2, 2, 3, 2, 4, 1, 0, 0, 2, 4, 4,\n       2, 1, 1, 4, 4, 4, 1, 3, 2, 2, 0, 4, 4, 3, 0, 2, 2, 0, 4, 4, 0, 3,\n       3, 2, 2, 0, 2, 1, 4, 3, 4, 0, 4, 0, 3, 3, 4, 3, 3, 3, 4, 0, 4, 0,\n       2, 1, 0, 4, 1, 1, 1, 1, 3, 0, 1, 2, 3, 4, 2, 2, 4, 0, 0, 4, 2, 2,\n       0, 4, 0, 1, 2, 0, 3, 3, 2, 4, 2, 0, 4, 1, 3, 3, 2, 1, 1, 2, 2, 3,\n       1, 2, 2, 2, 4, 3, 4, 2, 4, 2, 4, 4, 0, 3, 3, 2, 3, 4, 1, 3, 3, 3,\n       1, 4, 2, 0, 3, 2, 3, 0, 0, 3, 2, 2, 3, 4, 1, 4, 1, 2, 0, 4, 2, 4,\n       3, 3, 1, 4, 4, 0, 0, 3, 3, 2, 0, 0, 3, 4, 2, 3, 3, 1, 1, 2, 2, 2,\n       1, 2, 4, 3, 0, 1, 2, 3, 1, 2, 3, 2, 4, 4, 0, 2, 0, 4, 4, 1, 3, 2,\n       2, 3, 1, 2, 2, 1, 4, 1, 1, 2, 1, 2, 1, 2, 3, 0, 4, 0, 0, 2, 4, 2,\n       2, 0, 4, 2, 1, 3, 0, 1, 0, 0, 3, 1, 3, 1, 2, 4, 2, 1, 0, 3, 4, 3,\n       4, 4, 1, 1, 2, 2, 0, 2, 2, 3, 0, 2, 4, 1, 2, 2, 0, 3, 2, 4, 1, 3,\n       2, 4, 3, 2, 1, 4, 0, 3, 0, 2, 4, 0, 4, 4, 0, 0, 0, 3, 0, 0, 0, 3,\n       4, 3, 3, 2, 4, 4, 4, 2, 1, 1, 1, 2, 1, 3, 3, 3, 1, 2, 0, 3, 1, 4,\n       3, 3, 4, 0, 4, 3, 1, 1, 2, 4, 0, 2, 4, 0, 4, 2, 1, 1, 3, 3, 1, 3,\n       2, 3, 1, 2, 1, 0, 4, 3, 3, 0, 2, 1, 4, 4, 0, 3, 2, 4, 0, 4, 4, 4,\n       1, 3, 2, 3, 0, 4, 4, 4, 3, 3, 2, 2, 0, 0, 1, 3, 1, 0, 3, 0, 3, 3,\n       3, 2, 4, 4, 3, 3, 4, 2, 1, 0, 0, 3, 4, 0, 4, 0, 1, 4, 0, 3, 4, 1,\n       4, 1, 2, 1, 4, 3, 2, 1, 4, 2, 4, 3, 2, 1, 1, 0, 1, 1, 1, 1, 3, 1,\n       1, 3, 4, 3, 1, 2, 1, 3, 4, 4, 2, 4, 1, 4, 2, 0, 0, 3, 4, 0, 0, 4,\n       0, 3, 3, 4, 3, 0, 3, 0, 2, 3, 1, 3, 1, 1, 2, 0, 0, 1, 2, 3, 3, 0,\n       0, 3, 1, 1, 1, 2, 2, 1, 0, 2, 0, 2, 3, 2, 2, 0, 0, 1, 3, 2, 4, 4,\n       4, 2, 4, 0, 2, 4, 3, 3, 2, 4, 0, 0, 0, 4, 2, 4, 4, 1, 4, 1, 1, 4,\n       1, 4, 3, 1, 0, 2, 3, 1, 1, 3, 0, 0, 3, 0, 1, 0, 2, 0, 3, 4, 1, 3,\n       0, 4, 3, 4, 2, 4, 2, 1, 1, 0, 2, 1, 2, 4, 2, 2, 3, 3, 2, 0, 0, 3,\n       0, 1, 0, 4, 0, 0, 1, 4, 1, 4, 3, 0, 2, 0, 4, 0, 1, 0, 1, 2, 2, 4,\n       1, 2, 0, 4, 3, 1, 1, 2, 1, 0, 0, 2, 0, 3, 4, 1, 2, 2, 4, 4, 4, 0,\n       1, 2, 1, 1, 0, 1, 0, 4, 0, 1, 3, 0, 2, 3, 0, 1, 1, 2, 2, 3, 1, 3,\n       3, 1, 4, 2, 1, 1, 2, 0, 1, 2, 2, 4, 4, 3, 4, 4, 2, 2, 0, 3, 0, 1,\n       1, 2, 2, 3, 2, 2, 1, 4, 2, 1, 3, 2, 0, 1, 0, 4, 3, 4, 3, 1, 3, 3,\n       3, 1, 0, 0, 4, 3, 4, 3, 3, 2, 0, 3, 0, 0, 3, 2, 2, 1, 2, 0, 3, 0,\n       3, 2, 2, 0, 4, 3, 2, 0, 1, 0, 0, 3, 2, 3, 1, 0, 1, 2, 4, 0, 3, 2,\n       4, 1, 3, 1, 0, 1, 4, 3, 1, 3, 3, 2, 1, 0, 0, 1, 2, 1, 3, 0, 3, 3,\n       3, 3, 3, 3, 2, 1, 2, 2, 3, 2, 1, 1, 3, 3, 4, 0, 1, 0, 2, 4, 0, 3,\n       4, 3, 3, 4, 1, 0, 1, 1, 3, 0, 0, 4, 0, 3, 4, 2, 2, 4, 4, 3, 3, 1,\n       1, 2, 0, 4, 3, 1, 2, 0, 2, 3, 4, 3, 3, 4, 1, 0, 1, 1, 0, 1, 0, 0,\n       0, 3, 4, 3, 1, 0, 4, 0, 0, 3, 3, 4, 2, 3, 2, 4, 1, 3, 1, 1, 1, 1,\n       0, 4, 1, 4, 3, 0, 4, 4, 4, 4], dtype=int32)"
     },
     "execution_count": 18,
     "metadata": {},
     "output_type": "execute_result"
    }
   ],
   "source": [
    "kmeans.fit_predict(X)"
   ],
   "metadata": {
    "collapsed": false,
    "pycharm": {
     "name": "#%%\n"
    }
   }
  },
  {
   "cell_type": "markdown",
   "source": [
    "## 6. ¿Cómo encontrar el número óptimo de clústers?\n",
    "\n",
    "### 6.1. Método del Elbow\n",
    "\n",
    "Podríamos estar pensando que podemos elegir el modelo con la inertia más baja. Esto plantea un problema porque aumentar `k` siempre nos dará una menor inertia (o distorsión).\n",
    "\n",
    "Visualicemos inertia como una función de `k`:\n",
    "\n",
    "<div style=\"text-align:center\">\n",
    "    <img style=\"ancho:50%\" src=\"img/k_to_inretia.png\" width = \"800\" height = \"500\">\n",
    "</div>\n",
    "\n",
    "Como podemos ver, la distorsión (o inertia) cae mucho cuando pasamos de $3$ a $4$, pero luego disminuye mucho más lentamente y seguimos aumentando $k$. Esta curva tiene aproximadamente la forma de un brazo y hay un codo en $k=4$. Así que elegimos $4$.\n",
    "\n",
    "Este método de elegir el número óptimo de clústeres es bastante basto.\n",
    "\n",
    "Calculémoslo usando `sklearn`:\n"
   ],
   "metadata": {
    "collapsed": false
   }
  },
  {
   "cell_type": "code",
   "execution_count": 19,
   "outputs": [],
   "source": [
    "distortions = []\n",
    "K = range(2,10)\n",
    "for k in K:\n",
    "    kmeanModel = KMeans(n_clusters=k)\n",
    "    kmeanModel.fit(X)\n",
    "    distortions.append(kmeanModel.inertia_)"
   ],
   "metadata": {
    "collapsed": false,
    "pycharm": {
     "name": "#%%\n"
    }
   }
  },
  {
   "cell_type": "code",
   "execution_count": 20,
   "outputs": [
    {
     "data": {
      "text/plain": "<Figure size 720x360 with 1 Axes>",
      "image/png": "[encoded data removed]"
     },
     "metadata": {
      "needs_background": "light"
     },
     "output_type": "display_data"
    }
   ],
   "source": [
    "# Representa gráficamente la evolución de la distorsión en función de K\n",
    "plt.figure(figsize=(10,5))\n",
    "plt.plot(K, distortions, 'bx-')\n",
    "plt.xlabel('k')\n",
    "plt.ylabel('Distorsión')\n",
    "plt.title('Mostrando el K óptimo mediante el método del Elbow')\n",
    "plt.show()"
   ],
   "metadata": {
    "collapsed": false,
    "pycharm": {
     "name": "#%%\n"
    }
   }
  },
  {
   "cell_type": "markdown",
   "source": [
    "### 6.2. Silhouette Score\n",
    "\n",
    "Un enfoque más preciso y costoso desde el punto de vista computacional es utilizar el Silhouette Score (o puntuación de silueta), que es el coeficiente de silueta medio de todas las instancias.\n",
    "\n",
    "El Silhouette Score de una instancia es igual a $\\frac{b-a}{max(a,b)} \\in [-1,1]$\n",
    "- $a$: distancia media a otras instancias del mismo clúster.\n",
    "- $b$: distancia media a instancias en el siguiente clúster más cercano.\n",
    "Resultado:\n",
    "- $+1$ significa que la instancia está bien dentro de su propio clúster y lejos de otros clústeres.\n",
    "- $0$ significa que la instancia se encuentra en el límite entre dos clústeres.\n",
    "- $-1$ significa que la instancia puede estar en el clúster incorrecto.\n",
    "\n",
    "El Silhouette Score mide una puntuación de **densidad** de clústeres."
   ],
   "metadata": {
    "collapsed": false,
    "pycharm": {
     "name": "#%% md\n"
    }
   }
  },
  {
   "cell_type": "code",
   "source": [
    "from sklearn.metrics import silhouette_score"
   ],
   "metadata": {
    "collapsed": false,
    "pycharm": {
     "name": "#%%\n"
    }
   },
   "execution_count": 21,
   "outputs": []
  },
  {
   "cell_type": "code",
   "execution_count": 22,
   "outputs": [
    {
     "data": {
      "text/plain": "0.7246405370789717"
     },
     "execution_count": 22,
     "metadata": {},
     "output_type": "execute_result"
    }
   ],
   "source": [
    "silhouette_score(X, kmeans.labels_, metric='euclidean')"
   ],
   "metadata": {
    "collapsed": false,
    "pycharm": {
     "name": "#%%\n"
    }
   }
  },
  {
   "cell_type": "markdown",
   "source": [
    "Vamos a comparar el silhouette score para diferentes números de clústers:"
   ],
   "metadata": {
    "collapsed": false,
    "pycharm": {
     "name": "#%% md\n"
    }
   }
  },
  {
   "cell_type": "code",
   "source": [
    "scores = list()\n",
    "for k in range(2, 10): # Es hasta 10 porque no nos interesa mas grupos\n",
    "    kmeans = KMeans(n_clusters=k)\n",
    "    kmeans.fit(X)\n",
    "    scores.append(silhouette_score(X, kmeans.labels_, metric='euclidean'))\n",
    "    del(kmeans)"
   ],
   "metadata": {
    "collapsed": false,
    "pycharm": {
     "name": "#%%\n"
    }
   },
   "execution_count": 23,
   "outputs": []
  },
  {
   "cell_type": "code",
   "execution_count": 24,
   "outputs": [
    {
     "data": {
      "text/plain": "<Figure size 432x288 with 1 Axes>",
      "image/png": "[encoded data removed]"
     },
     "metadata": {
      "needs_background": "light"
     },
     "output_type": "display_data"
    }
   ],
   "source": [
    "plt.plot(list(range(2, 10)), scores)\n",
    "plt.xlabel('Number of Clusters')\n",
    "plt.ylabel('Silhouette Score')\n",
    "plt.show()"
   ],
   "metadata": {
    "collapsed": false,
    "pycharm": {
     "name": "#%%\n"
    }
   }
  },
  {
   "cell_type": "markdown",
   "source": [
    "Esta es una mejor visualización porque muestra la importancia de una pequeña cantidad de clústeres.\n",
    "\n",
    "Se obtiene una visualización aún más informativa cuando trazamos el coeficiente de silueta de cada instancia, ordenados por el grupo al que están asignados y el valor del coeficiente. La línea discontinua indica el coeficiente de silueta medio:"
   ],
   "metadata": {
    "collapsed": false,
    "pycharm": {
     "name": "#%% md\n"
    }
   }
  },
  {
   "cell_type": "markdown",
   "source": [
    "<div style=\"text-align:center\">\n",
    "<img style=\"width:50%\" src=\"img/silhouette_diagram.png\" width=800 heigth=800>\n",
    "</div>"
   ],
   "metadata": {
    "collapsed": false
   }
  },
  {
   "cell_type": "markdown",
   "source": [
    "Cuando la mayoría de las instancias en un clúster tienen un coeficiente más bajo que esta puntuación, entonces el clúster es bastante malo, ya que esto significa que sus instancias están demasiado cerca de otros clústeres. En este ejemplo, `4` y `5` se ven bien y parece una buena idea usar $k=5$ para obtener grupos de tamaños similares."
   ],
   "metadata": {
    "collapsed": false
   }
  },
  {
   "cell_type": "code",
   "execution_count": 25,
   "outputs": [
    {
     "data": {
      "text/plain": "<Figure size 1080x576 with 4 Axes>",
      "image/png": "[encoded data removed]"
     },
     "metadata": {
      "needs_background": "light"
     },
     "output_type": "display_data"
    }
   ],
   "source": [
    "# from sklearn.cluster import KMeans\n",
    "from yellowbrick.cluster import SilhouetteVisualizer # instalacion windows: pip install -U yellowbrick --user; instalacion linux: pip install yellowbrick\n",
    "import matplotlib.pyplot as plt\n",
    "%matplotlib inline\n",
    "\n",
    "\n",
    "# Generamos una vista de los distintos Silhouette score en función de K\n",
    "# Genera un subplot por cada uno de los clústeres generados\n",
    "# Genera scores para 3, 4, 5 y 6 Ks\n",
    "\n",
    "fig, ax = plt.subplots(2, 2, figsize=(15,8))\n",
    "\n",
    "for i in [3, 4, 5, 6]:\n",
    "    # Creamos una instancia del modelo K-Means en función del valor de K\n",
    "    km = KMeans(n_clusters=i, init='k-means++', n_init=10, max_iter=100, random_state=42)\n",
    "    q, mod = divmod(i-1, 2)\n",
    "    # Creamos una instancia de \"SilhouetteVisualizer\" con la instancia KMeans anterior\n",
    "    # Alimentamos el visualizador\n",
    "    visualizer = SilhouetteVisualizer(km, colors='yellowbrick', ax=ax[q-1][mod])\n",
    "    visualizer.fit(X)"
   ],
   "metadata": {
    "collapsed": false,
    "pycharm": {
     "name": "#%%\n"
    }
   }
  },
  {
   "cell_type": "markdown",
   "source": [
    "## 7. Limites de K-means\n",
    "\n",
    "- `K-means` no es perfecto, por lo que es necesario ejecutar el algoritmo varias veces para evitar soluciones subóptimas.\n",
    "\n",
    "- Otro factor limitante del algoritmo es que necesitamos especificar el número de clústers.\n",
    "\n",
    "- `K-means` tampoco se comporta muy bien cuando los grupos tienen diferentes tamaños, diferentes densidades o formas no esféricas.\n",
    "\n",
    "- Dependiendo de los datos, diferentes algoritmos de clustering pueden funcionar mejor (como `DBSCAN` o `Gaussian Mixtures`).\n",
    "\n",
    "- **Escalar las entradas con un Standard Scaler también es imprescindible con `K-means`.**\n"
   ],
   "metadata": {
    "collapsed": false
   }
  },
  {
   "cell_type": "markdown",
   "source": [
    "## INFORMACIÓN ADICIONAL SOBRE CLUSTERING\n",
    "\n",
    "### Uso de la agrupación en clústeres para el preprocesamiento\n",
    "\n",
    "El agrupamiento puede ser un enfoque eficiente para la reducción de la dimensionalidad. En particular, como paso de preprocesamiento antes de un algoritmo de aprendizaje supervisado.\n",
    "\n",
    "Como ejemplo del uso de la agrupación para la reducción de la dimensionalidad, abordemos el conjunto de datos de dígitos pequeños:"
   ],
   "metadata": {
    "collapsed": false
   }
  },
  {
   "cell_type": "code",
   "source": [
    "from sklearn.datasets import load_digits"
   ],
   "metadata": {
    "collapsed": false,
    "pycharm": {
     "name": "#%%\n"
    }
   },
   "execution_count": 26,
   "outputs": []
  },
  {
   "cell_type": "code",
   "execution_count": 27,
   "outputs": [
    {
     "data": {
      "text/plain": "((1797, 64), (1797,))"
     },
     "execution_count": 27,
     "metadata": {},
     "output_type": "execute_result"
    }
   ],
   "source": [
    "X, y = load_digits(return_X_y=True)\n",
    "X.shape, y.shape"
   ],
   "metadata": {
    "collapsed": false,
    "pycharm": {
     "name": "#%%\n"
    }
   }
  },
  {
   "cell_type": "code",
   "execution_count": 28,
   "outputs": [],
   "source": [
    "from sklearn.model_selection import train_test_split"
   ],
   "metadata": {
    "collapsed": false,
    "pycharm": {
     "name": "#%%\n"
    }
   }
  },
  {
   "cell_type": "code",
   "execution_count": 29,
   "outputs": [
    {
     "data": {
      "text/plain": "((1347, 64), (1347,), (450, 64), (450,))"
     },
     "execution_count": 29,
     "metadata": {},
     "output_type": "execute_result"
    }
   ],
   "source": [
    "X_train, X_test, y_train, y_test = train_test_split(X, y)\n",
    "X_train.shape, y_train.shape, X_test.shape, y_test.shape"
   ],
   "metadata": {
    "collapsed": false,
    "pycharm": {
     "name": "#%%\n"
    }
   }
  },
  {
   "cell_type": "markdown",
   "source": [
    "A continuación, ajuste un modelo de regresión logística:"
   ],
   "metadata": {
    "collapsed": false,
    "pycharm": {
     "name": "#%% md\n"
    }
   }
  },
  {
   "cell_type": "code",
   "source": [
    "from sklearn.linear_model import LogisticRegression"
   ],
   "metadata": {
    "collapsed": false,
    "pycharm": {
     "name": "#%%\n"
    }
   },
   "execution_count": 30,
   "outputs": []
  },
  {
   "cell_type": "code",
   "execution_count": 31,
   "outputs": [],
   "source": [
    "log_reg = LogisticRegression(solver='liblinear', multi_class='auto')"
   ],
   "metadata": {
    "collapsed": false,
    "pycharm": {
     "name": "#%%\n"
    }
   }
  },
  {
   "cell_type": "code",
   "execution_count": 32,
   "outputs": [
    {
     "data": {
      "text/plain": "LogisticRegression(solver='liblinear')"
     },
     "execution_count": 32,
     "metadata": {},
     "output_type": "execute_result"
    }
   ],
   "source": [
    "log_reg.fit(X_train, y_train)"
   ],
   "metadata": {
    "collapsed": false,
    "pycharm": {
     "name": "#%%\n"
    }
   }
  },
  {
   "cell_type": "code",
   "execution_count": 33,
   "outputs": [
    {
     "data": {
      "text/plain": "0.9644444444444444"
     },
     "execution_count": 33,
     "metadata": {},
     "output_type": "execute_result"
    }
   ],
   "source": [
    "log_reg.score(X_test, y_test)"
   ],
   "metadata": {
    "collapsed": false,
    "pycharm": {
     "name": "#%%\n"
    }
   }
  },
  {
   "cell_type": "markdown",
   "source": [
    "Esa es nuestra línea de base, $94.2%$ accuracy.\n",
    "\n",
    "Creamos una canalización que primero agrupará el conjunto de entrenamiento en \"50\" grupos y **reemplazará las imágenes con sus distancias a estos 50 grupos**, luego aplicaremos un modelo de regresión logística:"
   ],
   "metadata": {
    "collapsed": false,
    "pycharm": {
     "name": "#%% md\n"
    }
   }
  },
  {
   "cell_type": "code",
   "source": [
    "from sklearn.pipeline import Pipeline"
   ],
   "metadata": {
    "collapsed": false,
    "pycharm": {
     "name": "#%%\n"
    }
   },
   "execution_count": 34,
   "outputs": []
  },
  {
   "cell_type": "code",
   "execution_count": 35,
   "outputs": [],
   "source": [
    "pipeline = Pipeline(steps=[\n",
    "    (\"kmeans\", KMeans(n_clusters=50)),\n",
    "    (\"log_reg\", LogisticRegression(solver='liblinear', multi_class='auto'))\n",
    "])"
   ],
   "metadata": {
    "collapsed": false,
    "pycharm": {
     "name": "#%%\n"
    }
   }
  },
  {
   "cell_type": "code",
   "execution_count": 36,
   "outputs": [
    {
     "data": {
      "text/plain": "Pipeline(steps=[('kmeans', KMeans(n_clusters=50)),\n                ('log_reg', LogisticRegression(solver='liblinear'))])"
     },
     "execution_count": 36,
     "metadata": {},
     "output_type": "execute_result"
    }
   ],
   "source": [
    "pipeline.fit(X_train, y_train)"
   ],
   "metadata": {
    "collapsed": false,
    "pycharm": {
     "name": "#%%\n"
    }
   }
  },
  {
   "cell_type": "code",
   "execution_count": 37,
   "outputs": [
    {
     "data": {
      "text/plain": "0.9866666666666667"
     },
     "execution_count": 37,
     "metadata": {},
     "output_type": "execute_result"
    }
   ],
   "source": [
    "pipeline.score(X_test, y_test)"
   ],
   "metadata": {
    "collapsed": false,
    "pycharm": {
     "name": "#%%\n"
    }
   }
  },
  {
   "cell_type": "markdown",
   "source": [
    "Al reducir la dimensionalidad de la entrada, eliminamos gran parte del ruido y los patrones y las instancias fueron más fáciles de reconocer por el regresor logístico, pero elegimos el número de grupos arbitrariamente, seguramente podemos hacerlo mejor.\n",
    "\n",
    "Podemos usar `GridSearchCV` para encontrar el número óptimo de clústeres en función de la puntuación final de Logistic Regression:"
   ],
   "metadata": {
    "collapsed": false,
    "pycharm": {
     "name": "#%% md\n"
    }
   }
  },
  {
   "cell_type": "code",
   "source": [
    "from sklearn.model_selection import GridSearchCV"
   ],
   "metadata": {
    "collapsed": false,
    "pycharm": {
     "name": "#%%\n"
    }
   },
   "execution_count": 38,
   "outputs": []
  },
  {
   "cell_type": "code",
   "execution_count": 39,
   "outputs": [],
   "source": [
    "param_dict = dict(kmeans__n_clusters=range(75,125))"
   ],
   "metadata": {
    "collapsed": false,
    "pycharm": {
     "name": "#%%\n"
    }
   }
  },
  {
   "cell_type": "code",
   "execution_count": 40,
   "outputs": [],
   "source": [
    "grid_clf = GridSearchCV(pipeline, param_dict, cv=3, verbose=2)"
   ],
   "metadata": {
    "collapsed": false,
    "pycharm": {
     "name": "#%%\n"
    }
   }
  },
  {
   "cell_type": "code",
   "execution_count": 41,
   "outputs": [
    {
     "name": "stdout",
     "output_type": "stream",
     "text": [
      "Fitting 3 folds for each of 50 candidates, totalling 150 fits\n",
      "[CV] END ..............................kmeans__n_clusters=75; total time=   0.3s\n",
      "[CV] END ..............................kmeans__n_clusters=75; total time=   0.3s\n",
      "[CV] END ..............................kmeans__n_clusters=75; total time=   0.3s\n",
      "[CV] END ..............................kmeans__n_clusters=76; total time=   0.5s\n",
      "[CV] END ..............................kmeans__n_clusters=76; total time=   0.4s\n",
      "[CV] END ..............................kmeans__n_clusters=76; total time=   0.3s\n",
      "[CV] END ..............................kmeans__n_clusters=77; total time=   0.3s\n",
      "[CV] END ..............................kmeans__n_clusters=77; total time=   0.3s\n",
      "[CV] END ..............................kmeans__n_clusters=77; total time=   0.3s\n",
      "[CV] END ..............................kmeans__n_clusters=78; total time=   0.3s\n",
      "[CV] END ..............................kmeans__n_clusters=78; total time=   0.3s\n",
      "[CV] END ..............................kmeans__n_clusters=78; total time=   0.4s\n",
      "[CV] END ..............................kmeans__n_clusters=79; total time=   0.3s\n",
      "[CV] END ..............................kmeans__n_clusters=79; total time=   0.3s\n",
      "[CV] END ..............................kmeans__n_clusters=79; total time=   0.3s\n",
      "[CV] END ..............................kmeans__n_clusters=80; total time=   0.3s\n",
      "[CV] END ..............................kmeans__n_clusters=80; total time=   0.3s\n",
      "[CV] END ..............................kmeans__n_clusters=80; total time=   0.4s\n",
      "[CV] END ..............................kmeans__n_clusters=81; total time=   0.3s\n",
      "[CV] END ..............................kmeans__n_clusters=81; total time=   0.3s\n",
      "[CV] END ..............................kmeans__n_clusters=81; total time=   0.5s\n",
      "[CV] END ..............................kmeans__n_clusters=82; total time=   0.4s\n",
      "[CV] END ..............................kmeans__n_clusters=82; total time=   0.3s\n",
      "[CV] END ..............................kmeans__n_clusters=82; total time=   0.3s\n",
      "[CV] END ..............................kmeans__n_clusters=83; total time=   0.3s\n",
      "[CV] END ..............................kmeans__n_clusters=83; total time=   0.3s\n",
      "[CV] END ..............................kmeans__n_clusters=83; total time=   0.3s\n",
      "[CV] END ..............................kmeans__n_clusters=84; total time=   0.3s\n",
      "[CV] END ..............................kmeans__n_clusters=84; total time=   0.3s\n",
      "[CV] END ..............................kmeans__n_clusters=84; total time=   0.3s\n",
      "[CV] END ..............................kmeans__n_clusters=85; total time=   0.3s\n",
      "[CV] END ..............................kmeans__n_clusters=85; total time=   0.3s\n",
      "[CV] END ..............................kmeans__n_clusters=85; total time=   0.3s\n",
      "[CV] END ..............................kmeans__n_clusters=86; total time=   0.4s\n",
      "[CV] END ..............................kmeans__n_clusters=86; total time=   0.4s\n",
      "[CV] END ..............................kmeans__n_clusters=86; total time=   0.3s\n",
      "[CV] END ..............................kmeans__n_clusters=87; total time=   0.5s\n",
      "[CV] END ..............................kmeans__n_clusters=87; total time=   0.5s\n",
      "[CV] END ..............................kmeans__n_clusters=87; total time=   0.4s\n",
      "[CV] END ..............................kmeans__n_clusters=88; total time=   0.4s\n",
      "[CV] END ..............................kmeans__n_clusters=88; total time=   0.3s\n",
      "[CV] END ..............................kmeans__n_clusters=88; total time=   0.3s\n",
      "[CV] END ..............................kmeans__n_clusters=89; total time=   0.5s\n",
      "[CV] END ..............................kmeans__n_clusters=89; total time=   0.4s\n",
      "[CV] END ..............................kmeans__n_clusters=89; total time=   0.5s\n",
      "[CV] END ..............................kmeans__n_clusters=90; total time=   0.4s\n",
      "[CV] END ..............................kmeans__n_clusters=90; total time=   0.4s\n",
      "[CV] END ..............................kmeans__n_clusters=90; total time=   0.3s\n",
      "[CV] END ..............................kmeans__n_clusters=91; total time=   0.4s\n",
      "[CV] END ..............................kmeans__n_clusters=91; total time=   0.4s\n",
      "[CV] END ..............................kmeans__n_clusters=91; total time=   0.5s\n",
      "[CV] END ..............................kmeans__n_clusters=92; total time=   0.4s\n",
      "[CV] END ..............................kmeans__n_clusters=92; total time=   0.4s\n",
      "[CV] END ..............................kmeans__n_clusters=92; total time=   0.4s\n",
      "[CV] END ..............................kmeans__n_clusters=93; total time=   0.4s\n",
      "[CV] END ..............................kmeans__n_clusters=93; total time=   0.3s\n",
      "[CV] END ..............................kmeans__n_clusters=93; total time=   0.4s\n",
      "[CV] END ..............................kmeans__n_clusters=94; total time=   0.4s\n",
      "[CV] END ..............................kmeans__n_clusters=94; total time=   0.4s\n",
      "[CV] END ..............................kmeans__n_clusters=94; total time=   0.4s\n",
      "[CV] END ..............................kmeans__n_clusters=95; total time=   0.4s\n",
      "[CV] END ..............................kmeans__n_clusters=95; total time=   0.4s\n",
      "[CV] END ..............................kmeans__n_clusters=95; total time=   0.4s\n",
      "[CV] END ..............................kmeans__n_clusters=96; total time=   0.4s\n",
      "[CV] END ..............................kmeans__n_clusters=96; total time=   0.4s\n",
      "[CV] END ..............................kmeans__n_clusters=96; total time=   0.7s\n",
      "[CV] END ..............................kmeans__n_clusters=97; total time=   0.6s\n",
      "[CV] END ..............................kmeans__n_clusters=97; total time=   0.6s\n",
      "[CV] END ..............................kmeans__n_clusters=97; total time=   0.4s\n",
      "[CV] END ..............................kmeans__n_clusters=98; total time=   0.5s\n",
      "[CV] END ..............................kmeans__n_clusters=98; total time=   0.5s\n",
      "[CV] END ..............................kmeans__n_clusters=98; total time=   0.4s\n",
      "[CV] END ..............................kmeans__n_clusters=99; total time=   0.4s\n",
      "[CV] END ..............................kmeans__n_clusters=99; total time=   0.4s\n",
      "[CV] END ..............................kmeans__n_clusters=99; total time=   0.4s\n",
      "[CV] END .............................kmeans__n_clusters=100; total time=   0.5s\n",
      "[CV] END .............................kmeans__n_clusters=100; total time=   0.5s\n",
      "[CV] END .............................kmeans__n_clusters=100; total time=   0.7s\n",
      "[CV] END .............................kmeans__n_clusters=101; total time=   0.4s\n",
      "[CV] END .............................kmeans__n_clusters=101; total time=   0.4s\n",
      "[CV] END .............................kmeans__n_clusters=101; total time=   0.4s\n",
      "[CV] END .............................kmeans__n_clusters=102; total time=   0.5s\n",
      "[CV] END .............................kmeans__n_clusters=102; total time=   0.4s\n",
      "[CV] END .............................kmeans__n_clusters=102; total time=   0.4s\n",
      "[CV] END .............................kmeans__n_clusters=103; total time=   0.4s\n",
      "[CV] END .............................kmeans__n_clusters=103; total time=   0.4s\n",
      "[CV] END .............................kmeans__n_clusters=103; total time=   0.4s\n",
      "[CV] END .............................kmeans__n_clusters=104; total time=   0.6s\n",
      "[CV] END .............................kmeans__n_clusters=104; total time=   0.5s\n",
      "[CV] END .............................kmeans__n_clusters=104; total time=   0.7s\n",
      "[CV] END .............................kmeans__n_clusters=105; total time=   0.9s\n",
      "[CV] END .............................kmeans__n_clusters=105; total time=   0.7s\n",
      "[CV] END .............................kmeans__n_clusters=105; total time=   0.4s\n",
      "[CV] END .............................kmeans__n_clusters=106; total time=   0.5s\n",
      "[CV] END .............................kmeans__n_clusters=106; total time=   0.4s\n",
      "[CV] END .............................kmeans__n_clusters=106; total time=   0.5s\n",
      "[CV] END .............................kmeans__n_clusters=107; total time=   0.5s\n",
      "[CV] END .............................kmeans__n_clusters=107; total time=   0.5s\n",
      "[CV] END .............................kmeans__n_clusters=107; total time=   0.4s\n",
      "[CV] END .............................kmeans__n_clusters=108; total time=   0.6s\n",
      "[CV] END .............................kmeans__n_clusters=108; total time=   0.5s\n",
      "[CV] END .............................kmeans__n_clusters=108; total time=   0.5s\n",
      "[CV] END .............................kmeans__n_clusters=109; total time=   0.5s\n",
      "[CV] END .............................kmeans__n_clusters=109; total time=   0.5s\n",
      "[CV] END .............................kmeans__n_clusters=109; total time=   0.6s\n",
      "[CV] END .............................kmeans__n_clusters=110; total time=   0.6s\n",
      "[CV] END .............................kmeans__n_clusters=110; total time=   0.5s\n",
      "[CV] END .............................kmeans__n_clusters=110; total time=   0.5s\n",
      "[CV] END .............................kmeans__n_clusters=111; total time=   0.5s\n",
      "[CV] END .............................kmeans__n_clusters=111; total time=   0.5s\n",
      "[CV] END .............................kmeans__n_clusters=111; total time=   0.5s\n",
      "[CV] END .............................kmeans__n_clusters=112; total time=   0.6s\n",
      "[CV] END .............................kmeans__n_clusters=112; total time=   0.5s\n",
      "[CV] END .............................kmeans__n_clusters=112; total time=   0.6s\n",
      "[CV] END .............................kmeans__n_clusters=113; total time=   0.5s\n",
      "[CV] END .............................kmeans__n_clusters=113; total time=   0.5s\n",
      "[CV] END .............................kmeans__n_clusters=113; total time=   0.4s\n",
      "[CV] END .............................kmeans__n_clusters=114; total time=   0.5s\n",
      "[CV] END .............................kmeans__n_clusters=114; total time=   0.4s\n",
      "[CV] END .............................kmeans__n_clusters=114; total time=   0.5s\n",
      "[CV] END .............................kmeans__n_clusters=115; total time=   0.5s\n",
      "[CV] END .............................kmeans__n_clusters=115; total time=   0.5s\n",
      "[CV] END .............................kmeans__n_clusters=115; total time=   0.7s\n",
      "[CV] END .............................kmeans__n_clusters=116; total time=   0.5s\n",
      "[CV] END .............................kmeans__n_clusters=116; total time=   0.5s\n",
      "[CV] END .............................kmeans__n_clusters=116; total time=   0.5s\n",
      "[CV] END .............................kmeans__n_clusters=117; total time=   0.4s\n",
      "[CV] END .............................kmeans__n_clusters=117; total time=   0.6s\n",
      "[CV] END .............................kmeans__n_clusters=117; total time=   0.4s\n",
      "[CV] END .............................kmeans__n_clusters=118; total time=   0.5s\n",
      "[CV] END .............................kmeans__n_clusters=118; total time=   0.5s\n",
      "[CV] END .............................kmeans__n_clusters=118; total time=   0.5s\n",
      "[CV] END .............................kmeans__n_clusters=119; total time=   0.5s\n",
      "[CV] END .............................kmeans__n_clusters=119; total time=   0.5s\n",
      "[CV] END .............................kmeans__n_clusters=119; total time=   0.8s\n",
      "[CV] END .............................kmeans__n_clusters=120; total time=   0.5s\n",
      "[CV] END .............................kmeans__n_clusters=120; total time=   0.5s\n",
      "[CV] END .............................kmeans__n_clusters=120; total time=   0.5s\n",
      "[CV] END .............................kmeans__n_clusters=121; total time=   0.5s\n",
      "[CV] END .............................kmeans__n_clusters=121; total time=   0.5s\n",
      "[CV] END .............................kmeans__n_clusters=121; total time=   0.5s\n",
      "[CV] END .............................kmeans__n_clusters=122; total time=   0.5s\n",
      "[CV] END .............................kmeans__n_clusters=122; total time=   0.5s\n",
      "[CV] END .............................kmeans__n_clusters=122; total time=   0.5s\n",
      "[CV] END .............................kmeans__n_clusters=123; total time=   0.5s\n",
      "[CV] END .............................kmeans__n_clusters=123; total time=   0.7s\n",
      "[CV] END .............................kmeans__n_clusters=123; total time=   0.5s\n",
      "[CV] END .............................kmeans__n_clusters=124; total time=   0.5s\n",
      "[CV] END .............................kmeans__n_clusters=124; total time=   0.5s\n",
      "[CV] END .............................kmeans__n_clusters=124; total time=   0.5s\n"
     ]
    },
    {
     "data": {
      "text/plain": "GridSearchCV(cv=3,\n             estimator=Pipeline(steps=[('kmeans', KMeans(n_clusters=50)),\n                                       ('log_reg',\n                                        LogisticRegression(solver='liblinear'))]),\n             param_grid={'kmeans__n_clusters': range(75, 125)}, verbose=2)"
     },
     "execution_count": 41,
     "metadata": {},
     "output_type": "execute_result"
    }
   ],
   "source": [
    "grid_clf.fit(X_train, y_train)"
   ],
   "metadata": {
    "collapsed": false,
    "pycharm": {
     "name": "#%%\n"
    }
   }
  },
  {
   "cell_type": "code",
   "execution_count": 42,
   "outputs": [
    {
     "data": {
      "text/plain": "{'kmeans__n_clusters': 118}"
     },
     "execution_count": 42,
     "metadata": {},
     "output_type": "execute_result"
    }
   ],
   "source": [
    "grid_clf.best_params_"
   ],
   "metadata": {
    "collapsed": false,
    "pycharm": {
     "name": "#%%\n"
    }
   }
  },
  {
   "cell_type": "code",
   "execution_count": 43,
   "outputs": [
    {
     "data": {
      "text/plain": "0.9822222222222222"
     },
     "execution_count": 43,
     "metadata": {},
     "output_type": "execute_result"
    }
   ],
   "source": [
    "grid_clf.score(X_test, y_test)"
   ],
   "metadata": {
    "collapsed": false,
    "pycharm": {
     "name": "#%%\n"
    }
   }
  },
  {
   "cell_type": "markdown",
   "source": [
    "Con **`k=99`**, obtuvimos un aumento significativo de la precisión al reducir la dimensionalidad del conjunto de datos con un agrupamiento no supervisado antes de entrenar un regresor."
   ],
   "metadata": {
    "collapsed": false,
    "pycharm": {
     "name": "#%% md\n"
    }
   },
   "outputs": [
    {
     "data": {
      "text/plain": "0.9777777777777777"
     },
     "execution_count": 42,
     "metadata": {},
     "output_type": "execute_result"
    }
   ],
   "execution_count": 42
  },
  {
   "cell_type": "markdown",
   "source": [
    "### 8.2. Acelerados `K-means` y `Mini-Batch K-means`\n",
    "\n",
    "Se propuso otra [mejora importante](https://www.aaai.org/Papers/ICML/2003/ICML03-022.pdf) al algoritmo `K-means` y aceleró considerablemente el algoritmo al evitar muchos cálculos de distancia innecesarios . Esto se logró explotando la desigualdad del triángulo: la norma de una línea recta es siempre la distancia más corta entre dos puntos. El algoritmo realiza un seguimiento de los límites inferior y superior de las distancias entre las instancias y los centroides. Esta mejora también se implementa dentro de `sklearn`.\n",
    "\n",
    "Otro [artículo] (http://www.ra.ethz.ch/CDstore/www2010/www/p1177.pdf) propuso usar mini lotes en lugar del conjunto de datos completo para cada iteración. Esto **acelera** el algoritmo generalmente por un factor de tres o cuatro y hace posible agrupar grandes conjuntos de datos que no caben en la memoria.\n",
    "\n",
    "Usémoslo en `sklearn`:"
   ],
   "metadata": {
    "collapsed": false,
    "pycharm": {
     "name": "#%% md\n"
    }
   }
  },
  {
   "cell_type": "code",
   "execution_count": 44,
   "outputs": [],
   "source": [
    "from sklearn.cluster import MiniBatchKMeans"
   ],
   "metadata": {
    "collapsed": false,
    "pycharm": {
     "name": "#%%\n"
    }
   }
  },
  {
   "cell_type": "code",
   "execution_count": 45,
   "outputs": [],
   "source": [
    "minibatch_kmeans = MiniBatchKMeans(n_clusters=5)"
   ],
   "metadata": {
    "collapsed": false,
    "pycharm": {
     "name": "#%%\n"
    }
   }
  },
  {
   "cell_type": "code",
   "execution_count": 46,
   "outputs": [
    {
     "data": {
      "text/plain": "MiniBatchKMeans(n_clusters=5)"
     },
     "execution_count": 46,
     "metadata": {},
     "output_type": "execute_result"
    }
   ],
   "source": [
    "minibatch_kmeans.fit(X)"
   ],
   "metadata": {
    "collapsed": false,
    "pycharm": {
     "name": "#%%\n"
    }
   }
  },
  {
   "cell_type": "markdown",
   "source": [
    "Si nuestro conjunto de datos no cabe en la memoria, podemos usar `memmap` con el método `partial_fit()`.\n",
    "\n",
    "La ventaja de usar `MiniBtachKMeans` se vuelve significativa cuando elegimos una `k` grande para los clústeres. El procesamiento por lotes se vuelve mucho más rápido y el rendimiento se mantiene más o menos igual:\n",
    "\n",
    "<div style=\"text-align:center\">\n",
    "    <img style=\"width:50%\" src=\"img/inretia_speed.png\" width = \"1000\" height = \"500\">\n",
    "</div>"
   ],
   "metadata": {
    "collapsed": false,
    "pycharm": {
     "name": "#%% md\n"
    }
   }
  },
  {
   "cell_type": "code",
   "execution_count": 46,
   "outputs": [],
   "source": [],
   "metadata": {
    "collapsed": false,
    "pycharm": {
     "name": "#%%\n"
    }
   }
  }
 ],
 "metadata": {
  "kernelspec": {
   "display_name": "Python 3",
   "language": "python",
   "name": "python3"
  },
  "language_info": {
   "codemirror_mode": {
    "name": "ipython",
    "version": 3
   },
   "file_extension": ".py",
   "mimetype": "text/x-python",
   "name": "python",
   "nbconvert_exporter": "python",
   "pygments_lexer": "ipython3",
   "version": "3.8.6"
  }
 },
 "nbformat": 4,
 "nbformat_minor": 4
}