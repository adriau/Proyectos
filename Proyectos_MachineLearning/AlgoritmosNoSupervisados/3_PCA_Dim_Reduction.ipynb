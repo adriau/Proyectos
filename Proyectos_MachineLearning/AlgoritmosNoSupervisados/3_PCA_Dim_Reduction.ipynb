{
 "cells": [
  {
   "cell_type": "markdown",
   "source": [
    "# Reducción de dimensionalidad. PCA: Principal Component Analysis\n",
    "\n",
    "Muchos problemas de ML involucrarán muchas features (características) por instancia. No solo todas estas características hacen que el entrenamiento sea extremadamente lento, sino que también pueden hacer que sea mucho más difícil para un método de optimización encontrar una buena solución.\n",
    "\n",
    "Este problema a menudo se conoce como la **maldición de la dimensionalidad**. En un problema del mundo real, a menudo es posible reducir considerablemente el número de funciones. Esto da como resultado convertir un problema intratable en uno tratable.\n",
    "\n",
    "El objetivo es eliminar la cantidad máxima de funciones y minimizar la pérdida de información relacionada con una tarea específica. Sin embargo, la reducción de la dimensionalidad siempre causará alguna pérdida de información. También hará que nuestra canalización sea un poco más compleja y, por lo tanto, más difícil de mantener.\n",
    "\n",
    "La reducción de la dimensionalidad generalmente se lleva a cabo para **acelerar el entrenamiento** y es extremadamente útil para la visualización de datos al proyectar los datos en un espacio de 2-3 dimensional.\n",
    "\n",
    "La visualización de datos también es importante para comunicar nuestros hallazgos a personas que no son datascientists. En particular, a las personas que tomarán decisiones y que utilizarán los resultados.\n"
   ],
   "metadata": {
    "collapsed": false
   }
  },
  {
   "cell_type": "markdown",
   "source": [
    "<div style=\"text-align:center;\">\n",
    "    <img style=\"width:50%\" src=\"img/img_1.png\" />\n",
    "</div>\n",
    "\n",
    "<div style=\"text-align:center;\">\n",
    "    <img style=\"width:50%\" src=\"img/img.png\" />\n",
    "</div>"
   ],
   "metadata": {
    "collapsed": false,
    "pycharm": {
     "name": "#%% md\n"
    }
   }
  },
  {
   "cell_type": "markdown",
   "source": [
    "# Principales aproximaciones a la reducción de dimensianalidad"
   ],
   "metadata": {
    "collapsed": false
   }
  },
  {
   "cell_type": "markdown",
   "source": [
    "## Proyección\n",
    "\n",
    "En la mayoría de los problemas del mundo real, las instancias de entrenamiento no se distribuyen uniformemente entre las dimensiones. Muchas características son casi constantes, mientras que otras están altamente correlacionadas. Como resultado, todas las instancias de entrenamiento se asientan en un **subespacio** dimensional mucho más bajo del espacio dimensional alto.\n",
    "\n",
    "Aquí tenemos un ejemplo:\n",
    "\n",
    "<div style=\"text-align:center;\">\n",
    "    <img style=\"width:50%\" src=\"img/subspace_projection.png\" width = \"800\" height = \"500\"/>\n",
    "</div>\n",
    "\n",
    "Si proyectamos perpendicularmente cada instancia de entrenamiento en el subespacio, obtenemos un nuevo conjunto de datos 2D representado de la siguiente manera:\n",
    "\n",
    "<div style=\"text-align:center;\">\n",
    "    <img style=\"width:50%\" src=\"img/2d_projection.png\" width = \"800\" height = \"500\"/>\n",
    "</div>\n",
    "\n",
    "Sin embargo, la proyección no siempre es el mejor enfoque para la reducción de la dimensionalidad. En muchos casos, el subespacio puede girar y girar.\n"
   ],
   "metadata": {
    "collapsed": false
   }
  },
  {
   "cell_type": "markdown",
   "source": [
    "## Aprendizaje múltiple\n",
    "\n",
    "Un colector 2D es una forma 2D que se puede doblar y torcer en un espacio de dimensiones superior. De manera más general, una variedad d-dimensional es parte de un espacio n-dimensional (donde $d < n$), que localmente se parece a un hiperlugar d-dimensional.\n",
    "\n",
    "Muchos algoritmos de reducción de dimensionalidad funcionan modelando la variedad en la que se encuentran las instancias de entrenamiento, esto se denomina **Aprendizaje múltiple**. Se basa en la *suposición múltiple*, también llamada *hipótesis múltiple*, que establece que la mayoría de los conjuntos de datos de alta dimensión del mundo real se encuentran cerca de una variedad de dimensiones mucho más bajas. Esta suposición se observa muy a menudo empíricamente.\n",
    "\n",
    "Si tuviéramos que generar todas las imágenes aleatorias posibles en una cuadrícula de '28x28', solo una pequeña fracción de ellas se vería como dígitos escritos a mano. En otras palabras, los grados de libertad disponibles para nosotros si tuviéramos que crear una imagen digital son muy bajos en comparación con el grado de libertad que tenemos cuando queremos crear cualquier imagen que queramos. Estas restricciones tienden a comprimir el conjunto de datos en una variedad de menor dimensión.\n",
    "\n",
    "Una suposición adicional implícita es que la tarea en cuestión (ya sea la regresión o la clasificación) sería mucho más fácil si se realizara en el espacio múltiple de dimensiones inferiores. Sin embargo, esta suposición no siempre se cumple.\n",
    "\n",
    "Ejemplos a seguir:\n",
    "\n",
    "\n",
    "<div style=\"text-align:center;\">\n",
    "    <img style=\"width:50%\" src=\"img/manifold_classification.png\" width = \"800\" height = \"500\"/>\n",
    "</div>\n",
    "\n",
    "En definitiva, reducir la dimensionalidad de nuestro conjunto de datos acelerará el entrenamiento, pero no garantiza una solución más sencilla. Todo depende del conjunto de datos y de la tarea en cuestión.\n",
    "\n",
    "Ahora veremos el algoritmo de reducción de dimensionalidad más popular, el PCA."
   ],
   "metadata": {
    "collapsed": false
   }
  },
  {
   "cell_type": "markdown",
   "source": [
    "# PCA: Principal Component Analysis"
   ],
   "metadata": {
    "collapsed": false
   }
  },
  {
   "cell_type": "markdown",
   "source": [
    "El análisis de componentes principales es, con mucho, el algoritmo de reducción de dimensionalidad más popular.\n",
    "\n",
    "PCA es un algoritmo sensible a la escala relativa de las variables originales. El método de PCA permite por lo tanto “condensar” la información aportada por múltiples variables en solo unas pocas componentes. Esto lo convierte en un método muy útil de aplicar previa utilización de otras técnicas estadísticas tales como regresión, clustering… Aun así no hay que olvidar que sigue siendo necesario disponer del valor de las variables originales para calcular las componentes.\n",
    "\n",
    "\n",
    "Para aplicar PCA, primero, identificaremos el hiperplano que se encuentra más cerca de los datos. Luego, proyectaremos los datos en él."
   ],
   "metadata": {
    "collapsed": false
   }
  },
  {
   "cell_type": "markdown",
   "source": [
    "## Preservación de la varianza\n",
    "\n",
    "Queremos elegir un hiperplano que conserve la mayor varianza dentro de los datos. A continuación vamos a ver 3 intentos de proyecciones para 3 hiperplanos elegidos (eje 1D):\n",
    "\n",
    "<div style=\"text-align:center;\">\n",
    "    <img style=\"width:66%\" src=\"img/2D_variance_projection.png\" width = \"800\" height = \"500\"/>\n",
    "</div>\n",
    "\n",
    "**Parece razonable seleccionar el eje que conserva la máxima cantidad de varianza ya que lo más probable es que pierda menos información que otras proyecciones.**\n",
    "\n",
    "Otra forma alternativa de verlo es que al elegir el eje de la línea sólida (en lugar de los ejes con líneas discontinuas), estamos minimizando la distancia cuadrática media entre los puntos originales y sus proyecciones en el eje elegido. Esta es la idea simple detrás de PCA."
   ],
   "metadata": {
    "collapsed": false
   }
  },
  {
   "cell_type": "markdown",
   "source": [
    "## Componentes Principales\n",
    "\n",
    "PCA identifica el eje que representa la mayor cantidad de variación en el conjunto de entrenamiento. También encuentra un segundo eje, ortogonal al primero, que representa la mayor cantidad de varianza restante.\n",
    "\n",
    "Si estamos considerando un conjunto de datos de mayor dimensión, PCA también encontraría un tercer eje, un cuarto, un quinto, y así sucesivamente... (tantos ejes como el número de dimensiones en el conjunto de datos).\n",
    "\n",
    "El `i`ésimo eje se denomina `i`ésimo **componente principal** de los datos.\n",
    "\n",
    "Entonces, ¿cómo podemos encontrar los componentes principales de un conjunto de entrenamiento? Existe una técnica estándar de vectorización de matrices llamada *Descomposición de valores singulares (SVD)*. Esta técnica descompone el conjunto de entrenamiento $X$ en $X=U \\Sigma V^T$, $V$ que contiene los vectores unitarios que definen todos los componentes principales que buscamos:\n",
    "\n",
    "\n",
    "$$V=\n",
    "  \\begin{pmatrix}\n",
    "    \\vert & \\vert & \\dots & \\vert \\\\\n",
    "    c_1 & c_2 & \\dots & c_n \\\\\n",
    "    \\vert & \\vert & \\dots & \\vert \\\\\n",
    "  \\end{pmatrix}\n",
    "$$\n",
    "\n",
    "Ahora vamos a extraer los los componentes principales de un dataset usando la implementación `svd` de numpy."
   ],
   "metadata": {
    "collapsed": false
   }
  },
  {
   "cell_type": "markdown",
   "source": [
    "## Demo PCA\n",
    "\n",
    "### Generación de datos de muestra\n",
    "\n",
    "Vamos a generar algunos datos aleatorios:"
   ],
   "metadata": {
    "collapsed": false
   }
  },
  {
   "cell_type": "code",
   "execution_count": 98,
   "outputs": [],
   "source": [
    "import numpy as np\n",
    "import pandas as pd\n",
    "import matplotlib.pyplot as plt\n",
    "import seaborn as sns\n",
    "import sklearn"
   ],
   "metadata": {
    "collapsed": false,
    "pycharm": {
     "name": "#%%\n"
    }
   }
  },
  {
   "cell_type": "code",
   "execution_count": 99,
   "outputs": [
    {
     "data": {
      "text/plain": "((100,), (100,))"
     },
     "execution_count": 99,
     "metadata": {},
     "output_type": "execute_result"
    }
   ],
   "source": [
    "X = np.linspace(start=-1., stop=1., num=100) #generación de un array np de 100 puntos equipespaciados entre un mínimo y un máximo\n",
    "y = X + np.random.normal(size=100)/7. #el eje y será igual al X añadiendo cierta aleatoriedad (la función normal genera dichos números aleatorios con una distribución normal)\n",
    "X.shape, y.shape"
   ],
   "metadata": {
    "collapsed": false,
    "pycharm": {
     "name": "#%%\n"
    }
   }
  },
  {
   "cell_type": "code",
   "execution_count": 100,
   "outputs": [
    {
     "data": {
      "text/plain": "<Figure size 432x288 with 1 Axes>",
      "image/png": "[encoded data removed]"
     },
     "metadata": {
      "needs_background": "light"
     },
     "output_type": "display_data"
    }
   ],
   "source": [
    "plt.scatter(X, y, c='blue')\n",
    "plt.xlabel('$X_1$')\n",
    "plt.ylabel('$X_2$')\n",
    "plt.grid()\n",
    "plt.show()"
   ],
   "metadata": {
    "collapsed": false,
    "pycharm": {
     "name": "#%%\n"
    }
   }
  },
  {
   "cell_type": "code",
   "execution_count": 101,
   "outputs": [
    {
     "data": {
      "text/plain": "(100, 2)"
     },
     "execution_count": 101,
     "metadata": {},
     "output_type": "execute_result"
    }
   ],
   "source": [
    "X = np.concatenate((X[..., None], y[..., None]), axis=1) #creamos un array bidimensional de 100x2\n",
    "X.shape"
   ],
   "metadata": {
    "collapsed": false,
    "pycharm": {
     "name": "#%%\n"
    }
   }
  },
  {
   "cell_type": "code",
   "execution_count": 102,
   "outputs": [
    {
     "data": {
      "text/plain": "array([[-1.        , -0.86299133],\n       [-0.97979798, -0.8084679 ],\n       [-0.95959596, -0.93023824],\n       [-0.93939394, -1.05728927],\n       [-0.91919192, -0.84622674],\n       [-0.8989899 , -0.87636642],\n       [-0.87878788, -0.98813344],\n       [-0.85858586, -0.93642831],\n       [-0.83838384, -1.16753479],\n       [-0.81818182, -0.82609607],\n       [-0.7979798 , -0.69243962],\n       [-0.77777778, -0.58687043],\n       [-0.75757576, -0.80653551],\n       [-0.73737374, -0.86364044],\n       [-0.71717172, -0.62395435],\n       [-0.6969697 , -0.74504323],\n       [-0.67676768, -0.62919243],\n       [-0.65656566, -0.80030577],\n       [-0.63636364, -0.41269058],\n       [-0.61616162, -0.63397425],\n       [-0.5959596 , -0.75185606],\n       [-0.57575758, -0.67796856],\n       [-0.55555556, -0.60668709],\n       [-0.53535354, -0.5099248 ],\n       [-0.51515152, -0.53822523],\n       [-0.49494949, -0.52740995],\n       [-0.47474747, -0.61639267],\n       [-0.45454545, -0.31538427],\n       [-0.43434343, -0.58846803],\n       [-0.41414141, -0.287172  ],\n       [-0.39393939, -0.3830161 ],\n       [-0.37373737, -0.60176767],\n       [-0.35353535, -0.4028458 ],\n       [-0.33333333, -0.40605514],\n       [-0.31313131, -0.25403666],\n       [-0.29292929, -0.46022848],\n       [-0.27272727, -0.06474811],\n       [-0.25252525, -0.14840737],\n       [-0.23232323, -0.3101884 ],\n       [-0.21212121, -0.1035743 ],\n       [-0.19191919, -0.10094339],\n       [-0.17171717, -0.4771227 ],\n       [-0.15151515, -0.26654149],\n       [-0.13131313, -0.44055478],\n       [-0.11111111, -0.25274125],\n       [-0.09090909,  0.03611199],\n       [-0.07070707, -0.16343329],\n       [-0.05050505,  0.12074388],\n       [-0.03030303,  0.09345598],\n       [-0.01010101,  0.06486226],\n       [ 0.01010101, -0.14202501],\n       [ 0.03030303,  0.11534723],\n       [ 0.05050505, -0.10580928],\n       [ 0.07070707,  0.18908295],\n       [ 0.09090909,  0.0024551 ],\n       [ 0.11111111, -0.1417695 ],\n       [ 0.13131313,  0.33977978],\n       [ 0.15151515,  0.0172224 ],\n       [ 0.17171717,  0.03694793],\n       [ 0.19191919,  0.34806084],\n       [ 0.21212121,  0.24554229],\n       [ 0.23232323,  0.3415226 ],\n       [ 0.25252525, -0.01932475],\n       [ 0.27272727,  0.23530505],\n       [ 0.29292929,  0.34207406],\n       [ 0.31313131,  0.23190084],\n       [ 0.33333333,  0.5502506 ],\n       [ 0.35353535,  0.37554172],\n       [ 0.37373737,  0.43124928],\n       [ 0.39393939,  0.577564  ],\n       [ 0.41414141,  0.387351  ],\n       [ 0.43434343,  0.24721054],\n       [ 0.45454545,  0.47215487],\n       [ 0.47474747,  0.65814038],\n       [ 0.49494949,  0.57969015],\n       [ 0.51515152,  0.61521965],\n       [ 0.53535354,  0.42354007],\n       [ 0.55555556,  0.35700514],\n       [ 0.57575758,  0.39468232],\n       [ 0.5959596 ,  0.65030379],\n       [ 0.61616162,  0.77290238],\n       [ 0.63636364,  0.67676389],\n       [ 0.65656566,  0.620827  ],\n       [ 0.67676768,  0.63718638],\n       [ 0.6969697 ,  1.08717026],\n       [ 0.71717172,  0.39704484],\n       [ 0.73737374,  0.81503858],\n       [ 0.75757576,  0.88820349],\n       [ 0.77777778,  0.73892126],\n       [ 0.7979798 ,  0.86342927],\n       [ 0.81818182,  0.72311052],\n       [ 0.83838384,  1.04765619],\n       [ 0.85858586,  0.91283348],\n       [ 0.87878788,  0.81452937],\n       [ 0.8989899 ,  0.85738849],\n       [ 0.91919192,  0.94871122],\n       [ 0.93939394,  1.21826607],\n       [ 0.95959596,  1.17713358],\n       [ 0.97979798,  0.97923045],\n       [ 1.        ,  1.10237583]])"
     },
     "execution_count": 102,
     "metadata": {},
     "output_type": "execute_result"
    }
   ],
   "source": [
    "X_centered = X - X.mean(axis=0) #centramos el array bidimensional respecto la media para que tenga una media igual a 0 y desviación típica 1\n",
    "#Si nos fijamos la columna 0(X) no se ve alterada porque los puntos ya eran equiespaciados, pero sí que se ven alterados los puntos de la columna 1(y)\n",
    "X_centered"
   ],
   "metadata": {
    "collapsed": false,
    "pycharm": {
     "name": "#%%\n"
    }
   }
  },
  {
   "cell_type": "markdown",
   "source": [
    "### 3.3.2. Identificación de Componentes Principales: SVD (Descomposición en valores singulares)"
   ],
   "metadata": {
    "collapsed": false,
    "pycharm": {
     "name": "#%% md\n"
    }
   }
  },
  {
   "cell_type": "code",
   "execution_count": 103,
   "outputs": [],
   "source": [
    "U, s, Vt = np.linalg.svd(a=X_centered) #svd: singular value descomposition https://numpy.org/doc/stable/reference/generated/numpy.linalg.svd.html"
   ],
   "metadata": {
    "collapsed": false,
    "pycharm": {
     "name": "#%%\n"
    }
   }
  },
  {
   "cell_type": "code",
   "execution_count": 104,
   "outputs": [],
   "source": [
    "c1 = Vt.T[:, 0]\n",
    "c2 = Vt.T[:, 1]"
   ],
   "metadata": {
    "collapsed": false,
    "pycharm": {
     "name": "#%%\n"
    }
   }
  },
  {
   "cell_type": "code",
   "execution_count": 105,
   "outputs": [
    {
     "data": {
      "text/plain": "(array([0.6845505 , 0.72896544]), array([ 0.72896544, -0.6845505 ]))"
     },
     "execution_count": 105,
     "metadata": {},
     "output_type": "execute_result"
    }
   ],
   "source": [
    "c1, c2"
   ],
   "metadata": {
    "collapsed": false,
    "pycharm": {
     "name": "#%%\n"
    }
   }
  },
  {
   "cell_type": "markdown",
   "source": [
    "Los dos puntos c1 y c2 en 2D representan los puntos del vector unitario (origen en (0,0)) correspondientes a los 2 componentes principales (ejes que conservan la varianza). PCA asume que el conjunto de datos se centra en el origen, pero la implementación de `scikit-learn` se encarga de centrar los datos."
   ],
   "metadata": {
    "collapsed": false
   }
  },
  {
   "cell_type": "markdown",
   "source": [
    "### 3.3.3. Projección en $d$ dimensiones\n",
    "\n",
    "Una vez que hemos identificado todos los componentes principales, podemos reducir la dimensionalidad del dataset a $d$ dimensiones proyectándolo en el hiperplano definido por los primeros $d$ componentes principales.\n",
    "\n",
    "La selección de este hiperplano garantiza que la proyección conserve la mayor varianza posible.\n",
    "\n",
    "Para proyectar el conjunto de entrenamiento en el hiperplano y obtener un conjunto de datos reducido $X_{d-proj}$ de dimensionalidad $d$, calculamos la multiplicación matricial de la matriz del conjunto de entrenamiento $X$ por la matriz $W_{d}$.\n",
    "$W_{d}$ es la matriz que contiene las primeras $d$ columnas de $V$ que representan los componentes principales.\n",
    "\n",
    "$$X_{d-proj}=XW_d$$\n",
    "\n",
    "Vamos a hacerlo en Python:"
   ],
   "metadata": {
    "collapsed": false
   }
  },
  {
   "cell_type": "code",
   "execution_count": 106,
   "outputs": [],
   "source": [
    "W2 = Vt.T[:, :2]"
   ],
   "metadata": {
    "collapsed": false,
    "pycharm": {
     "name": "#%%\n"
    }
   }
  },
  {
   "cell_type": "code",
   "execution_count": 107,
   "outputs": [
    {
     "data": {
      "text/plain": "(100, 2)"
     },
     "execution_count": 107,
     "metadata": {},
     "output_type": "execute_result"
    }
   ],
   "source": [
    "X2D = X_centered.dot(W2)\n",
    "X2D.shape"
   ],
   "metadata": {
    "collapsed": false,
    "pycharm": {
     "name": "#%%\n"
    }
   }
  },
  {
   "cell_type": "markdown",
   "source": [
    "Utlizando Scikit-Learn"
   ],
   "metadata": {
    "collapsed": false
   }
  },
  {
   "cell_type": "code",
   "execution_count": 108,
   "outputs": [],
   "source": [
    "from sklearn.decomposition import PCA"
   ],
   "metadata": {
    "collapsed": false,
    "pycharm": {
     "name": "#%%\n"
    }
   }
  },
  {
   "cell_type": "code",
   "execution_count": 109,
   "outputs": [],
   "source": [
    "pca = PCA(n_components=2) # Si pongo None los coge e intenta hacerlo para todos.\n",
    "# Crea el numero de componentes que le indicamos."
   ],
   "metadata": {
    "collapsed": false,
    "pycharm": {
     "name": "#%%\n"
    }
   }
  },
  {
   "cell_type": "code",
   "execution_count": 110,
   "outputs": [],
   "source": [
    "X2D = pca.fit_transform(X)"
   ],
   "metadata": {
    "collapsed": false,
    "pycharm": {
     "name": "#%%\n"
    }
   }
  },
  {
   "cell_type": "code",
   "execution_count": 111,
   "outputs": [],
   "source": [
    "assert np.all(np.abs(pca.components_) == np.abs(W2))"
   ],
   "metadata": {
    "collapsed": false,
    "pycharm": {
     "name": "#%%\n"
    }
   }
  },
  {
   "cell_type": "markdown",
   "source": [
    "### 3.3.4. Ratio de varianza definida/explicada (Explained Variance Ratio)\n",
    "\n",
    "Ahora vamos a mostrarel porcentaje de varianza explicada/definida por cada una de las variables/componentes de la muestra. (El porcentaje o ratio indica la proporción de la varianza del conjunto de datos que se encuentra a lo largo de cada componente principal)\n",
    "\n",
    "Si consultadmos nuestro modelo de scikit-learn nos devuelve:"
   ],
   "metadata": {
    "collapsed": false
   }
  },
  {
   "cell_type": "code",
   "execution_count": 112,
   "outputs": [
    {
     "data": {
      "text/plain": "(array([0.98684695, 0.01315305]), 1.0)"
     },
     "execution_count": 112,
     "metadata": {},
     "output_type": "execute_result"
    }
   ],
   "source": [
    "pca.explained_variance_ratio_, np.sum(pca.explained_variance_ratio_)"
   ],
   "metadata": {
    "collapsed": false,
    "pycharm": {
     "name": "#%%\n"
    }
   }
  },
  {
   "cell_type": "markdown",
   "source": [
    "Este valor nos quiere decir que utilizando las 2 primeras variables (sobretodo la primera que ya aporta un 98%) obtendríamos un 99% de la información que nos aporta el dataset"
   ],
   "metadata": {
    "collapsed": false,
    "pycharm": {
     "name": "#%% md\n"
    }
   }
  },
  {
   "cell_type": "markdown",
   "source": [
    "###  3.3.5. Selección del número correcto de dimensiones\n",
    "\n",
    "Deberíamos elegir la número de dimensiones que sumen una gran parte de la varianza que se encuentra dentro del conjunto de datos original (Ejemplo: $>=95\\%$), a menos que estemos reduciendo la dimensionalidad para visualizar los datos.\n",
    "\n",
    "Hagámoslo en scikit-learn:"
   ],
   "metadata": {
    "collapsed": false
   }
  },
  {
   "cell_type": "code",
   "execution_count": null,
   "outputs": [],
   "source": [
    "pca = PCA()"
   ],
   "metadata": {
    "collapsed": false,
    "pycharm": {
     "name": "#%%\n"
    }
   }
  },
  {
   "cell_type": "code",
   "execution_count": null,
   "outputs": [],
   "source": [
    "pca.fit(X)"
   ],
   "metadata": {
    "collapsed": false,
    "pycharm": {
     "name": "#%%\n"
    }
   }
  },
  {
   "cell_type": "code",
   "execution_count": null,
   "outputs": [],
   "source": [
    "cumsum = np.cumsum(pca.explained_variance_ratio_)"
   ],
   "metadata": {
    "collapsed": false,
    "pycharm": {
     "name": "#%%\n"
    }
   }
  },
  {
   "cell_type": "code",
   "execution_count": null,
   "outputs": [],
   "source": [
    "d = np.argmax(cumsum >= .95) + 1"
   ],
   "metadata": {
    "collapsed": false,
    "pycharm": {
     "name": "#%%\n"
    }
   }
  },
  {
   "cell_type": "code",
   "execution_count": null,
   "outputs": [],
   "source": [
    "d"
   ],
   "metadata": {
    "collapsed": false,
    "pycharm": {
     "name": "#%%\n"
    }
   }
  },
  {
   "cell_type": "markdown",
   "source": [
    "Luego volvemos a ejecutar el entrenamiento PCA usando $d$. Sin embargo, hay una opción mucho mejor, la de especificar un valor flotante para `n_components` como la relación de varianza que queremos conservar."
   ],
   "metadata": {
    "collapsed": false
   }
  },
  {
   "cell_type": "code",
   "execution_count": 123,
   "outputs": [],
   "source": [
    "pca = PCA(n_components=0.95)"
   ],
   "metadata": {
    "collapsed": false,
    "pycharm": {
     "name": "#%%\n"
    }
   }
  },
  {
   "cell_type": "code",
   "execution_count": 124,
   "outputs": [],
   "source": [
    "X_reduced = pca.fit_transform(X)"
   ],
   "metadata": {
    "collapsed": false,
    "pycharm": {
     "name": "#%%\n"
    }
   }
  },
  {
   "cell_type": "markdown",
   "source": [
    "## EXTRA: PCA para compresión\n",
    "\n",
    "Después de la reducción de dimensionalidad, el conjunto de entrenamiento ocupa mucho menos espacio.\n",
    "\n",
    "También es posible descomprimir el conjunto de datos reducido a $784$ (en el caso de MNIST) aplicando **la transformación inversa de la proyección PCA**. Esto no nos devolverá los datos originales ya que el 5 % de la varianza se perdió durante la compresión, pero probablemente estará cerca del conjunto de datos original.\n",
    "\n",
    "La distancia cuadrática media entre el conjunto de datos original y el conjunto de datos descomprimido se denomina error de reconstrucción.\n",
    "\n",
    "Si lo queremos calcular con scikit-learn:"
   ],
   "metadata": {
    "collapsed": false
   }
  },
  {
   "cell_type": "code",
   "execution_count": 113,
   "outputs": [],
   "source": [
    "from sklearn import datasets\n",
    "from sklearn.model_selection import train_test_split"
   ],
   "metadata": {
    "collapsed": false,
    "pycharm": {
     "name": "#%%\n"
    }
   }
  },
  {
   "cell_type": "code",
   "execution_count": 114,
   "outputs": [],
   "source": [
    "X, y = datasets.fetch_openml(name='mnist_784', return_X_y=True)"
   ],
   "metadata": {
    "collapsed": false,
    "pycharm": {
     "name": "#%%\n"
    }
   }
  },
  {
   "cell_type": "code",
   "execution_count": 115,
   "outputs": [],
   "source": [
    "X_train, X_test, y_train, y_test = train_test_split(X, y, test_size=0.33)"
   ],
   "metadata": {
    "collapsed": false,
    "pycharm": {
     "name": "#%%\n"
    }
   }
  },
  {
   "cell_type": "code",
   "execution_count": 116,
   "outputs": [
    {
     "data": {
      "text/plain": "((46900, 784), (23100, 784), (46900,), (23100,))"
     },
     "execution_count": 116,
     "metadata": {},
     "output_type": "execute_result"
    }
   ],
   "source": [
    "X_train.shape, X_test.shape, y_train.shape, y_test.shape"
   ],
   "metadata": {
    "collapsed": false,
    "pycharm": {
     "name": "#%%\n"
    }
   }
  },
  {
   "cell_type": "code",
   "execution_count": 117,
   "outputs": [],
   "source": [
    "pca = PCA(n_components=154)"
   ],
   "metadata": {
    "collapsed": false,
    "pycharm": {
     "name": "#%%\n"
    }
   }
  },
  {
   "cell_type": "code",
   "execution_count": 118,
   "outputs": [],
   "source": [
    "X_reduced = pca.fit_transform(X_train)"
   ],
   "metadata": {
    "collapsed": false,
    "pycharm": {
     "name": "#%%\n"
    }
   }
  },
  {
   "cell_type": "code",
   "execution_count": 119,
   "outputs": [],
   "source": [
    "X_recovered = pca.inverse_transform(X_reduced)"
   ],
   "metadata": {
    "collapsed": false,
    "pycharm": {
     "name": "#%%\n"
    }
   }
  },
  {
   "cell_type": "code",
   "execution_count": 120,
   "outputs": [
    {
     "ename": "KeyError",
     "evalue": "0",
     "output_type": "error",
     "traceback": [
      "\u001B[0;31m---------------------------------------------------------------------------\u001B[0m",
      "\u001B[0;31mKeyError\u001B[0m                                  Traceback (most recent call last)",
      "\u001B[0;32m~/anaconda3/lib/python3.9/site-packages/pandas/core/indexes/base.py\u001B[0m in \u001B[0;36mget_loc\u001B[0;34m(self, key, method, tolerance)\u001B[0m\n\u001B[1;32m   3360\u001B[0m             \u001B[0;32mtry\u001B[0m\u001B[0;34m:\u001B[0m\u001B[0;34m\u001B[0m\u001B[0;34m\u001B[0m\u001B[0m\n\u001B[0;32m-> 3361\u001B[0;31m                 \u001B[0;32mreturn\u001B[0m \u001B[0mself\u001B[0m\u001B[0;34m.\u001B[0m\u001B[0m_engine\u001B[0m\u001B[0;34m.\u001B[0m\u001B[0mget_loc\u001B[0m\u001B[0;34m(\u001B[0m\u001B[0mcasted_key\u001B[0m\u001B[0;34m)\u001B[0m\u001B[0;34m\u001B[0m\u001B[0;34m\u001B[0m\u001B[0m\n\u001B[0m\u001B[1;32m   3362\u001B[0m             \u001B[0;32mexcept\u001B[0m \u001B[0mKeyError\u001B[0m \u001B[0;32mas\u001B[0m \u001B[0merr\u001B[0m\u001B[0;34m:\u001B[0m\u001B[0;34m\u001B[0m\u001B[0;34m\u001B[0m\u001B[0m\n",
      "\u001B[0;32m~/anaconda3/lib/python3.9/site-packages/pandas/_libs/index.pyx\u001B[0m in \u001B[0;36mpandas._libs.index.IndexEngine.get_loc\u001B[0;34m()\u001B[0m\n",
      "\u001B[0;32m~/anaconda3/lib/python3.9/site-packages/pandas/_libs/index.pyx\u001B[0m in \u001B[0;36mpandas._libs.index.IndexEngine.get_loc\u001B[0;34m()\u001B[0m\n",
      "\u001B[0;32mpandas/_libs/hashtable_class_helper.pxi\u001B[0m in \u001B[0;36mpandas._libs.hashtable.PyObjectHashTable.get_item\u001B[0;34m()\u001B[0m\n",
      "\u001B[0;32mpandas/_libs/hashtable_class_helper.pxi\u001B[0m in \u001B[0;36mpandas._libs.hashtable.PyObjectHashTable.get_item\u001B[0;34m()\u001B[0m\n",
      "\u001B[0;31mKeyError\u001B[0m: 0",
      "\nThe above exception was the direct cause of the following exception:\n",
      "\u001B[0;31mKeyError\u001B[0m                                  Traceback (most recent call last)",
      "\u001B[0;32m/tmp/ipykernel_8800/3249458077.py\u001B[0m in \u001B[0;36m<module>\u001B[0;34m\u001B[0m\n\u001B[0;32m----> 1\u001B[0;31m \u001B[0mplt\u001B[0m\u001B[0;34m.\u001B[0m\u001B[0mimshow\u001B[0m\u001B[0;34m(\u001B[0m\u001B[0mX_train\u001B[0m\u001B[0;34m[\u001B[0m\u001B[0;36m0\u001B[0m\u001B[0;34m]\u001B[0m\u001B[0;34m.\u001B[0m\u001B[0mreshape\u001B[0m\u001B[0;34m(\u001B[0m\u001B[0;36m28\u001B[0m\u001B[0;34m,\u001B[0m \u001B[0;36m28\u001B[0m\u001B[0;34m)\u001B[0m\u001B[0;34m,\u001B[0m \u001B[0mcmap\u001B[0m\u001B[0;34m=\u001B[0m\u001B[0;34m'binary'\u001B[0m\u001B[0;34m)\u001B[0m\u001B[0;34m\u001B[0m\u001B[0;34m\u001B[0m\u001B[0m\n\u001B[0m\u001B[1;32m      2\u001B[0m \u001B[0mplt\u001B[0m\u001B[0;34m.\u001B[0m\u001B[0maxis\u001B[0m\u001B[0;34m(\u001B[0m\u001B[0;34m'off'\u001B[0m\u001B[0;34m)\u001B[0m\u001B[0;34m\u001B[0m\u001B[0;34m\u001B[0m\u001B[0m\n\u001B[1;32m      3\u001B[0m \u001B[0mplt\u001B[0m\u001B[0;34m.\u001B[0m\u001B[0mshow\u001B[0m\u001B[0;34m(\u001B[0m\u001B[0;34m)\u001B[0m\u001B[0;34m\u001B[0m\u001B[0;34m\u001B[0m\u001B[0m\n",
      "\u001B[0;32m~/anaconda3/lib/python3.9/site-packages/pandas/core/frame.py\u001B[0m in \u001B[0;36m__getitem__\u001B[0;34m(self, key)\u001B[0m\n\u001B[1;32m   3456\u001B[0m             \u001B[0;32mif\u001B[0m \u001B[0mself\u001B[0m\u001B[0;34m.\u001B[0m\u001B[0mcolumns\u001B[0m\u001B[0;34m.\u001B[0m\u001B[0mnlevels\u001B[0m \u001B[0;34m>\u001B[0m \u001B[0;36m1\u001B[0m\u001B[0;34m:\u001B[0m\u001B[0;34m\u001B[0m\u001B[0;34m\u001B[0m\u001B[0m\n\u001B[1;32m   3457\u001B[0m                 \u001B[0;32mreturn\u001B[0m \u001B[0mself\u001B[0m\u001B[0;34m.\u001B[0m\u001B[0m_getitem_multilevel\u001B[0m\u001B[0;34m(\u001B[0m\u001B[0mkey\u001B[0m\u001B[0;34m)\u001B[0m\u001B[0;34m\u001B[0m\u001B[0;34m\u001B[0m\u001B[0m\n\u001B[0;32m-> 3458\u001B[0;31m             \u001B[0mindexer\u001B[0m \u001B[0;34m=\u001B[0m \u001B[0mself\u001B[0m\u001B[0;34m.\u001B[0m\u001B[0mcolumns\u001B[0m\u001B[0;34m.\u001B[0m\u001B[0mget_loc\u001B[0m\u001B[0;34m(\u001B[0m\u001B[0mkey\u001B[0m\u001B[0;34m)\u001B[0m\u001B[0;34m\u001B[0m\u001B[0;34m\u001B[0m\u001B[0m\n\u001B[0m\u001B[1;32m   3459\u001B[0m             \u001B[0;32mif\u001B[0m \u001B[0mis_integer\u001B[0m\u001B[0;34m(\u001B[0m\u001B[0mindexer\u001B[0m\u001B[0;34m)\u001B[0m\u001B[0;34m:\u001B[0m\u001B[0;34m\u001B[0m\u001B[0;34m\u001B[0m\u001B[0m\n\u001B[1;32m   3460\u001B[0m                 \u001B[0mindexer\u001B[0m \u001B[0;34m=\u001B[0m \u001B[0;34m[\u001B[0m\u001B[0mindexer\u001B[0m\u001B[0;34m]\u001B[0m\u001B[0;34m\u001B[0m\u001B[0;34m\u001B[0m\u001B[0m\n",
      "\u001B[0;32m~/anaconda3/lib/python3.9/site-packages/pandas/core/indexes/base.py\u001B[0m in \u001B[0;36mget_loc\u001B[0;34m(self, key, method, tolerance)\u001B[0m\n\u001B[1;32m   3361\u001B[0m                 \u001B[0;32mreturn\u001B[0m \u001B[0mself\u001B[0m\u001B[0;34m.\u001B[0m\u001B[0m_engine\u001B[0m\u001B[0;34m.\u001B[0m\u001B[0mget_loc\u001B[0m\u001B[0;34m(\u001B[0m\u001B[0mcasted_key\u001B[0m\u001B[0;34m)\u001B[0m\u001B[0;34m\u001B[0m\u001B[0;34m\u001B[0m\u001B[0m\n\u001B[1;32m   3362\u001B[0m             \u001B[0;32mexcept\u001B[0m \u001B[0mKeyError\u001B[0m \u001B[0;32mas\u001B[0m \u001B[0merr\u001B[0m\u001B[0;34m:\u001B[0m\u001B[0;34m\u001B[0m\u001B[0;34m\u001B[0m\u001B[0m\n\u001B[0;32m-> 3363\u001B[0;31m                 \u001B[0;32mraise\u001B[0m \u001B[0mKeyError\u001B[0m\u001B[0;34m(\u001B[0m\u001B[0mkey\u001B[0m\u001B[0;34m)\u001B[0m \u001B[0;32mfrom\u001B[0m \u001B[0merr\u001B[0m\u001B[0;34m\u001B[0m\u001B[0;34m\u001B[0m\u001B[0m\n\u001B[0m\u001B[1;32m   3364\u001B[0m \u001B[0;34m\u001B[0m\u001B[0m\n\u001B[1;32m   3365\u001B[0m         \u001B[0;32mif\u001B[0m \u001B[0mis_scalar\u001B[0m\u001B[0;34m(\u001B[0m\u001B[0mkey\u001B[0m\u001B[0;34m)\u001B[0m \u001B[0;32mand\u001B[0m \u001B[0misna\u001B[0m\u001B[0;34m(\u001B[0m\u001B[0mkey\u001B[0m\u001B[0;34m)\u001B[0m \u001B[0;32mand\u001B[0m \u001B[0;32mnot\u001B[0m \u001B[0mself\u001B[0m\u001B[0;34m.\u001B[0m\u001B[0mhasnans\u001B[0m\u001B[0;34m:\u001B[0m\u001B[0;34m\u001B[0m\u001B[0;34m\u001B[0m\u001B[0m\n",
      "\u001B[0;31mKeyError\u001B[0m: 0"
     ]
    }
   ],
   "source": [
    "plt.imshow(X_train[0].reshape(28, 28), cmap='binary')\n",
    "plt.axis('off')\n",
    "plt.show()"
   ],
   "metadata": {
    "collapsed": false,
    "pycharm": {
     "name": "#%%\n"
    }
   }
  },
  {
   "cell_type": "code",
   "execution_count": 121,
   "outputs": [
    {
     "data": {
      "text/plain": "<Figure size 432x288 with 1 Axes>",
      "image/png": "[encoded data removed]"
     },
     "metadata": {
      "needs_background": "light"
     },
     "output_type": "display_data"
    }
   ],
   "source": [
    "plt.imshow(X_recovered[0].reshape(28, 28), cmap='binary')\n",
    "plt.axis('off')\n",
    "plt.show()"
   ],
   "metadata": {
    "collapsed": false,
    "pycharm": {
     "name": "#%%\n"
    }
   }
  },
  {
   "cell_type": "markdown",
   "source": [
    "La siguiente es la ecuación de la transformación inversa:\n",
    "\n",
    "$$X_{recovered}=X_{d-proj}W_{d}^{T}$$"
   ],
   "metadata": {
    "collapsed": false
   }
  },
  {
   "cell_type": "markdown",
   "source": [
    "## EXTRA 2: PCA aleatorio\n",
    "\n",
    "Podemos usar un algoritmo estocástico llamado *PCA aleatorio* que encuentra rápidamente una aproximación de los primeros $d$ componentes principales. Su complejidad computacional es $O(m \\times d^{2})+O(d^3)$ en lugar de $O(m \\times n^{2})+O(n^3)$ de SVD. Entonces es dramáticamente más rápido que SVD cuando $d << n$.\n",
    "\n",
    "Usémoslo con `scikit-learn`:"
   ],
   "metadata": {
    "collapsed": false
   }
  },
  {
   "cell_type": "code",
   "execution_count": null,
   "outputs": [],
   "source": [
    "rnd_pca = PCA(n_components=154, svd_solver='randomized')"
   ],
   "metadata": {
    "collapsed": false,
    "pycharm": {
     "name": "#%%\n"
    }
   }
  },
  {
   "cell_type": "code",
   "execution_count": null,
   "outputs": [],
   "source": [
    "X_reduced = rnd_pca.fit_transform(X_train)"
   ],
   "metadata": {
    "collapsed": false,
    "pycharm": {
     "name": "#%%\n"
    }
   }
  },
  {
   "cell_type": "markdown",
   "source": [
    "## EXTRA 3: PCA incremental\n",
    "\n",
    "Un problema con las implementaciones anteriores es que requieren que todos los datos de entrenamiento quepan en la memoria. Afortunadamente, se han desarrollado algoritmos de **PCA incremental** que permiten dividir el conjunto de entrenamiento en mini lotes y alimentarlos uno a uno a la vez al algoritmo IPCA. Esto es útil cuando se tienen conjuntos de entrenamiento grandes o se está ejecutando online.\n",
    "\n",
    "Experimentemos con PCA incremental usando scikit-learn:"
   ],
   "metadata": {
    "collapsed": false
   }
  },
  {
   "cell_type": "code",
   "execution_count": null,
   "outputs": [],
   "source": [
    "from sklearn.decomposition import IncrementalPCA"
   ],
   "metadata": {
    "collapsed": false,
    "pycharm": {
     "name": "#%%\n"
    }
   }
  },
  {
   "cell_type": "code",
   "execution_count": null,
   "outputs": [],
   "source": [
    "n_batches = 100\n",
    "inc_pca = IncrementalPCA(n_components=154)"
   ],
   "metadata": {
    "collapsed": false,
    "pycharm": {
     "name": "#%%\n"
    }
   }
  },
  {
   "cell_type": "code",
   "execution_count": null,
   "outputs": [],
   "source": [
    "for X_batch in np.array_split(X_train, n_batches):\n",
    "    inc_pca.partial_fit(X_batch)"
   ],
   "metadata": {
    "collapsed": false,
    "pycharm": {
     "name": "#%%\n"
    }
   }
  },
  {
   "cell_type": "code",
   "execution_count": null,
   "outputs": [],
   "source": [
    "X_reduced = inc_pca.transform(X_train)"
   ],
   "metadata": {
    "collapsed": false,
    "pycharm": {
     "name": "#%%\n"
    }
   }
  }
 ],
 "metadata": {
  "kernelspec": {
   "display_name": "Python 3",
   "language": "python",
   "name": "python3"
  },
  "language_info": {
   "codemirror_mode": {
    "name": "ipython",
    "version": 3
   },
   "file_extension": ".py",
   "mimetype": "text/x-python",
   "name": "python",
   "nbconvert_exporter": "python",
   "pygments_lexer": "ipython3",
   "version": "3.8.6"
  }
 },
 "nbformat": 4,
 "nbformat_minor": 4
}