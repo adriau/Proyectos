{
 "cells": [
  {
   "cell_type": "markdown",
   "source": [
    "# Preprocessing\n",
    "#### UD2. Aprendizaxe Supervisada\n",
    "#### MP. Sistemas de Aprendizaxe Automáticos\n",
    "\n",
    "Para limpiar el conjunto de datos, es necesario manejar los valores que faltan y las features categóricas, porque la matemática subyacente en la mayoría de los modelos de Machine Learning asume que los datos son numéricos y no contienen valores desconocidos.\n",
    "Además, la librería Scikit Learn devuelve un error si se intenta entrenar un modelo como Regresión Lineal o Regresión Logística utilizando datos que contienen valores perdidos o no numéricos.\n",
    "Es por ello que en este notebook vamos a trabajar con:\n",
    "\n",
    "* Valores missing\n",
    "* Datos categóricos\n",
    "* Escalado y normalización"
   ],
   "metadata": {
    "collapsed": false,
    "id": "DuRMFaXp7xce"
   }
  },
  {
   "cell_type": "markdown",
   "source": [
    "## 1. Valores missing\n",
    "\n",
    "La falta de datos es quizás el rasgo más común de los datos impuros. Estos valores suelen tomar la forma de NaN o None.\n",
    "\n",
    "Hay varias maneras de rellenar los valores que faltan:\n",
    "\n",
    "* Puedes eliminar las líneas con los datos si el conjunto de datos es lo suficientemente grande y el porcentaje de valores perdidos es alto, más del 50%, por ejemplo.\n",
    "* Puedes rellenar todas las variables nulas con 0, si se trata de valor numéricos.\n",
    "* Puedes rellenar los valores perdidos con la media, la mediana o la moda (que es el valor más frecuente de la columna).\n",
    "* También puedes decidir rellenar los valores que faltan con cualquier valor que venga directamente después en la misma columna.\n",
    "\n",
    "* Estas decisiones dependen del tipo de datos, de lo que se quiera hacer con ellos y de la causa de la falta de valores. En realidad, el hecho de que algo sea popular no significa necesariamente que sea la elección correcta. La estrategia más común es utilizar el valor medio, pero dependiendo de los datos, se puede llegar a un enfoque totalmente diferente."
   ],
   "metadata": {
    "collapsed": false,
    "pycharm": {
     "name": "#%% md\n"
    },
    "id": "xOsarHqc7xcj"
   }
  },
  {
   "cell_type": "code",
   "execution_count": 1,
   "outputs": [
    {
     "data": {
      "text/plain": "             Customer  Product     Sales  Quantity  Discount   Profit\n0     Brosina Hoffman      NaN  1706.184       9.0       0.2  85.3092\n1     Brosina Hoffman   Phones   911.424       4.0       0.2  68.3568\n2  Zuschuss Donatelli      Art     8.560       2.0       0.0   2.4824\n3  Zuschuss Donatelli   Phones       NaN       3.0       0.2  16.0110\n4  Zuschuss Donatelli  Binders    22.720       4.0       0.2   7.3840",
      "text/html": "<div>\n<style scoped>\n    .dataframe tbody tr th:only-of-type {\n        vertical-align: middle;\n    }\n\n    .dataframe tbody tr th {\n        vertical-align: top;\n    }\n\n    .dataframe thead th {\n        text-align: right;\n    }\n</style>\n<table border=\"1\" class=\"dataframe\">\n  <thead>\n    <tr style=\"text-align: right;\">\n      <th></th>\n      <th>Customer</th>\n      <th>Product</th>\n      <th>Sales</th>\n      <th>Quantity</th>\n      <th>Discount</th>\n      <th>Profit</th>\n    </tr>\n  </thead>\n  <tbody>\n    <tr>\n      <th>0</th>\n      <td>Brosina Hoffman</td>\n      <td>NaN</td>\n      <td>1706.184</td>\n      <td>9.0</td>\n      <td>0.2</td>\n      <td>85.3092</td>\n    </tr>\n    <tr>\n      <th>1</th>\n      <td>Brosina Hoffman</td>\n      <td>Phones</td>\n      <td>911.424</td>\n      <td>4.0</td>\n      <td>0.2</td>\n      <td>68.3568</td>\n    </tr>\n    <tr>\n      <th>2</th>\n      <td>Zuschuss Donatelli</td>\n      <td>Art</td>\n      <td>8.560</td>\n      <td>2.0</td>\n      <td>0.0</td>\n      <td>2.4824</td>\n    </tr>\n    <tr>\n      <th>3</th>\n      <td>Zuschuss Donatelli</td>\n      <td>Phones</td>\n      <td>NaN</td>\n      <td>3.0</td>\n      <td>0.2</td>\n      <td>16.0110</td>\n    </tr>\n    <tr>\n      <th>4</th>\n      <td>Zuschuss Donatelli</td>\n      <td>Binders</td>\n      <td>22.720</td>\n      <td>4.0</td>\n      <td>0.2</td>\n      <td>7.3840</td>\n    </tr>\n  </tbody>\n</table>\n</div>"
     },
     "execution_count": 1,
     "metadata": {},
     "output_type": "execute_result"
    }
   ],
   "source": [
    "import pandas as pd\n",
    "import numpy as np\n",
    "\n",
    "%matplotlib inline\n",
    "\n",
    "df_missing=pd.read_excel(\"data/Sample - Superstore.xls\",sheet_name=\"Missing\")\n",
    "df_missing.head()"
   ],
   "metadata": {
    "pycharm": {
     "name": "#%%\n"
    },
    "id": "5C4ZEzZv7xck",
    "outputId": "df37f6ea-b0d3-4679-ee36-5285c88189dd"
   }
  },
  {
   "cell_type": "code",
   "execution_count": 2,
   "outputs": [
    {
     "data": {
      "text/plain": "array([['Brosina Hoffman', nan, 1706.1840000000002, 9.0, 0.2,\n        85.3091999999998],\n       ['Brosina Hoffman', 'Phones', 911.424, 4.0, 0.2,\n        68.35680000000002],\n       ['Zuschuss Donatelli', 'Art', 8.56, 2.0, 0.0, 2.4823999999999993],\n       ['Zuschuss Donatelli', 'Phones', nan, 3.0, 0.2, 16.01099999999998],\n       ['Zuschuss Donatelli', 'Binders', 22.72, 4.0, 0.2,\n        7.383999999999999],\n       ['Eric Hoffmann', 'Binders', 11.648000000000001, nan, 0.2, 4.2224],\n       ['Eric Hoffmann', 'Accessories', 90.57000000000001, 3.0, 0.0,\n        11.774100000000004],\n       ['Ruben Ausman', nan, 77.88, 2.0, 0.0, nan],\n       [nan, 'Accessories', 13.98, 2.0, 0.0, 6.151200000000001],\n       ['Kunst Miller', 'Binders', 25.824, 6.0, 0.2, 9.3612],\n       ['Kunst Miller', 'Paper', 146.73, 3.0, 0.0, 68.9631]], dtype=object)"
     },
     "execution_count": 2,
     "metadata": {},
     "output_type": "execute_result"
    }
   ],
   "source": [
    "df_missing.values"
   ],
   "metadata": {
    "pycharm": {
     "name": "#%%\n"
    },
    "id": "LhPCTcaI7xcm",
    "outputId": "2a7fb396-000d-479a-c75c-6104b259b173"
   }
  },
  {
   "cell_type": "code",
   "execution_count": 3,
   "outputs": [
    {
     "data": {
      "text/plain": "    Customer  Product  Sales  Quantity  Discount  Profit\n0      False     True  False     False     False   False\n1      False    False  False     False     False   False\n2      False    False  False     False     False   False\n3      False    False   True     False     False   False\n4      False    False  False     False     False   False\n5      False    False  False      True     False   False\n6      False    False  False     False     False   False\n7      False     True  False     False     False    True\n8       True    False  False     False     False   False\n9      False    False  False     False     False   False\n10     False    False  False     False     False   False",
      "text/html": "<div>\n<style scoped>\n    .dataframe tbody tr th:only-of-type {\n        vertical-align: middle;\n    }\n\n    .dataframe tbody tr th {\n        vertical-align: top;\n    }\n\n    .dataframe thead th {\n        text-align: right;\n    }\n</style>\n<table border=\"1\" class=\"dataframe\">\n  <thead>\n    <tr style=\"text-align: right;\">\n      <th></th>\n      <th>Customer</th>\n      <th>Product</th>\n      <th>Sales</th>\n      <th>Quantity</th>\n      <th>Discount</th>\n      <th>Profit</th>\n    </tr>\n  </thead>\n  <tbody>\n    <tr>\n      <th>0</th>\n      <td>False</td>\n      <td>True</td>\n      <td>False</td>\n      <td>False</td>\n      <td>False</td>\n      <td>False</td>\n    </tr>\n    <tr>\n      <th>1</th>\n      <td>False</td>\n      <td>False</td>\n      <td>False</td>\n      <td>False</td>\n      <td>False</td>\n      <td>False</td>\n    </tr>\n    <tr>\n      <th>2</th>\n      <td>False</td>\n      <td>False</td>\n      <td>False</td>\n      <td>False</td>\n      <td>False</td>\n      <td>False</td>\n    </tr>\n    <tr>\n      <th>3</th>\n      <td>False</td>\n      <td>False</td>\n      <td>True</td>\n      <td>False</td>\n      <td>False</td>\n      <td>False</td>\n    </tr>\n    <tr>\n      <th>4</th>\n      <td>False</td>\n      <td>False</td>\n      <td>False</td>\n      <td>False</td>\n      <td>False</td>\n      <td>False</td>\n    </tr>\n    <tr>\n      <th>5</th>\n      <td>False</td>\n      <td>False</td>\n      <td>False</td>\n      <td>True</td>\n      <td>False</td>\n      <td>False</td>\n    </tr>\n    <tr>\n      <th>6</th>\n      <td>False</td>\n      <td>False</td>\n      <td>False</td>\n      <td>False</td>\n      <td>False</td>\n      <td>False</td>\n    </tr>\n    <tr>\n      <th>7</th>\n      <td>False</td>\n      <td>True</td>\n      <td>False</td>\n      <td>False</td>\n      <td>False</td>\n      <td>True</td>\n    </tr>\n    <tr>\n      <th>8</th>\n      <td>True</td>\n      <td>False</td>\n      <td>False</td>\n      <td>False</td>\n      <td>False</td>\n      <td>False</td>\n    </tr>\n    <tr>\n      <th>9</th>\n      <td>False</td>\n      <td>False</td>\n      <td>False</td>\n      <td>False</td>\n      <td>False</td>\n      <td>False</td>\n    </tr>\n    <tr>\n      <th>10</th>\n      <td>False</td>\n      <td>False</td>\n      <td>False</td>\n      <td>False</td>\n      <td>False</td>\n      <td>False</td>\n    </tr>\n  </tbody>\n</table>\n</div>"
     },
     "execution_count": 3,
     "metadata": {},
     "output_type": "execute_result"
    }
   ],
   "source": [
    "df_missing.isnull()"
   ],
   "metadata": {
    "pycharm": {
     "name": "#%%\n"
    },
    "id": "ztkYWIEJ7xcn",
    "outputId": "81f92b43-c0d9-47e9-a9e0-99bb3f2b0596"
   }
  },
  {
   "cell_type": "code",
   "execution_count": 4,
   "outputs": [
    {
     "data": {
      "text/plain": "Customer    1\nProduct     2\nSales       1\nQuantity    1\nDiscount    0\nProfit      1\ndtype: int64"
     },
     "execution_count": 4,
     "metadata": {},
     "output_type": "execute_result"
    }
   ],
   "source": [
    "df_missing.isnull().sum()"
   ],
   "metadata": {
    "pycharm": {
     "name": "#%%\n"
    },
    "id": "V6Vn2zhQ7xco",
    "outputId": "86bc6393-9969-4e5f-8940-7ce145a09a17"
   }
  },
  {
   "cell_type": "code",
   "execution_count": 5,
   "outputs": [
    {
     "name": "stdout",
     "output_type": "stream",
     "text": [
      "Customer has 1 missing value(s)\n",
      "Product has 2 missing value(s)\n",
      "Sales has 1 missing value(s)\n",
      "Quantity has 1 missing value(s)\n",
      "Discount has NO missing value!\n",
      "Profit has 1 missing value(s)\n"
     ]
    }
   ],
   "source": [
    "for c in df_missing.columns:\n",
    "    miss = df_missing[c].isnull().sum()\n",
    "    if miss>0:\n",
    "        print(\"{} has {} missing value(s)\".format(c,miss))\n",
    "    else:\n",
    "        print(\"{} has NO missing value!\".format(c))"
   ],
   "metadata": {
    "pycharm": {
     "name": "#%%\n"
    },
    "id": "DMmWAsNx7xco",
    "outputId": "bf101c49-20a6-4a05-c121-6e7ea6d6a295"
   }
  },
  {
   "cell_type": "markdown",
   "source": [
    "### Rellenado de valores nulos"
   ],
   "metadata": {
    "collapsed": false,
    "pycharm": {
     "name": "#%% md\n"
    },
    "id": "JB27MZ007xcp"
   }
  },
  {
   "cell_type": "code",
   "execution_count": 6,
   "outputs": [
    {
     "data": {
      "text/plain": "              Customer      Product     Sales Quantity  Discount   Profit\n0      Brosina Hoffman         FILL  1706.184      9.0       0.2  85.3092\n1      Brosina Hoffman       Phones   911.424      4.0       0.2  68.3568\n2   Zuschuss Donatelli          Art      8.56      2.0       0.0   2.4824\n3   Zuschuss Donatelli       Phones      FILL      3.0       0.2   16.011\n4   Zuschuss Donatelli      Binders     22.72      4.0       0.2    7.384\n5        Eric Hoffmann      Binders    11.648     FILL       0.2   4.2224\n6        Eric Hoffmann  Accessories     90.57      3.0       0.0  11.7741\n7         Ruben Ausman         FILL     77.88      2.0       0.0     FILL\n8                 FILL  Accessories     13.98      2.0       0.0   6.1512\n9         Kunst Miller      Binders    25.824      6.0       0.2   9.3612\n10        Kunst Miller        Paper    146.73      3.0       0.0  68.9631",
      "text/html": "<div>\n<style scoped>\n    .dataframe tbody tr th:only-of-type {\n        vertical-align: middle;\n    }\n\n    .dataframe tbody tr th {\n        vertical-align: top;\n    }\n\n    .dataframe thead th {\n        text-align: right;\n    }\n</style>\n<table border=\"1\" class=\"dataframe\">\n  <thead>\n    <tr style=\"text-align: right;\">\n      <th></th>\n      <th>Customer</th>\n      <th>Product</th>\n      <th>Sales</th>\n      <th>Quantity</th>\n      <th>Discount</th>\n      <th>Profit</th>\n    </tr>\n  </thead>\n  <tbody>\n    <tr>\n      <th>0</th>\n      <td>Brosina Hoffman</td>\n      <td>FILL</td>\n      <td>1706.184</td>\n      <td>9.0</td>\n      <td>0.2</td>\n      <td>85.3092</td>\n    </tr>\n    <tr>\n      <th>1</th>\n      <td>Brosina Hoffman</td>\n      <td>Phones</td>\n      <td>911.424</td>\n      <td>4.0</td>\n      <td>0.2</td>\n      <td>68.3568</td>\n    </tr>\n    <tr>\n      <th>2</th>\n      <td>Zuschuss Donatelli</td>\n      <td>Art</td>\n      <td>8.56</td>\n      <td>2.0</td>\n      <td>0.0</td>\n      <td>2.4824</td>\n    </tr>\n    <tr>\n      <th>3</th>\n      <td>Zuschuss Donatelli</td>\n      <td>Phones</td>\n      <td>FILL</td>\n      <td>3.0</td>\n      <td>0.2</td>\n      <td>16.011</td>\n    </tr>\n    <tr>\n      <th>4</th>\n      <td>Zuschuss Donatelli</td>\n      <td>Binders</td>\n      <td>22.72</td>\n      <td>4.0</td>\n      <td>0.2</td>\n      <td>7.384</td>\n    </tr>\n    <tr>\n      <th>5</th>\n      <td>Eric Hoffmann</td>\n      <td>Binders</td>\n      <td>11.648</td>\n      <td>FILL</td>\n      <td>0.2</td>\n      <td>4.2224</td>\n    </tr>\n    <tr>\n      <th>6</th>\n      <td>Eric Hoffmann</td>\n      <td>Accessories</td>\n      <td>90.57</td>\n      <td>3.0</td>\n      <td>0.0</td>\n      <td>11.7741</td>\n    </tr>\n    <tr>\n      <th>7</th>\n      <td>Ruben Ausman</td>\n      <td>FILL</td>\n      <td>77.88</td>\n      <td>2.0</td>\n      <td>0.0</td>\n      <td>FILL</td>\n    </tr>\n    <tr>\n      <th>8</th>\n      <td>FILL</td>\n      <td>Accessories</td>\n      <td>13.98</td>\n      <td>2.0</td>\n      <td>0.0</td>\n      <td>6.1512</td>\n    </tr>\n    <tr>\n      <th>9</th>\n      <td>Kunst Miller</td>\n      <td>Binders</td>\n      <td>25.824</td>\n      <td>6.0</td>\n      <td>0.2</td>\n      <td>9.3612</td>\n    </tr>\n    <tr>\n      <th>10</th>\n      <td>Kunst Miller</td>\n      <td>Paper</td>\n      <td>146.73</td>\n      <td>3.0</td>\n      <td>0.0</td>\n      <td>68.9631</td>\n    </tr>\n  </tbody>\n</table>\n</div>"
     },
     "execution_count": 6,
     "metadata": {},
     "output_type": "execute_result"
    }
   ],
   "source": [
    "df_missing.fillna('FILL')"
   ],
   "metadata": {
    "pycharm": {
     "name": "#%%\n"
    },
    "id": "L40wC_W77xcq",
    "outputId": "1356b8be-841c-42a8-faa1-6a169d0d0185"
   }
  },
  {
   "cell_type": "code",
   "execution_count": 7,
   "outputs": [
    {
     "data": {
      "text/plain": "              Customer      Product\n0      Brosina Hoffman         FILL\n1      Brosina Hoffman       Phones\n2   Zuschuss Donatelli          Art\n3   Zuschuss Donatelli       Phones\n4   Zuschuss Donatelli      Binders\n5        Eric Hoffmann      Binders\n6        Eric Hoffmann  Accessories\n7         Ruben Ausman         FILL\n8                 FILL  Accessories\n9         Kunst Miller      Binders\n10        Kunst Miller        Paper",
      "text/html": "<div>\n<style scoped>\n    .dataframe tbody tr th:only-of-type {\n        vertical-align: middle;\n    }\n\n    .dataframe tbody tr th {\n        vertical-align: top;\n    }\n\n    .dataframe thead th {\n        text-align: right;\n    }\n</style>\n<table border=\"1\" class=\"dataframe\">\n  <thead>\n    <tr style=\"text-align: right;\">\n      <th></th>\n      <th>Customer</th>\n      <th>Product</th>\n    </tr>\n  </thead>\n  <tbody>\n    <tr>\n      <th>0</th>\n      <td>Brosina Hoffman</td>\n      <td>FILL</td>\n    </tr>\n    <tr>\n      <th>1</th>\n      <td>Brosina Hoffman</td>\n      <td>Phones</td>\n    </tr>\n    <tr>\n      <th>2</th>\n      <td>Zuschuss Donatelli</td>\n      <td>Art</td>\n    </tr>\n    <tr>\n      <th>3</th>\n      <td>Zuschuss Donatelli</td>\n      <td>Phones</td>\n    </tr>\n    <tr>\n      <th>4</th>\n      <td>Zuschuss Donatelli</td>\n      <td>Binders</td>\n    </tr>\n    <tr>\n      <th>5</th>\n      <td>Eric Hoffmann</td>\n      <td>Binders</td>\n    </tr>\n    <tr>\n      <th>6</th>\n      <td>Eric Hoffmann</td>\n      <td>Accessories</td>\n    </tr>\n    <tr>\n      <th>7</th>\n      <td>Ruben Ausman</td>\n      <td>FILL</td>\n    </tr>\n    <tr>\n      <th>8</th>\n      <td>FILL</td>\n      <td>Accessories</td>\n    </tr>\n    <tr>\n      <th>9</th>\n      <td>Kunst Miller</td>\n      <td>Binders</td>\n    </tr>\n    <tr>\n      <th>10</th>\n      <td>Kunst Miller</td>\n      <td>Paper</td>\n    </tr>\n  </tbody>\n</table>\n</div>"
     },
     "execution_count": 7,
     "metadata": {},
     "output_type": "execute_result"
    }
   ],
   "source": [
    "df_missing[['Customer','Product']].fillna('FILL')"
   ],
   "metadata": {
    "pycharm": {
     "name": "#%%\n"
    },
    "id": "WuZ-uiFM7xcr",
    "outputId": "eea4d687-7119-4f5a-95b9-d0792071f22e"
   }
  },
  {
   "cell_type": "code",
   "execution_count": 8,
   "outputs": [
    {
     "data": {
      "text/plain": "0     1706.184\n1      911.424\n2        8.560\n3        8.560\n4       22.720\n5       11.648\n6       90.570\n7       77.880\n8       13.980\n9       25.824\n10     146.730\nName: Sales, dtype: float64"
     },
     "execution_count": 8,
     "metadata": {},
     "output_type": "execute_result"
    }
   ],
   "source": [
    "df_missing['Sales'].fillna(method='ffill')"
   ],
   "metadata": {
    "pycharm": {
     "name": "#%%\n"
    },
    "id": "jqXg-UqW7xcr",
    "outputId": "bb6801cb-198d-4f83-e6d2-afc235e049ad"
   }
  },
  {
   "cell_type": "code",
   "execution_count": 9,
   "outputs": [
    {
     "data": {
      "text/plain": "0     1706.184\n1      911.424\n2        8.560\n3       22.720\n4       22.720\n5       11.648\n6       90.570\n7       77.880\n8       13.980\n9       25.824\n10     146.730\nName: Sales, dtype: float64"
     },
     "execution_count": 9,
     "metadata": {},
     "output_type": "execute_result"
    }
   ],
   "source": [
    "df_missing['Sales'].fillna(method='bfill')"
   ],
   "metadata": {
    "pycharm": {
     "name": "#%%\n"
    },
    "id": "MyVZZbko7xcs",
    "outputId": "2e1a49e3-5c0f-4d66-d684-dee1df46e46a"
   }
  },
  {
   "cell_type": "code",
   "execution_count": 10,
   "outputs": [
    {
     "name": "stderr",
     "output_type": "stream",
     "text": [
      "C:\\Users\\ADRIN~1\\AppData\\Local\\Temp/ipykernel_13204/1186702620.py:1: FutureWarning: Dropping of nuisance columns in DataFrame reductions (with 'numeric_only=None') is deprecated; in a future version this will raise TypeError.  Select only valid columns before calling the reduction.\n",
      "  df_missing['Sales'].fillna(df_missing.mean()['Sales'])\n"
     ]
    },
    {
     "data": {
      "text/plain": "0     1706.184\n1      911.424\n2        8.560\n3      301.552\n4       22.720\n5       11.648\n6       90.570\n7       77.880\n8       13.980\n9       25.824\n10     146.730\nName: Sales, dtype: float64"
     },
     "execution_count": 10,
     "metadata": {},
     "output_type": "execute_result"
    }
   ],
   "source": [
    "df_missing['Sales'].fillna(df_missing.mean()['Sales'])"
   ],
   "metadata": {
    "pycharm": {
     "name": "#%%\n"
    },
    "id": "S4DyaA4w7xct",
    "outputId": "73e16a47-4905-4a70-ccde-de1ac38c133c"
   }
  },
  {
   "cell_type": "markdown",
   "source": [
    "Busca información sobre los calculadores SimpleImputer y IterativeImputer. ¿Para qué sirven?"
   ],
   "metadata": {
    "collapsed": false,
    "pycharm": {
     "name": "#%% md\n"
    },
    "id": "grGeR0Fd7xct"
   }
  },
  {
   "cell_type": "markdown",
   "source": [
    "### Borrado de valores nulos"
   ],
   "metadata": {
    "collapsed": false,
    "pycharm": {
     "name": "#%% md\n"
    },
    "id": "30Vha0Do7xcu"
   }
  },
  {
   "cell_type": "code",
   "execution_count": 11,
   "outputs": [
    {
     "data": {
      "text/plain": "              Customer      Product     Sales  Quantity  Discount   Profit\n0      Brosina Hoffman          NaN  1706.184       9.0       0.2  85.3092\n1      Brosina Hoffman       Phones   911.424       4.0       0.2  68.3568\n2   Zuschuss Donatelli          Art     8.560       2.0       0.0   2.4824\n3   Zuschuss Donatelli       Phones       NaN       3.0       0.2  16.0110\n4   Zuschuss Donatelli      Binders    22.720       4.0       0.2   7.3840\n5        Eric Hoffmann      Binders    11.648       NaN       0.2   4.2224\n6        Eric Hoffmann  Accessories    90.570       3.0       0.0  11.7741\n7         Ruben Ausman          NaN    77.880       2.0       0.0      NaN\n8                  NaN  Accessories    13.980       2.0       0.0   6.1512\n9         Kunst Miller      Binders    25.824       6.0       0.2   9.3612\n10        Kunst Miller        Paper   146.730       3.0       0.0  68.9631",
      "text/html": "<div>\n<style scoped>\n    .dataframe tbody tr th:only-of-type {\n        vertical-align: middle;\n    }\n\n    .dataframe tbody tr th {\n        vertical-align: top;\n    }\n\n    .dataframe thead th {\n        text-align: right;\n    }\n</style>\n<table border=\"1\" class=\"dataframe\">\n  <thead>\n    <tr style=\"text-align: right;\">\n      <th></th>\n      <th>Customer</th>\n      <th>Product</th>\n      <th>Sales</th>\n      <th>Quantity</th>\n      <th>Discount</th>\n      <th>Profit</th>\n    </tr>\n  </thead>\n  <tbody>\n    <tr>\n      <th>0</th>\n      <td>Brosina Hoffman</td>\n      <td>NaN</td>\n      <td>1706.184</td>\n      <td>9.0</td>\n      <td>0.2</td>\n      <td>85.3092</td>\n    </tr>\n    <tr>\n      <th>1</th>\n      <td>Brosina Hoffman</td>\n      <td>Phones</td>\n      <td>911.424</td>\n      <td>4.0</td>\n      <td>0.2</td>\n      <td>68.3568</td>\n    </tr>\n    <tr>\n      <th>2</th>\n      <td>Zuschuss Donatelli</td>\n      <td>Art</td>\n      <td>8.560</td>\n      <td>2.0</td>\n      <td>0.0</td>\n      <td>2.4824</td>\n    </tr>\n    <tr>\n      <th>3</th>\n      <td>Zuschuss Donatelli</td>\n      <td>Phones</td>\n      <td>NaN</td>\n      <td>3.0</td>\n      <td>0.2</td>\n      <td>16.0110</td>\n    </tr>\n    <tr>\n      <th>4</th>\n      <td>Zuschuss Donatelli</td>\n      <td>Binders</td>\n      <td>22.720</td>\n      <td>4.0</td>\n      <td>0.2</td>\n      <td>7.3840</td>\n    </tr>\n    <tr>\n      <th>5</th>\n      <td>Eric Hoffmann</td>\n      <td>Binders</td>\n      <td>11.648</td>\n      <td>NaN</td>\n      <td>0.2</td>\n      <td>4.2224</td>\n    </tr>\n    <tr>\n      <th>6</th>\n      <td>Eric Hoffmann</td>\n      <td>Accessories</td>\n      <td>90.570</td>\n      <td>3.0</td>\n      <td>0.0</td>\n      <td>11.7741</td>\n    </tr>\n    <tr>\n      <th>7</th>\n      <td>Ruben Ausman</td>\n      <td>NaN</td>\n      <td>77.880</td>\n      <td>2.0</td>\n      <td>0.0</td>\n      <td>NaN</td>\n    </tr>\n    <tr>\n      <th>8</th>\n      <td>NaN</td>\n      <td>Accessories</td>\n      <td>13.980</td>\n      <td>2.0</td>\n      <td>0.0</td>\n      <td>6.1512</td>\n    </tr>\n    <tr>\n      <th>9</th>\n      <td>Kunst Miller</td>\n      <td>Binders</td>\n      <td>25.824</td>\n      <td>6.0</td>\n      <td>0.2</td>\n      <td>9.3612</td>\n    </tr>\n    <tr>\n      <th>10</th>\n      <td>Kunst Miller</td>\n      <td>Paper</td>\n      <td>146.730</td>\n      <td>3.0</td>\n      <td>0.0</td>\n      <td>68.9631</td>\n    </tr>\n  </tbody>\n</table>\n</div>"
     },
     "execution_count": 11,
     "metadata": {},
     "output_type": "execute_result"
    }
   ],
   "source": [
    "# only drop rows where all columns are NaN\n",
    "df_missing.dropna(how='all')"
   ],
   "metadata": {
    "pycharm": {
     "name": "#%%\n"
    },
    "id": "2BC8hUTx7xcu",
    "outputId": "6f89069a-9fb2-4c7e-97c5-55e70d644441"
   }
  },
  {
   "cell_type": "code",
   "execution_count": 12,
   "outputs": [
    {
     "data": {
      "text/plain": "              Customer      Product     Sales  Quantity  Discount   Profit\n0      Brosina Hoffman          NaN  1706.184       9.0       0.2  85.3092\n1      Brosina Hoffman       Phones   911.424       4.0       0.2  68.3568\n2   Zuschuss Donatelli          Art     8.560       2.0       0.0   2.4824\n3   Zuschuss Donatelli       Phones       NaN       3.0       0.2  16.0110\n4   Zuschuss Donatelli      Binders    22.720       4.0       0.2   7.3840\n5        Eric Hoffmann      Binders    11.648       NaN       0.2   4.2224\n6        Eric Hoffmann  Accessories    90.570       3.0       0.0  11.7741\n7         Ruben Ausman          NaN    77.880       2.0       0.0      NaN\n8                  NaN  Accessories    13.980       2.0       0.0   6.1512\n9         Kunst Miller      Binders    25.824       6.0       0.2   9.3612\n10        Kunst Miller        Paper   146.730       3.0       0.0  68.9631",
      "text/html": "<div>\n<style scoped>\n    .dataframe tbody tr th:only-of-type {\n        vertical-align: middle;\n    }\n\n    .dataframe tbody tr th {\n        vertical-align: top;\n    }\n\n    .dataframe thead th {\n        text-align: right;\n    }\n</style>\n<table border=\"1\" class=\"dataframe\">\n  <thead>\n    <tr style=\"text-align: right;\">\n      <th></th>\n      <th>Customer</th>\n      <th>Product</th>\n      <th>Sales</th>\n      <th>Quantity</th>\n      <th>Discount</th>\n      <th>Profit</th>\n    </tr>\n  </thead>\n  <tbody>\n    <tr>\n      <th>0</th>\n      <td>Brosina Hoffman</td>\n      <td>NaN</td>\n      <td>1706.184</td>\n      <td>9.0</td>\n      <td>0.2</td>\n      <td>85.3092</td>\n    </tr>\n    <tr>\n      <th>1</th>\n      <td>Brosina Hoffman</td>\n      <td>Phones</td>\n      <td>911.424</td>\n      <td>4.0</td>\n      <td>0.2</td>\n      <td>68.3568</td>\n    </tr>\n    <tr>\n      <th>2</th>\n      <td>Zuschuss Donatelli</td>\n      <td>Art</td>\n      <td>8.560</td>\n      <td>2.0</td>\n      <td>0.0</td>\n      <td>2.4824</td>\n    </tr>\n    <tr>\n      <th>3</th>\n      <td>Zuschuss Donatelli</td>\n      <td>Phones</td>\n      <td>NaN</td>\n      <td>3.0</td>\n      <td>0.2</td>\n      <td>16.0110</td>\n    </tr>\n    <tr>\n      <th>4</th>\n      <td>Zuschuss Donatelli</td>\n      <td>Binders</td>\n      <td>22.720</td>\n      <td>4.0</td>\n      <td>0.2</td>\n      <td>7.3840</td>\n    </tr>\n    <tr>\n      <th>5</th>\n      <td>Eric Hoffmann</td>\n      <td>Binders</td>\n      <td>11.648</td>\n      <td>NaN</td>\n      <td>0.2</td>\n      <td>4.2224</td>\n    </tr>\n    <tr>\n      <th>6</th>\n      <td>Eric Hoffmann</td>\n      <td>Accessories</td>\n      <td>90.570</td>\n      <td>3.0</td>\n      <td>0.0</td>\n      <td>11.7741</td>\n    </tr>\n    <tr>\n      <th>7</th>\n      <td>Ruben Ausman</td>\n      <td>NaN</td>\n      <td>77.880</td>\n      <td>2.0</td>\n      <td>0.0</td>\n      <td>NaN</td>\n    </tr>\n    <tr>\n      <th>8</th>\n      <td>NaN</td>\n      <td>Accessories</td>\n      <td>13.980</td>\n      <td>2.0</td>\n      <td>0.0</td>\n      <td>6.1512</td>\n    </tr>\n    <tr>\n      <th>9</th>\n      <td>Kunst Miller</td>\n      <td>Binders</td>\n      <td>25.824</td>\n      <td>6.0</td>\n      <td>0.2</td>\n      <td>9.3612</td>\n    </tr>\n    <tr>\n      <th>10</th>\n      <td>Kunst Miller</td>\n      <td>Paper</td>\n      <td>146.730</td>\n      <td>3.0</td>\n      <td>0.0</td>\n      <td>68.9631</td>\n    </tr>\n  </tbody>\n</table>\n</div>"
     },
     "execution_count": 12,
     "metadata": {},
     "output_type": "execute_result"
    }
   ],
   "source": [
    "# drop rows that do not have at least 4 non-NaN values\n",
    "df_missing.dropna(thresh=4)"
   ],
   "metadata": {
    "pycharm": {
     "name": "#%%\n"
    },
    "id": "uEfZqTUK7xcu",
    "outputId": "cf3e222d-0ef6-4641-fe8c-eb08bfab5893"
   }
  },
  {
   "cell_type": "code",
   "execution_count": 13,
   "outputs": [
    {
     "data": {
      "text/plain": "              Customer      Product     Sales  Quantity  Discount   Profit\n0      Brosina Hoffman          NaN  1706.184       9.0       0.2  85.3092\n1      Brosina Hoffman       Phones   911.424       4.0       0.2  68.3568\n2   Zuschuss Donatelli          Art     8.560       2.0       0.0   2.4824\n4   Zuschuss Donatelli      Binders    22.720       4.0       0.2   7.3840\n5        Eric Hoffmann      Binders    11.648       NaN       0.2   4.2224\n6        Eric Hoffmann  Accessories    90.570       3.0       0.0  11.7741\n7         Ruben Ausman          NaN    77.880       2.0       0.0      NaN\n8                  NaN  Accessories    13.980       2.0       0.0   6.1512\n9         Kunst Miller      Binders    25.824       6.0       0.2   9.3612\n10        Kunst Miller        Paper   146.730       3.0       0.0  68.9631",
      "text/html": "<div>\n<style scoped>\n    .dataframe tbody tr th:only-of-type {\n        vertical-align: middle;\n    }\n\n    .dataframe tbody tr th {\n        vertical-align: top;\n    }\n\n    .dataframe thead th {\n        text-align: right;\n    }\n</style>\n<table border=\"1\" class=\"dataframe\">\n  <thead>\n    <tr style=\"text-align: right;\">\n      <th></th>\n      <th>Customer</th>\n      <th>Product</th>\n      <th>Sales</th>\n      <th>Quantity</th>\n      <th>Discount</th>\n      <th>Profit</th>\n    </tr>\n  </thead>\n  <tbody>\n    <tr>\n      <th>0</th>\n      <td>Brosina Hoffman</td>\n      <td>NaN</td>\n      <td>1706.184</td>\n      <td>9.0</td>\n      <td>0.2</td>\n      <td>85.3092</td>\n    </tr>\n    <tr>\n      <th>1</th>\n      <td>Brosina Hoffman</td>\n      <td>Phones</td>\n      <td>911.424</td>\n      <td>4.0</td>\n      <td>0.2</td>\n      <td>68.3568</td>\n    </tr>\n    <tr>\n      <th>2</th>\n      <td>Zuschuss Donatelli</td>\n      <td>Art</td>\n      <td>8.560</td>\n      <td>2.0</td>\n      <td>0.0</td>\n      <td>2.4824</td>\n    </tr>\n    <tr>\n      <th>4</th>\n      <td>Zuschuss Donatelli</td>\n      <td>Binders</td>\n      <td>22.720</td>\n      <td>4.0</td>\n      <td>0.2</td>\n      <td>7.3840</td>\n    </tr>\n    <tr>\n      <th>5</th>\n      <td>Eric Hoffmann</td>\n      <td>Binders</td>\n      <td>11.648</td>\n      <td>NaN</td>\n      <td>0.2</td>\n      <td>4.2224</td>\n    </tr>\n    <tr>\n      <th>6</th>\n      <td>Eric Hoffmann</td>\n      <td>Accessories</td>\n      <td>90.570</td>\n      <td>3.0</td>\n      <td>0.0</td>\n      <td>11.7741</td>\n    </tr>\n    <tr>\n      <th>7</th>\n      <td>Ruben Ausman</td>\n      <td>NaN</td>\n      <td>77.880</td>\n      <td>2.0</td>\n      <td>0.0</td>\n      <td>NaN</td>\n    </tr>\n    <tr>\n      <th>8</th>\n      <td>NaN</td>\n      <td>Accessories</td>\n      <td>13.980</td>\n      <td>2.0</td>\n      <td>0.0</td>\n      <td>6.1512</td>\n    </tr>\n    <tr>\n      <th>9</th>\n      <td>Kunst Miller</td>\n      <td>Binders</td>\n      <td>25.824</td>\n      <td>6.0</td>\n      <td>0.2</td>\n      <td>9.3612</td>\n    </tr>\n    <tr>\n      <th>10</th>\n      <td>Kunst Miller</td>\n      <td>Paper</td>\n      <td>146.730</td>\n      <td>3.0</td>\n      <td>0.0</td>\n      <td>68.9631</td>\n    </tr>\n  </tbody>\n</table>\n</div>"
     },
     "execution_count": 13,
     "metadata": {},
     "output_type": "execute_result"
    }
   ],
   "source": [
    "# only drop rows where NaN appear in specific columns (here: 'Sales')\n",
    "df_missing.dropna(subset=['Sales'])"
   ],
   "metadata": {
    "pycharm": {
     "name": "#%%\n"
    },
    "id": "Y-rZPBRJ7xcv"
   }
  },
  {
   "cell_type": "code",
   "execution_count": 14,
   "outputs": [
    {
     "data": {
      "text/plain": "              Customer      Product    Sales  Quantity  Discount   Profit\n1      Brosina Hoffman       Phones  911.424       4.0       0.2  68.3568\n2   Zuschuss Donatelli          Art    8.560       2.0       0.0   2.4824\n4   Zuschuss Donatelli      Binders   22.720       4.0       0.2   7.3840\n6        Eric Hoffmann  Accessories   90.570       3.0       0.0  11.7741\n9         Kunst Miller      Binders   25.824       6.0       0.2   9.3612\n10        Kunst Miller        Paper  146.730       3.0       0.0  68.9631",
      "text/html": "<div>\n<style scoped>\n    .dataframe tbody tr th:only-of-type {\n        vertical-align: middle;\n    }\n\n    .dataframe tbody tr th {\n        vertical-align: top;\n    }\n\n    .dataframe thead th {\n        text-align: right;\n    }\n</style>\n<table border=\"1\" class=\"dataframe\">\n  <thead>\n    <tr style=\"text-align: right;\">\n      <th></th>\n      <th>Customer</th>\n      <th>Product</th>\n      <th>Sales</th>\n      <th>Quantity</th>\n      <th>Discount</th>\n      <th>Profit</th>\n    </tr>\n  </thead>\n  <tbody>\n    <tr>\n      <th>1</th>\n      <td>Brosina Hoffman</td>\n      <td>Phones</td>\n      <td>911.424</td>\n      <td>4.0</td>\n      <td>0.2</td>\n      <td>68.3568</td>\n    </tr>\n    <tr>\n      <th>2</th>\n      <td>Zuschuss Donatelli</td>\n      <td>Art</td>\n      <td>8.560</td>\n      <td>2.0</td>\n      <td>0.0</td>\n      <td>2.4824</td>\n    </tr>\n    <tr>\n      <th>4</th>\n      <td>Zuschuss Donatelli</td>\n      <td>Binders</td>\n      <td>22.720</td>\n      <td>4.0</td>\n      <td>0.2</td>\n      <td>7.3840</td>\n    </tr>\n    <tr>\n      <th>6</th>\n      <td>Eric Hoffmann</td>\n      <td>Accessories</td>\n      <td>90.570</td>\n      <td>3.0</td>\n      <td>0.0</td>\n      <td>11.7741</td>\n    </tr>\n    <tr>\n      <th>9</th>\n      <td>Kunst Miller</td>\n      <td>Binders</td>\n      <td>25.824</td>\n      <td>6.0</td>\n      <td>0.2</td>\n      <td>9.3612</td>\n    </tr>\n    <tr>\n      <th>10</th>\n      <td>Kunst Miller</td>\n      <td>Paper</td>\n      <td>146.730</td>\n      <td>3.0</td>\n      <td>0.0</td>\n      <td>68.9631</td>\n    </tr>\n  </tbody>\n</table>\n</div>"
     },
     "execution_count": 14,
     "metadata": {},
     "output_type": "execute_result"
    }
   ],
   "source": [
    "df_missing.dropna(axis=0)"
   ],
   "metadata": {
    "pycharm": {
     "name": "#%%\n"
    },
    "id": "LEsalqb67xcv"
   }
  },
  {
   "cell_type": "code",
   "execution_count": 15,
   "outputs": [
    {
     "data": {
      "text/plain": "    Discount\n0        0.2\n1        0.2\n2        0.0\n3        0.2\n4        0.2\n5        0.2\n6        0.0\n7        0.0\n8        0.0\n9        0.2\n10       0.0",
      "text/html": "<div>\n<style scoped>\n    .dataframe tbody tr th:only-of-type {\n        vertical-align: middle;\n    }\n\n    .dataframe tbody tr th {\n        vertical-align: top;\n    }\n\n    .dataframe thead th {\n        text-align: right;\n    }\n</style>\n<table border=\"1\" class=\"dataframe\">\n  <thead>\n    <tr style=\"text-align: right;\">\n      <th></th>\n      <th>Discount</th>\n    </tr>\n  </thead>\n  <tbody>\n    <tr>\n      <th>0</th>\n      <td>0.2</td>\n    </tr>\n    <tr>\n      <th>1</th>\n      <td>0.2</td>\n    </tr>\n    <tr>\n      <th>2</th>\n      <td>0.0</td>\n    </tr>\n    <tr>\n      <th>3</th>\n      <td>0.2</td>\n    </tr>\n    <tr>\n      <th>4</th>\n      <td>0.2</td>\n    </tr>\n    <tr>\n      <th>5</th>\n      <td>0.2</td>\n    </tr>\n    <tr>\n      <th>6</th>\n      <td>0.0</td>\n    </tr>\n    <tr>\n      <th>7</th>\n      <td>0.0</td>\n    </tr>\n    <tr>\n      <th>8</th>\n      <td>0.0</td>\n    </tr>\n    <tr>\n      <th>9</th>\n      <td>0.2</td>\n    </tr>\n    <tr>\n      <th>10</th>\n      <td>0.0</td>\n    </tr>\n  </tbody>\n</table>\n</div>"
     },
     "execution_count": 15,
     "metadata": {},
     "output_type": "execute_result"
    }
   ],
   "source": [
    "df_missing.dropna(axis=1)"
   ],
   "metadata": {
    "pycharm": {
     "name": "#%%\n"
    },
    "id": "dOjERivJ7xcv"
   }
  },
  {
   "cell_type": "code",
   "execution_count": 16,
   "outputs": [
    {
     "data": {
      "text/plain": "              Customer     Sales  Quantity  Discount   Profit\n0      Brosina Hoffman  1706.184       9.0       0.2  85.3092\n1      Brosina Hoffman   911.424       4.0       0.2  68.3568\n2   Zuschuss Donatelli     8.560       2.0       0.0   2.4824\n3   Zuschuss Donatelli       NaN       3.0       0.2  16.0110\n4   Zuschuss Donatelli    22.720       4.0       0.2   7.3840\n5        Eric Hoffmann    11.648       NaN       0.2   4.2224\n6        Eric Hoffmann    90.570       3.0       0.0  11.7741\n7         Ruben Ausman    77.880       2.0       0.0      NaN\n8                  NaN    13.980       2.0       0.0   6.1512\n9         Kunst Miller    25.824       6.0       0.2   9.3612\n10        Kunst Miller   146.730       3.0       0.0  68.9631",
      "text/html": "<div>\n<style scoped>\n    .dataframe tbody tr th:only-of-type {\n        vertical-align: middle;\n    }\n\n    .dataframe tbody tr th {\n        vertical-align: top;\n    }\n\n    .dataframe thead th {\n        text-align: right;\n    }\n</style>\n<table border=\"1\" class=\"dataframe\">\n  <thead>\n    <tr style=\"text-align: right;\">\n      <th></th>\n      <th>Customer</th>\n      <th>Sales</th>\n      <th>Quantity</th>\n      <th>Discount</th>\n      <th>Profit</th>\n    </tr>\n  </thead>\n  <tbody>\n    <tr>\n      <th>0</th>\n      <td>Brosina Hoffman</td>\n      <td>1706.184</td>\n      <td>9.0</td>\n      <td>0.2</td>\n      <td>85.3092</td>\n    </tr>\n    <tr>\n      <th>1</th>\n      <td>Brosina Hoffman</td>\n      <td>911.424</td>\n      <td>4.0</td>\n      <td>0.2</td>\n      <td>68.3568</td>\n    </tr>\n    <tr>\n      <th>2</th>\n      <td>Zuschuss Donatelli</td>\n      <td>8.560</td>\n      <td>2.0</td>\n      <td>0.0</td>\n      <td>2.4824</td>\n    </tr>\n    <tr>\n      <th>3</th>\n      <td>Zuschuss Donatelli</td>\n      <td>NaN</td>\n      <td>3.0</td>\n      <td>0.2</td>\n      <td>16.0110</td>\n    </tr>\n    <tr>\n      <th>4</th>\n      <td>Zuschuss Donatelli</td>\n      <td>22.720</td>\n      <td>4.0</td>\n      <td>0.2</td>\n      <td>7.3840</td>\n    </tr>\n    <tr>\n      <th>5</th>\n      <td>Eric Hoffmann</td>\n      <td>11.648</td>\n      <td>NaN</td>\n      <td>0.2</td>\n      <td>4.2224</td>\n    </tr>\n    <tr>\n      <th>6</th>\n      <td>Eric Hoffmann</td>\n      <td>90.570</td>\n      <td>3.0</td>\n      <td>0.0</td>\n      <td>11.7741</td>\n    </tr>\n    <tr>\n      <th>7</th>\n      <td>Ruben Ausman</td>\n      <td>77.880</td>\n      <td>2.0</td>\n      <td>0.0</td>\n      <td>NaN</td>\n    </tr>\n    <tr>\n      <th>8</th>\n      <td>NaN</td>\n      <td>13.980</td>\n      <td>2.0</td>\n      <td>0.0</td>\n      <td>6.1512</td>\n    </tr>\n    <tr>\n      <th>9</th>\n      <td>Kunst Miller</td>\n      <td>25.824</td>\n      <td>6.0</td>\n      <td>0.2</td>\n      <td>9.3612</td>\n    </tr>\n    <tr>\n      <th>10</th>\n      <td>Kunst Miller</td>\n      <td>146.730</td>\n      <td>3.0</td>\n      <td>0.0</td>\n      <td>68.9631</td>\n    </tr>\n  </tbody>\n</table>\n</div>"
     },
     "execution_count": 16,
     "metadata": {},
     "output_type": "execute_result"
    }
   ],
   "source": [
    "df_missing.dropna(axis=1,thresh=10)"
   ],
   "metadata": {
    "pycharm": {
     "name": "#%%\n"
    },
    "id": "quFn86O87xcw"
   }
  },
  {
   "cell_type": "markdown",
   "source": [
    "## 2. Datos categóricos\n",
    "\n",
    "En Machine Learning solo utilizamos valores numéricos, tipo de datos flotantes o enteros. Sin embargo, los conjuntos de datos a menudo contienen el objeto como tipo de datos, por lo tanto se hace necesario transformarlo en numérico. En la mayoría de los casos, los valores categóricos son discretos y puedes ser codificados como variables ficticias, asignando un número para cada categoría.\n",
    "[Tutorial DataCamp super completo](https://www.datacamp.com/community/tutorials/categorical-data)"
   ],
   "metadata": {
    "collapsed": false,
    "pycharm": {
     "name": "#%% md\n"
    },
    "id": "85M0sVqS7xcw"
   }
  },
  {
   "cell_type": "code",
   "execution_count": 31,
   "outputs": [
    {
     "data": {
      "text/plain": "   color size  price classlabel\n0  green    M   10.1     class1\n1    red    L   13.5     class2\n2   blue   XL   15.3     class1",
      "text/html": "<div>\n<style scoped>\n    .dataframe tbody tr th:only-of-type {\n        vertical-align: middle;\n    }\n\n    .dataframe tbody tr th {\n        vertical-align: top;\n    }\n\n    .dataframe thead th {\n        text-align: right;\n    }\n</style>\n<table border=\"1\" class=\"dataframe\">\n  <thead>\n    <tr style=\"text-align: right;\">\n      <th></th>\n      <th>color</th>\n      <th>size</th>\n      <th>price</th>\n      <th>classlabel</th>\n    </tr>\n  </thead>\n  <tbody>\n    <tr>\n      <th>0</th>\n      <td>green</td>\n      <td>M</td>\n      <td>10.1</td>\n      <td>class1</td>\n    </tr>\n    <tr>\n      <th>1</th>\n      <td>red</td>\n      <td>L</td>\n      <td>13.5</td>\n      <td>class2</td>\n    </tr>\n    <tr>\n      <th>2</th>\n      <td>blue</td>\n      <td>XL</td>\n      <td>15.3</td>\n      <td>class1</td>\n    </tr>\n  </tbody>\n</table>\n</div>"
     },
     "execution_count": 31,
     "metadata": {},
     "output_type": "execute_result"
    }
   ],
   "source": [
    "df = pd.DataFrame([\n",
    "    ['green', 'M', 10.1, 'class1'],\n",
    "    ['red', 'L', 13.5, 'class2'],\n",
    "    ['blue', 'XL', 15.3, 'class1']])\n",
    "df.columns = ['color', 'size', 'price', 'classlabel']\n",
    "df"
   ],
   "metadata": {
    "pycharm": {
     "name": "#%%\n"
    },
    "id": "RyZjHcT67xcw"
   }
  },
  {
   "cell_type": "markdown",
   "source": [
    "### Sustitución de los valores de la columna size por valores numéricos concretos"
   ],
   "metadata": {
    "collapsed": false,
    "pycharm": {
     "name": "#%% md\n"
    },
    "id": "CTXtz9dW7xcx"
   }
  },
  {
   "cell_type": "code",
   "execution_count": 32,
   "outputs": [
    {
     "data": {
      "text/plain": "   color  size  price classlabel\n0  green     1   10.1     class1\n1    red     2   13.5     class2\n2   blue     3   15.3     class1",
      "text/html": "<div>\n<style scoped>\n    .dataframe tbody tr th:only-of-type {\n        vertical-align: middle;\n    }\n\n    .dataframe tbody tr th {\n        vertical-align: top;\n    }\n\n    .dataframe thead th {\n        text-align: right;\n    }\n</style>\n<table border=\"1\" class=\"dataframe\">\n  <thead>\n    <tr style=\"text-align: right;\">\n      <th></th>\n      <th>color</th>\n      <th>size</th>\n      <th>price</th>\n      <th>classlabel</th>\n    </tr>\n  </thead>\n  <tbody>\n    <tr>\n      <th>0</th>\n      <td>green</td>\n      <td>1</td>\n      <td>10.1</td>\n      <td>class1</td>\n    </tr>\n    <tr>\n      <th>1</th>\n      <td>red</td>\n      <td>2</td>\n      <td>13.5</td>\n      <td>class2</td>\n    </tr>\n    <tr>\n      <th>2</th>\n      <td>blue</td>\n      <td>3</td>\n      <td>15.3</td>\n      <td>class1</td>\n    </tr>\n  </tbody>\n</table>\n</div>"
     },
     "execution_count": 32,
     "metadata": {},
     "output_type": "execute_result"
    }
   ],
   "source": [
    "size_mapping = {'XL': 3, 'L': 2, 'M': 1}\n",
    "df['size'] = df['size'].map(size_mapping)\n",
    "df"
   ],
   "metadata": {
    "pycharm": {
     "name": "#%%\n"
    },
    "id": "zYEpZQUb7xcx"
   }
  },
  {
   "cell_type": "markdown",
   "source": [
    "### Sustitución de los valores de la columna classlabel con un LabelEncoder"
   ],
   "metadata": {
    "collapsed": false,
    "pycharm": {
     "name": "#%% md\n"
    },
    "id": "0QWvOT6P7xcx"
   }
  },
  {
   "cell_type": "code",
   "execution_count": 33,
   "outputs": [
    {
     "data": {
      "text/plain": "array(['class1', 'class2'], dtype=object)"
     },
     "execution_count": 33,
     "metadata": {},
     "output_type": "execute_result"
    }
   ],
   "source": [
    "df['classlabel'].unique()"
   ],
   "metadata": {
    "pycharm": {
     "name": "#%%\n"
    },
    "id": "rNwzkvpZ7xcx"
   }
  },
  {
   "cell_type": "code",
   "execution_count": 34,
   "outputs": [
    {
     "data": {
      "text/plain": "   color  size  price  classlabel\n0  green     1   10.1           0\n1    red     2   13.5           1\n2   blue     3   15.3           0",
      "text/html": "<div>\n<style scoped>\n    .dataframe tbody tr th:only-of-type {\n        vertical-align: middle;\n    }\n\n    .dataframe tbody tr th {\n        vertical-align: top;\n    }\n\n    .dataframe thead th {\n        text-align: right;\n    }\n</style>\n<table border=\"1\" class=\"dataframe\">\n  <thead>\n    <tr style=\"text-align: right;\">\n      <th></th>\n      <th>color</th>\n      <th>size</th>\n      <th>price</th>\n      <th>classlabel</th>\n    </tr>\n  </thead>\n  <tbody>\n    <tr>\n      <th>0</th>\n      <td>green</td>\n      <td>1</td>\n      <td>10.1</td>\n      <td>0</td>\n    </tr>\n    <tr>\n      <th>1</th>\n      <td>red</td>\n      <td>2</td>\n      <td>13.5</td>\n      <td>1</td>\n    </tr>\n    <tr>\n      <th>2</th>\n      <td>blue</td>\n      <td>3</td>\n      <td>15.3</td>\n      <td>0</td>\n    </tr>\n  </tbody>\n</table>\n</div>"
     },
     "execution_count": 34,
     "metadata": {},
     "output_type": "execute_result"
    }
   ],
   "source": [
    "from sklearn.preprocessing import LabelEncoder\n",
    "class_label_encoder = LabelEncoder()\n",
    "df['classlabel'] = class_label_encoder.fit_transform(df['classlabel'].values)\n",
    "df"
   ],
   "metadata": {
    "pycharm": {
     "name": "#%%\n"
    },
    "id": "pJPnT_mh7xcy"
   }
  },
  {
   "cell_type": "markdown",
   "source": [
    "### Sustitución de los valores de la columna color con una columna para cada color"
   ],
   "metadata": {
    "collapsed": false,
    "pycharm": {
     "name": "#%% md\n"
    },
    "id": "vp6H92VT7xcy"
   }
  },
  {
   "cell_type": "code",
   "execution_count": 35,
   "outputs": [
    {
     "data": {
      "text/plain": "   price  size  color_blue  color_green  color_red\n0   10.1     1           0            1          0\n1   13.5     2           0            0          1\n2   15.3     3           1            0          0",
      "text/html": "<div>\n<style scoped>\n    .dataframe tbody tr th:only-of-type {\n        vertical-align: middle;\n    }\n\n    .dataframe tbody tr th {\n        vertical-align: top;\n    }\n\n    .dataframe thead th {\n        text-align: right;\n    }\n</style>\n<table border=\"1\" class=\"dataframe\">\n  <thead>\n    <tr style=\"text-align: right;\">\n      <th></th>\n      <th>price</th>\n      <th>size</th>\n      <th>color_blue</th>\n      <th>color_green</th>\n      <th>color_red</th>\n    </tr>\n  </thead>\n  <tbody>\n    <tr>\n      <th>0</th>\n      <td>10.1</td>\n      <td>1</td>\n      <td>0</td>\n      <td>1</td>\n      <td>0</td>\n    </tr>\n    <tr>\n      <th>1</th>\n      <td>13.5</td>\n      <td>2</td>\n      <td>0</td>\n      <td>0</td>\n      <td>1</td>\n    </tr>\n    <tr>\n      <th>2</th>\n      <td>15.3</td>\n      <td>3</td>\n      <td>1</td>\n      <td>0</td>\n      <td>0</td>\n    </tr>\n  </tbody>\n</table>\n</div>"
     },
     "execution_count": 35,
     "metadata": {},
     "output_type": "execute_result"
    }
   ],
   "source": [
    "pd.get_dummies(df[['price', 'color', 'size']])"
   ],
   "metadata": {
    "pycharm": {
     "name": "#%%\n"
    },
    "id": "wmOIPGIr7xcy"
   }
  },
  {
   "cell_type": "markdown",
   "source": [
    "Busca más información sobre otras transformaciones de datos categóricos y pon ejemplos sobre este df [Tutorial DataCamp super completo](https://www.datacamp.com/community/tutorials/categorical-data)"
   ],
   "metadata": {
    "collapsed": false,
    "pycharm": {
     "name": "#%% md\n"
    },
    "id": "b5K6YTG_7xcy"
   }
  },
  {
   "cell_type": "markdown",
   "source": [
    "## 3. Escalado y normalización\n",
    "\n",
    "La escala es importante si necesitas especificar que una modificación en una cantidad no es igual a otra modificación en otra. Con la ayuda del escalado, te aseguras de que aunque algunas características son grandes no se usarán como predictor principal. Por ejemplo, si se utiliza la edad y el salario de una persona en la predicción, algunos algoritmos prestarán más atención al salario porque es más grande, lo que no tiene ningún sentido.\n",
    "\n",
    "La normalización implica transformar o convertir el conjunto de datos en una distribución normal. Algunos algoritmos como SVM convergen mucho más rápido en los datos normalizados, por lo que tiene sentido normalizar los datos para obtener mejores resultados.\n",
    "\n",
    "Hay muchas maneras de realizar el escalado de características. En pocas palabras, ponemos todas nuestras características en la misma escala para que ninguna esté dominada por otra."
   ],
   "metadata": {
    "collapsed": false,
    "id": "qaT8Mw_Y7xcy"
   }
  },
  {
   "cell_type": "code",
   "execution_count": 36,
   "outputs": [
    {
     "name": "stdout",
     "output_type": "stream",
     "text": [
      "Class labels [1 2 3]\n"
     ]
    }
   ],
   "source": [
    "import pandas as pd\n",
    "\n",
    "df_wine = pd.read_csv(\n",
    "    'https://archive.ics.uci.edu/ml/machine-learning-databases/wine/wine.data',\n",
    "    header=None)\n",
    "df_wine.columns = ['Class label', 'Alcohol', 'Malic acid', 'Ash',\n",
    "                   'Alcalinity of ash', 'Magnesium', 'Total phenols', 'Flavanoids',\n",
    "                   'Nonflavanoid phenols', 'Proanthocyanins', 'Color intensity', 'Hue',\n",
    "                   'OD280/OD315 of diluted wines','Proline']\n",
    "print('Class labels', np.unique(df_wine['Class label']))"
   ],
   "metadata": {
    "pycharm": {
     "name": "#%%\n"
    },
    "id": "3n4x9JcQ7xcz"
   }
  },
  {
   "cell_type": "code",
   "execution_count": 37,
   "outputs": [
    {
     "data": {
      "text/plain": "(54, 124)"
     },
     "execution_count": 37,
     "metadata": {},
     "output_type": "execute_result"
    }
   ],
   "source": [
    "from sklearn.model_selection import train_test_split\n",
    "X, y = df_wine.iloc[:, 1:].values, df_wine.iloc[:, 0].values\n",
    "X_train, X_test, y_train, y_test = train_test_split(X, y, test_size=0.3, random_state=0)\n",
    "len(X_test), len(X_train)"
   ],
   "metadata": {
    "pycharm": {
     "name": "#%%\n"
    },
    "id": "KzV-A8YZ7xcz"
   }
  },
  {
   "cell_type": "markdown",
   "source": [
    "### MinMaxScaler\n",
    "Normalización de un vector suele significar dividir por una norma del vector. También se refiere a menudo al cambio de escala por el mínimo y el rango del vector, para hacer que todos los elementos se encuentren entre 0 y 1, lo que lleva todos los valores de las columnas numéricas del conjunto de datos a una escala común.. Escala cada variable de entrada al rango 0-1.\n",
    "\n",
    "el objetivo de la normalización es cambiar los valores de las columnas numéricas en el conjunto de datos a una escala común, sin distorsionar las diferencias en los rangos de valores. Para el aprendizaje automático, todos los conjuntos de datos no requieren normalización. Solo se requiere cuando las funciones tienen diferentes rangos.\n",
    "\n",
    "Por ejemplo, considere un conjunto de datos que contiene dos características, edad e ingresos (x2). Donde la edad varía de 0 a 100, mientras que los ingresos varían de 0 a 100 000 y más. Los ingresos son unas 1.000 veces mayores que la edad. Entonces, estas dos características están en rangos muy diferentes. Cuando hacemos más análisis, como la regresión lineal multivariante, por ejemplo, el ingreso atribuido influirá intrínsecamente más en el resultado debido a su mayor valor. Pero esto no significa necesariamente que sea más importante como predictor. Entonces normalizamos los datos para traer todas las variables al mismo rango.\n",
    "\n",
    "La normalización es una buena técnica para usar cuando no conoce la distribución de sus datos o cuando sabe que la distribución no es gaussiana (una curva de campana). La normalización es útil cuando sus datos tienen escalas variables y el algoritmo que está utilizando no hace suposiciones sobre la distribución de sus datos, como k vecinos más cercanos y redes neuronales artificiales."
   ],
   "metadata": {
    "collapsed": false,
    "pycharm": {
     "name": "#%% md\n"
    },
    "id": "wXoXoD1s7xcz"
   }
  },
  {
   "cell_type": "code",
   "execution_count": 38,
   "outputs": [],
   "source": [
    "from sklearn.preprocessing import MinMaxScaler\n",
    "mms = MinMaxScaler()\n",
    "X_train_norm = mms.fit_transform(X_train)\n",
    "X_test_norm = mms.transform(X_test)"
   ],
   "metadata": {
    "pycharm": {
     "name": "#%%\n"
    },
    "id": "onqnDi2Z7xcz"
   }
  },
  {
   "cell_type": "code",
   "execution_count": 39,
   "outputs": [
    {
     "data": {
      "text/plain": "array([0.72043011, 0.20378151, 0.53763441, 0.30927835, 0.33695652,\n       0.54316547, 0.73700306, 0.25      , 0.40189873, 0.24068768,\n       0.48717949, 1.        , 0.5854251 ])"
     },
     "execution_count": 39,
     "metadata": {},
     "output_type": "execute_result"
    }
   ],
   "source": [
    "X_train_norm[0]"
   ],
   "metadata": {
    "pycharm": {
     "name": "#%%\n"
    },
    "id": "2NzWyIO17xc0"
   }
  },
  {
   "cell_type": "code",
   "execution_count": 40,
   "outputs": [
    {
     "data": {
      "text/plain": "array([0.72849462, 0.16386555, 0.47849462, 0.29896907, 0.52173913,\n       0.53956835, 0.74311927, 0.13461538, 0.37974684, 0.4364852 ,\n       0.32478632, 0.70695971, 0.60566802])"
     },
     "execution_count": 40,
     "metadata": {},
     "output_type": "execute_result"
    }
   ],
   "source": [
    "X_test_norm[0]"
   ],
   "metadata": {
    "pycharm": {
     "name": "#%%\n"
    },
    "id": "pB29PPGg7xc0"
   }
  },
  {
   "cell_type": "code",
   "execution_count": 41,
   "outputs": [
    {
     "data": {
      "text/plain": "array([0.72043011, 0.20378151, 0.53763441, 0.30927835, 0.33695652,\n       0.54316547, 0.73700306, 0.25      , 0.40189873, 0.24068768,\n       0.48717949, 1.        , 0.5854251 ])"
     },
     "execution_count": 41,
     "metadata": {},
     "output_type": "execute_result"
    }
   ],
   "source": [
    "X_train_norm[0]"
   ],
   "metadata": {
    "pycharm": {
     "name": "#%%\n"
    },
    "id": "XJ_7RYuO7xc0"
   }
  },
  {
   "cell_type": "markdown",
   "source": [
    "### StandardScaler\n",
    "Estandarización de un vector generalmente significa restar una medida de ubicación y dividir por una medida de escala. Por ejemplo, si el vector contiene valores aleatorios con una distribución gaussiana, puede restar la media y dividir por la desviación estándar, obteniendo así una variable aleatoria \"normal estándar\" con media 0 y desviación estándar 1.. Escala cada variable de entrada para tener una media de 0,0 y una desviación estándar de 1,0.\n",
    "**Aplicar a las variables de tipo Gaussiano**.\n",
    "\n",
    "La estandarización de las características alrededor del centro y 0 con una desviación estándar de 1 es importante cuando comparamos medidas que tienen diferentes unidades. Las variables que se miden a diferentes escalas no contribuyen por igual al análisis y podrían terminar creando una base.\n",
    "\n",
    "Por ejemplo, una variable que oscila entre 0 y 1000 tendrá más peso que una variable que oscila entre 0 y 1. El uso de estas variables sin estandarización dará a la variable con el rango más grande un peso de 1000 en el análisis. Transformar los datos a escalas comparables puede evitar este problema. Los procedimientos típicos de estandarización de datos igualan el rango y / o la variabilidad de los datos.\n",
    "\n",
    "La estandarización asume que sus datos tienen una distribución gaussiana (curva de campana). Esto no tiene por qué ser estrictamente cierto, pero la técnica es más eficaz si su distribución de atributos es gaussiana. La estandarización es útil cuando sus datos tienen escalas variables y el algoritmo que está utilizando hace suposiciones acerca de que sus datos tienen una distribución gaussiana, como regresión lineal, regresión logística y análisis discriminante lineal."
   ],
   "metadata": {
    "collapsed": false,
    "pycharm": {
     "name": "#%% md\n"
    },
    "id": "2PKMqTi27xc0"
   }
  },
  {
   "cell_type": "code",
   "execution_count": 42,
   "outputs": [],
   "source": [
    "from sklearn.preprocessing import StandardScaler\n",
    "stdsc = StandardScaler()\n",
    "X_train_std = stdsc.fit_transform(X_train)\n",
    "X_test_std = stdsc.transform(X_test)"
   ],
   "metadata": {
    "pycharm": {
     "name": "#%%\n"
    },
    "id": "6vDIa5Ed7xc0"
   }
  },
  {
   "cell_type": "code",
   "execution_count": 43,
   "outputs": [
    {
     "data": {
      "text/plain": "array([ 0.91083058, -0.46259897, -0.01142613, -0.82067872,  0.06241693,\n        0.58820446,  0.93565436, -0.7619138 ,  0.13007174, -0.51238741,\n        0.65706596,  1.94354495,  0.93700997])"
     },
     "execution_count": 43,
     "metadata": {},
     "output_type": "execute_result"
    }
   ],
   "source": [
    "X_train_std[0]"
   ],
   "metadata": {
    "pycharm": {
     "name": "#%%\n"
    },
    "id": "c1RKcJGv7xc1"
   }
  },
  {
   "cell_type": "code",
   "execution_count": 45,
   "outputs": [
    {
     "data": {
      "text/plain": "<matplotlib.collections.PathCollection at 0x272d14eefa0>"
     },
     "execution_count": 45,
     "metadata": {},
     "output_type": "execute_result"
    },
    {
     "data": {
      "text/plain": "<Figure size 432x288 with 1 Axes>",
      "image/png": "[encoded data removed]"
     },
     "metadata": {
      "needs_background": "light"
     },
     "output_type": "display_data"
    }
   ],
   "source": [
    "import matplotlib.pyplot as plt\n",
    "\n",
    "xx = np.arange(len(X_train_std))\n",
    "yy1 = X_train_norm[:,1]\n",
    "yy2 = X_train_std[:,1]\n",
    "plt.scatter(xx, yy1, color='b')\n",
    "plt.scatter(xx, yy2, color='r')"
   ],
   "metadata": {
    "pycharm": {
     "name": "#%%\n"
    },
    "id": "LHbOHane7xc1"
   }
  }
 ],
 "metadata": {
  "kernelspec": {
   "name": "python3",
   "language": "python",
   "display_name": "Python 3"
  },
  "language_info": {
   "codemirror_mode": {
    "name": "ipython",
    "version": 3
   },
   "file_extension": ".py",
   "mimetype": "text/x-python",
   "name": "python",
   "nbconvert_exporter": "python",
   "pygments_lexer": "ipython3",
   "version": "3.7.3"
  },
  "colab": {
   "name": "Preprocessing.ipynb",
   "provenance": []
  }
 },
 "nbformat": 4,
 "nbformat_minor": 0
}