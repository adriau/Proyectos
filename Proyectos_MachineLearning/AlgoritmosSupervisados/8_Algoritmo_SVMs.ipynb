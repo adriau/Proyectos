{
 "cells": [
  {
   "cell_type": "markdown",
   "metadata": {
    "id": "sTwnMzPLz3bP"
   },
   "source": [
    "# Support Vector Machines\n",
    "\n",
    "**Algoritmo de regresión y clasificación**\n",
    "\n",
    "SVM es un conjunto de algoritmos de aprendizaje supervisado potente y versátil que es capaz de realizar clasificación, regresión e incluso detección de valores atípicos. Los SVM son particularmente adecuados para conjuntos de datos complejos de tamaño pequeño a mediano.\n",
    "\n",
    "Principales características de los SVM:\n",
    "* Es un algoritmo de clasificación binario. Dado un conjunto de puntos de 2 tipos en el lugar N dimensional, SVM genera un hiperplano (N-1) dimensional que separa esos puntos en 2 grupos.\n",
    "* Busca el hiperplano que mejor  el dataset.\n",
    "* Permite encontrar condiciones de clasificación no obvias.\n",
    "* Está especialmente indicado en conjuntos de datos pequeños y con muchas variables (más registros que datos).\n",
    "\n",
    "Los conceptos fundamentales son modelado y predicción en dos vertientes: clasificación, por ejemplo buscar qué tipo de usuario tiene más probabilidad de hacer clic en un determinado banner, y regresión, si queremos determinar qué probabilidad hay de que un usuario vuelva a tu sitio, si queremos predecir el número de clics en el futuro, o qué cantidad de impresiones de un anuncio tendremos.\n"
   ]
  },
  {
   "cell_type": "markdown",
   "source": [
    "## 1. Clasificación Lineal con SVM\n",
    "\n",
    "La idea fundamental detrás de los SVM se explica mejor con la siguiente imagen:\n",
    "\n",
    "<div style=\"text-align:center;\"><img style=\"width:33%\" src=\"./img/SVM_example.png\" /></div>"
   ],
   "metadata": {
    "collapsed": false
   }
  },
  {
   "cell_type": "markdown",
   "source": [
    "Podemos ver que las dos clases se pueden separar fácilmente por una línea recta (linealmente separable).\n",
    "\n",
    "El gráfico de la izquierda muestra los límites de decisión de tres posibles clasificadores lineales. El modelo de línea discontinua es tan malo que ni siquiera separa los dos grupos linealmente. Los otros dos modelos funcionan perfectamente en el conjunto de entrenamiento gráfico, pero sus límites están tan cerca de los puntos de datos de entrenamiento que probablemente no funcionarán bien en datos no vistos con anterioridad.\n",
    "\n",
    "Por el contrario, el modelo de la derecha no solo separa los datos de entrenamiento linealmente, sino que también se mantiene lo más alejado posible de los puntos de datos de ambas clases. Por lo tanto, es probable que funcione bien en datos no vistos.\n",
    "\n",
    "Podemos pensar en un SVM como si encajara en la calle más ancha posible (representada por las líneas discontinuas) entre las clases. Esto se llama **Clasificación de margen máximo (Large Margin Classification)**.\n",
    "\n",
    "En ese concepto de \"separación óptima\" es donde reside la característica fundamental de las SVM: este tipo de algoritmos buscan el hiperplano que tenga la máxima distancia (margen) con los puntos que estén más cerca de él mismo. Por eso también a veces se les conoce a las SVM como clasificadores de margen máximo. De esta forma, los puntos del vector que son etiquetados con una categoría estarán a un lado del hiperplano y los casos que se encuentren en la otra categoría estarán al otro lado.\n",
    "\n",
    "Existe un número infinito de posibles hiperplanos (líneas) que realicen la clasificación pero, ¿cuál es la mejor y cómo la definimos? La mejor solución es aquella que permita un margen máximo entre los elementos de las dos categorías.\n",
    "\n",
    "Debemos notar que **agregar más puntos de entrenamiento fuera de la calle no afectará en absoluto el límite de decisión**, ya que está completamente determinado por los puntos de datos ubicados en el borde de la calle. Estas instancias se denominan **vectores de soporte**.\n",
    "\n",
    "Los SVM también son sensibles a las escalas de las características. **Si las features no están escaladas, el algoritmo tenderá a ignorar las features con escalas pequeñas**."
   ],
   "metadata": {
    "collapsed": false,
    "pycharm": {
     "name": "#%% md\n"
    },
    "id": "vlkJ6bSOz3bV"
   }
  },
  {
   "cell_type": "markdown",
   "metadata": {
    "id": "WejzQQBuz3bW"
   },
   "source": [
    "### 1.1. Clasificación de Margen Suave (Soft Margin Classification) para solucionar los errores de entrenamiento\n",
    "\n",
    "Idealmente, el modelo basado en SVM debería producir un hiperplano que separe completamente los datos del universo estudiado en dos categorías. Sin embargo, una separación perfecta no siempre es posible y, si lo es, el resultado del modelo no puede ser generalizado para otros datos. Esto se conoce como sobreajuste (overfitting).\n",
    "\n",
    "Si restringimos todas las instancias de entrenamiento para que estén fuera de la \"calle SVM\", esto se denomina Clasificación de margen rígido (Hard Margin Classification). La clasificación de margen rígido se ve muy afectada por la presencia de outliers (valores atípicos). Los siguientes son dos ejemplos de cómo los outliers pueden estropear los clasificadores de margen rígido:"
   ]
  },
  {
   "cell_type": "markdown",
   "source": [
    "<div style=\"text-align:center;\"><img style=\"width:66%;\" src=\"./img/Hard_Margin_Classifier.png\" /></div>"
   ],
   "metadata": {
    "collapsed": false,
    "pycharm": {
     "name": "#%% md\n"
    },
    "id": "5bJgYmubz3bX"
   }
  },
  {
   "cell_type": "markdown",
   "source": [
    "Con el fin de permitir cierta flexibilidad, las SVM manejan un parámetro C que controla la compensación entre errores de entrenamiento y los márgenes rígidos, creando así un margen blando (soft margin) que permita algunos errores en la clasificación a la vez que los penaliza. Esto se llama **Clasificación de margen suave**."
   ],
   "metadata": {
    "collapsed": false,
    "pycharm": {
     "name": "#%% md\n"
    },
    "id": "RM8rYUO5z3bY"
   }
  },
  {
   "cell_type": "markdown",
   "source": [
    "<div style=\"text-align:center;\"><img style=\"width:66%;\" src=\"./img/Soft_to_Hard_Street.png\" /></div>"
   ],
   "metadata": {
    "collapsed": false,
    "pycharm": {
     "name": "#%% md\n"
    },
    "id": "FpCkNKEiz3bY"
   }
  },
  {
   "cell_type": "markdown",
   "source": [
    "Al aumentar el hiperparámetro `C`, aumentamos la sensibilidad del modelo para minimizar las infracciones de margen dentro del conjunto de entrenamiento. Es decir, si estamos sobreajustando, tratamos de reducir el valor del hiperparámetro `C`.\n",
    "\n",
    "Vamos a ver los SVM de scikit-learn:"
   ],
   "metadata": {
    "collapsed": false,
    "pycharm": {
     "name": "#%% md\n"
    },
    "id": "DxS83IhQz3bZ"
   }
  },
  {
   "cell_type": "code",
   "execution_count": 1,
   "metadata": {
    "id": "j-7V7J30z3ba"
   },
   "outputs": [],
   "source": [
    "import numpy as np\n",
    "from sklearn import datasets\n",
    "from sklearn.pipeline import Pipeline\n",
    "from sklearn.preprocessing import StandardScaler\n",
    "from sklearn.svm import LinearSVC  #Limear Support Vector Classification"
   ]
  },
  {
   "cell_type": "code",
   "execution_count": 2,
   "metadata": {
    "id": "b3-9Ek2ez3bc"
   },
   "outputs": [],
   "source": [
    "iris = datasets.load_iris()"
   ]
  },
  {
   "cell_type": "code",
   "execution_count": 3,
   "metadata": {
    "id": "PUu_cWGMz3bd",
    "outputId": "c0a2a934-9264-4be9-eb4d-0b1fdbfd5abe"
   },
   "outputs": [
    {
     "data": {
      "text/plain": "(150, 4)"
     },
     "execution_count": 3,
     "metadata": {},
     "output_type": "execute_result"
    }
   ],
   "source": [
    "iris['data'].shape"
   ]
  },
  {
   "cell_type": "code",
   "execution_count": 4,
   "metadata": {
    "id": "n3aoXZWfz3be",
    "outputId": "79503670-dd23-491b-8969-6e32b31e0b24"
   },
   "outputs": [
    {
     "data": {
      "text/plain": "((150, 2), (150,))"
     },
     "execution_count": 4,
     "metadata": {},
     "output_type": "execute_result"
    }
   ],
   "source": [
    "X = iris['data'][:, [2,3]]  # Petal Length, Petal Width\n",
    "y = (iris['target'] == 2).astype(np.float64)  # Iris Virginica\n",
    "X.shape, y.shape"
   ]
  },
  {
   "cell_type": "code",
   "execution_count": 5,
   "metadata": {
    "id": "V_z8rgYVz3bf"
   },
   "outputs": [],
   "source": [
    "svm_clf = Pipeline([\n",
    "    ('Scaler', StandardScaler()),\n",
    "    ('Linear_svc', LinearSVC(C=1, loss='hinge'))\n",
    "])"
   ]
  },
  {
   "cell_type": "code",
   "execution_count": 6,
   "metadata": {
    "id": "f4J4t2llz3bg",
    "outputId": "0f33f44a-6c9e-4940-da3b-5df57af8b117"
   },
   "outputs": [
    {
     "data": {
      "text/plain": "Pipeline(steps=[('Scaler', StandardScaler()),\n                ('Linear_svc', LinearSVC(C=1, loss='hinge'))])"
     },
     "execution_count": 6,
     "metadata": {},
     "output_type": "execute_result"
    }
   ],
   "source": [
    "svm_clf.fit(X, y)"
   ]
  },
  {
   "cell_type": "code",
   "execution_count": 7,
   "metadata": {
    "id": "tqLERIw4z3bg",
    "outputId": "87fff668-9384-4365-cb01-22968e07ce48"
   },
   "outputs": [
    {
     "data": {
      "text/plain": "array([1.])"
     },
     "execution_count": 7,
     "metadata": {},
     "output_type": "execute_result"
    }
   ],
   "source": [
    " svm_clf.predict([[5.5, 1.7]])"
   ]
  },
  {
   "cell_type": "markdown",
   "metadata": {
    "id": "W6_dX8txz3bh"
   },
   "source": [
    "A diferencia de los modelos de regresión logística (con sus funciones sigmoideas), los SVM no generan probabilidades para cada clase."
   ]
  },
  {
   "cell_type": "markdown",
   "metadata": {
    "id": "s4Ds_223z3bh"
   },
   "source": [
    "## 2. Clasificación no Lineal con SVM\n",
    "\n",
    "Muchos datasets ni siquiera están cerca de ser separables linealmente. Un enfoque para manejar el modelado no lineal es agregar más características, como características polinómicas.\n",
    "En algunos casos, esto puede resultar en datasets linealmente separables.\n",
    "\n",
    "![SVM](./img/img.png)\n",
    "\n",
    "El siguiente es un ejemplo de un conjunto de datos separable no linealmente original con una sola característica $x_{1}$ (a la izquierda) y un conjunto de datos separable linealmente aumentado con una característica adicional $x_{2}=x_{1}^{2}$ :\n",
    "\n",
    "<div style=\"text-align:center;\"><img style=\"width:66%;\" src=\"./img/nonlinear_to_linear.png\" /></div>\n",
    "\n",
    "Veamos a continuación como implementar esta idea usando scikit-learn con el dataset moons. Este dataset está formado por conjuntos de puntos (cuyo número es configurable, en este caso, será de 100) dispuestos en el plano formando dos lunas opuestas::"
   ]
  },
  {
   "cell_type": "code",
   "execution_count": 8,
   "metadata": {
    "id": "7zxY6F_Jz3bh",
    "outputId": "25f35be8-9553-4d0f-99ad-2913c5e13a3c"
   },
   "outputs": [
    {
     "name": "stderr",
     "output_type": "stream",
     "text": [
      "C:\\Users\\adrian\\anaconda3\\lib\\site-packages\\seaborn\\_decorators.py:36: FutureWarning: Pass the following variables as keyword args: x, y. From version 0.12, the only valid positional argument will be `data`, and passing other arguments without an explicit keyword will result in an error or misinterpretation.\n",
      "  warnings.warn(\n"
     ]
    },
    {
     "data": {
      "text/plain": "<Figure size 432x288 with 1 Axes>",
      "image/png": "[encoded data removed]"
     },
     "metadata": {
      "needs_background": "light"
     },
     "output_type": "display_data"
    }
   ],
   "source": [
    "from sklearn.datasets import make_moons\n",
    "X, y = make_moons(n_samples=100, noise=0.15)\n",
    "import seaborn as sns\n",
    "Cx = X[:, 0]\n",
    "Cy = X[:, 1]\n",
    "sns.scatterplot(Cx,Cy);"
   ]
  },
  {
   "cell_type": "code",
   "execution_count": 9,
   "metadata": {
    "id": "oTnsVhz2z3bi"
   },
   "outputs": [],
   "source": [
    "from sklearn.preprocessing import PolynomialFeatures\n",
    "polynomial_svm_clf = Pipeline([\n",
    "    (\"poly_features\", PolynomialFeatures(degree=3)),\n",
    "    (\"scaler\", StandardScaler()),\n",
    "    (\"svm_clf\", LinearSVC(C=10, loss=\"hinge\"))\n",
    "])"
   ]
  },
  {
   "cell_type": "code",
   "execution_count": 10,
   "metadata": {
    "id": "lZnS3_95z3bi",
    "outputId": "b467f9d8-8ecf-48ef-cd0e-5e79a13e0d37"
   },
   "outputs": [
    {
     "name": "stderr",
     "output_type": "stream",
     "text": [
      "C:\\Users\\adrian\\anaconda3\\lib\\site-packages\\sklearn\\svm\\_base.py:985: ConvergenceWarning: Liblinear failed to converge, increase the number of iterations.\n",
      "  warnings.warn(\"Liblinear failed to converge, increase \"\n"
     ]
    },
    {
     "data": {
      "text/plain": "Pipeline(steps=[('poly_features', PolynomialFeatures(degree=3)),\n                ('scaler', StandardScaler()),\n                ('svm_clf', LinearSVC(C=10, loss='hinge'))])"
     },
     "execution_count": 10,
     "metadata": {},
     "output_type": "execute_result"
    }
   ],
   "source": [
    " polynomial_svm_clf.fit(X, y)"
   ]
  },
  {
   "cell_type": "code",
   "execution_count": 11,
   "metadata": {
    "id": "dhX3hDKHz3bj",
    "outputId": "9bbe03e3-e096-4140-d5e9-2d17133f40a4"
   },
   "outputs": [
    {
     "data": {
      "text/plain": "0.99"
     },
     "execution_count": 11,
     "metadata": {},
     "output_type": "execute_result"
    }
   ],
   "source": [
    "polynomial_svm_clf.score(X, y)"
   ]
  },
  {
   "cell_type": "code",
   "execution_count": 12,
   "outputs": [
    {
     "data": {
      "text/plain": "<Figure size 432x288 with 1 Axes>",
      "image/png": "[encoded data removed]"
     },
     "metadata": {
      "needs_background": "light"
     },
     "output_type": "display_data"
    }
   ],
   "source": [
    "import matplotlib.pyplot as plt\n",
    "def plot_dataset(X, y, axes):\n",
    "    plt.plot(X[:, 0][y==0], X[:, 1][y==0], \"bs\") #bs: blue squares\n",
    "    plt.plot(X[:, 0][y==1], X[:, 1][y==1], \"g^\") #green triangles\n",
    "    plt.axis(axes)\n",
    "    plt.grid(True, which='both')\n",
    "    plt.xlabel(r\"$x_1$\", fontsize=20)\n",
    "    plt.ylabel(r\"$x_2$\", fontsize=20, rotation=0)\n",
    "    plt.title(\"Datos lunares\",fontsize=20)\n",
    "def plot_predictions(clf, axes):\n",
    "    # Por metro\n",
    "    x0s = np.linspace(axes[0], axes[1], 100)\n",
    "    x1s = np.linspace(axes[2], axes[3], 100)\n",
    "    x0, x1 = np.meshgrid(x0s, x1s)\n",
    "    X = np.c_[x0.ravel(), x1.ravel()]\n",
    "    y_pred = clf.predict(X).reshape(x0.shape)\n",
    "    y_decision = clf.decision_function(X).reshape(x0.shape)\n",
    "    #     print(y_pred)\n",
    "    #     print(y_decision)\n",
    "    plt.contourf(x0, x1, y_pred, cmap=plt.cm.brg, alpha=0.2)\n",
    "    plt.contourf(x0, x1, y_decision, cmap=plt.cm.brg, alpha=0.1)\n",
    "plot_predictions(polynomial_svm_clf, [-1.5, 2.5, -1, 1.5])\n",
    "plot_dataset(X, y, [-1.5, 2.5, -1, 1.5])\n",
    "plt.show()\n"
   ],
   "metadata": {
    "pycharm": {
     "name": "#%%\n"
    },
    "id": "WyH1DsX2z3bj",
    "outputId": "ee397ccd-a6aa-407f-8db2-5d0020b6faa9"
   }
  },
  {
   "cell_type": "markdown",
   "metadata": {
    "id": "TVzu6do8z3bk"
   },
   "source": [
    "El siguiente gráfico muestra los límites de decisión del modelo. Debido a que agregamos grados polinómicos, los límites proyectados ahora son no lineales:\n",
    "\n",
    "<div style=\"text-align:center;\"><img style=\"width:50%;\" src=\"./img/polynomial_svms.png\" /></div>"
   ]
  },
  {
   "cell_type": "markdown",
   "metadata": {
    "id": "8eljbOJaz3bk"
   },
   "source": [
    "### 2.1. Kernels Polinómicos\n",
    "\n",
    "En grados polinómicos bajos, agregar características no permite manejar conjuntos de datos complejos, y para grados polinómicos altos, terminamos agregando muchas características, lo que da como resultado un modelo muy complejo y lento.\n",
    "\n",
    "Afortunadamente, cuando usamos SVM podemos aplicar una técnica matemática casi milagrosa llamada **truco del kernel**. El truco del kernel hace posible obtener el mismo resultado que si añadiéramos muchas características polinomiales sin añadirlas realmente.\n",
    "\n",
    "Vamos a probarlo en el dataset moons:"
   ]
  },
  {
   "cell_type": "code",
   "execution_count": 13,
   "metadata": {
    "id": "IxeFhUwnz3bl"
   },
   "outputs": [],
   "source": [
    "from sklearn.svm  import SVC\n"
   ]
  },
  {
   "cell_type": "code",
   "execution_count": 14,
   "outputs": [],
   "source": [
    "from sklearn.datasets import make_moons\n",
    "X, y = make_moons(n_samples=300, noise=0.15)"
   ],
   "metadata": {
    "pycharm": {
     "name": "#%%\n"
    },
    "id": "Jnd9NSiaz3bl"
   }
  },
  {
   "cell_type": "code",
   "execution_count": 15,
   "metadata": {
    "id": "u73QWCibz3bl"
   },
   "outputs": [],
   "source": [
    "poly_kernel_svm_clf = Pipeline([\n",
    "    ('scaler', StandardScaler()),\n",
    "    ('svm_clf', SVC(kernel='poly', degree=10, coef0=100, C=5))\n",
    "])"
   ]
  },
  {
   "cell_type": "code",
   "execution_count": 16,
   "metadata": {
    "id": "g-ZVHEn3z3bl",
    "outputId": "d961a0f9-d2c7-41e3-b89b-2eafc5d1e38f"
   },
   "outputs": [
    {
     "data": {
      "text/plain": "Pipeline(steps=[('scaler', StandardScaler()),\n                ('svm_clf', SVC(C=5, coef0=100, degree=10, kernel='poly'))])"
     },
     "execution_count": 16,
     "metadata": {},
     "output_type": "execute_result"
    }
   ],
   "source": [
    "poly_kernel_svm_clf.fit(X, y)\n"
   ]
  },
  {
   "cell_type": "code",
   "execution_count": 17,
   "outputs": [
    {
     "data": {
      "text/plain": "<Figure size 432x288 with 1 Axes>",
      "image/png": "[encoded data removed]"
     },
     "metadata": {
      "needs_background": "light"
     },
     "output_type": "display_data"
    }
   ],
   "source": [
    "plot_predictions(poly_kernel_svm_clf, [-1.5, 2.5, -1, 1.5])\n",
    "plot_dataset(X, y, [-1.5, 2.5, -1, 1.5])\n",
    "plt.show()"
   ],
   "metadata": {
    "pycharm": {
     "name": "#%%\n"
    },
    "id": "I5bdbIzuz3bm",
    "outputId": "4937b30c-28c7-4395-b082-534013e9af0f"
   }
  },
  {
   "cell_type": "markdown",
   "source": [
    "Este modelo entrena un clasificador SVM utilizando un kernel de features de tercer grado.\n",
    "\n",
    "Si nuestro modelo se ajusta en exceso, es posible que deseemos disminuir el grado del polinomio, y si se ajusta de manera insuficiente, puede ser una buena idea aumentar el grado. `coef0` (r) controla en qué porcentaje el modelo está influenciado por polinomios de alto grado frente a polinomios de bajo grado.\n",
    "\n",
    "La siguiente figura muestra el modelo previamente entrenado de grado 3 (a la izquierda) frente a un modelo más complejo de kernel de grado 10:"
   ],
   "metadata": {
    "collapsed": false,
    "pycharm": {
     "name": "#%% md\n"
    },
    "id": "FvqxpjO1z3bm"
   }
  },
  {
   "cell_type": "markdown",
   "source": [
    "<div style=\"text-align:center;\"><img style=\"width:66%;\" src=\"./img/kernel_trick.png\" /></div>"
   ],
   "metadata": {
    "collapsed": false,
    "id": "ZStHg5LPz3bm"
   }
  },
  {
   "cell_type": "markdown",
   "metadata": {
    "id": "DGUHsmsez3bn"
   },
   "source": [
    "## 3. Regresión SVM\n",
    "\n",
    "Las SVM también admiten la regresión lineal y no lineal, pero para pasar de la clasificación a la regresión tenemos que invertir el objetivo. En lugar de intentar encajar la calle más grande posible entre dos clases mientras se limitan las infracciones de margen, la regresión SVM intenta encajar **tantas instancias como sea posible** en la calle mientras limita las infracciones de margen. El ancho de la calle está controlado por el hiperparámetro $\\epsilon$. A continuación se muestra un ejemplo:\n",
    "\n"
   ]
  },
  {
   "cell_type": "markdown",
   "source": [
    "<div style=\"text-align:center;\"><img style=\"width:66%;\" src=\"./img/SVM_regression.png\" /></div>\n",
    "\n",
    "Agregar más instancias al margen no afecta las predicciones del modelo; por lo tanto, se dice que el modelo es $\\epsilon$-insensible.\n",
    "\n",
    "Vamos a implementar un regresor lineal `SVR` de `sklearn` (después de escalar y centrar los datos):"
   ],
   "metadata": {
    "collapsed": false,
    "pycharm": {
     "name": "#%% md\n"
    },
    "id": "sOxXqoi8z3bn"
   }
  },
  {
   "cell_type": "code",
   "execution_count": 18,
   "outputs": [],
   "source": [
    "from sklearn.svm import LinearSVR"
   ],
   "metadata": {
    "pycharm": {
     "name": "#%%\n"
    },
    "id": "MjPbbozcz3bn"
   }
  },
  {
   "cell_type": "code",
   "execution_count": 19,
   "outputs": [],
   "source": [
    "svm_reg = LinearSVR(epsilon=1.5)"
   ],
   "metadata": {
    "pycharm": {
     "name": "#%%\n"
    },
    "id": "ITMBFCwcz3bn"
   }
  },
  {
   "cell_type": "code",
   "execution_count": 20,
   "outputs": [
    {
     "data": {
      "text/plain": "LinearSVR(epsilon=1.5)"
     },
     "execution_count": 20,
     "metadata": {},
     "output_type": "execute_result"
    }
   ],
   "source": [
    "svm_reg.fit(X, y)"
   ],
   "metadata": {
    "pycharm": {
     "name": "#%%\n"
    },
    "id": "BWqp54OXz3bo"
   }
  },
  {
   "cell_type": "markdown",
   "source": [
    "Para abordar las tareas de regresión lineal, podemos usar un modelo SVM con kernel polinomial:\n"
   ],
   "metadata": {
    "collapsed": false,
    "id": "ijYETwoyz3bo"
   }
  },
  {
   "cell_type": "code",
   "execution_count": 21,
   "outputs": [],
   "source": [
    "from sklearn.svm import SVR"
   ],
   "metadata": {
    "pycharm": {
     "name": "#%%\n"
    },
    "id": "4MPpUUbUz3bo"
   }
  },
  {
   "cell_type": "code",
   "execution_count": 22,
   "outputs": [],
   "source": [
    "svm_poly_reg = SVR(kernel='poly', degree=2, C=100, epsilon=0.1, gamma='auto')"
   ],
   "metadata": {
    "pycharm": {
     "name": "#%%\n"
    },
    "id": "bC_VfnTCz3bo"
   }
  },
  {
   "cell_type": "code",
   "execution_count": 23,
   "outputs": [
    {
     "data": {
      "text/plain": "SVR(C=100, degree=2, gamma='auto', kernel='poly')"
     },
     "execution_count": 23,
     "metadata": {},
     "output_type": "execute_result"
    }
   ],
   "source": [
    "svm_poly_reg.fit(X, y)"
   ],
   "metadata": {
    "pycharm": {
     "name": "#%%\n"
    },
    "id": "gTxnQgUIz3bp"
   }
  },
  {
   "cell_type": "markdown",
   "source": [
    "`LinearSVR` scales linearly with the size of the training set, while `SVR` is much slower (just like `LinearSVC` & `SVC`).\n",
    "\n",
    "`LinearSVR` se escala linealmente al tamaño del conjunto de entrenamiento, mientras que `SVR` es mucho más lento (al igual que `LinearSVC` y `SVC`)."
   ],
   "metadata": {
    "collapsed": false,
    "id": "abW-EeY2z3bp"
   }
  },
  {
   "cell_type": "markdown",
   "source": [
    "## 4. EXTRA: Similarity Features\n",
    "\n",
    "Al margen de los kernels polinómicos, existe otra técnicas habitual para abordar problemas no lineales llamada \"Similarity features\" consistente en agregar características calculadas usando una **función de similitud**, que mide cuánto se parece cada instancia a un punto de referencia en particular.\n",
    "\n",
    "Por ejemplo, si tomamos el dataset visto anteriormente y agregamos dos puntos de referencia en $x_{1}=-2$ y $x_{1}=1$, como se muestra en el gráfico izquierdo de:\n",
    "\n",
    "<div style=\"text-align:center;\"><img style=\"width:66%;\" src=\"./img/similarity_measures.png\" /></div>\n",
    "\n",
    "Definimos la función de similitud como la **Función de base radial gaussiana (RBF)** con $\\gamma = 0.3$. $\\phi$ es una función en forma de campana que varía de 0 ($x$ está muy lejos de $l$) a 1 ($x=l$). Después de definir una función de similitud, las nuevas características son las **distancias** de cada instancia de entrenamiento desde los puntos de referencia.\n",
    "\n",
    "Como podemos ver en el gráfico de la derecha, las instancias se vuelven linealmente separables usando solo características de distancia.\n",
    "\n",
    "Pero, ¿cómo seleccionamos los puntos de referencia? El enfoque más simple es crear un punto de referencia en todos y cada uno de los puntos de los datos de entrenamiento. Hacer eso aumentará el número de dimensiones y dará una mejor oportunidad de encontrar un separador lineal. La desventaja es que crearemos un número `m` adicional de funciones (como filas), lo que puede provocar problemas de rendimiento."
   ],
   "metadata": {
    "collapsed": false,
    "id": "F5nnrbJCz3bp"
   }
  },
  {
   "cell_type": "markdown",
   "source": [
    "### 4.1. Gaussian RBF Kernel\n",
    "\n",
    "Al igual que el método de características polinómicas, el método de características de similitud puede ser útil en muchos algoritmos de ML. El problema es que con conjuntos de datos muy grandes, terminaremos con un espacio de características muy grande, pero una vez más tenemos el truco de Kernel para que parezca como si añadimos características adicionales.\n",
    "\n",
    "Vamos a verlo con `sklearn`:"
   ],
   "metadata": {
    "collapsed": false,
    "id": "yqHbLRBmz3bp"
   }
  },
  {
   "cell_type": "code",
   "execution_count": 24,
   "outputs": [],
   "source": [
    "from sklearn.svm import SVC"
   ],
   "metadata": {
    "pycharm": {
     "name": "#%%\n"
    },
    "id": "kK-TA4P8z3bq"
   }
  },
  {
   "cell_type": "code",
   "execution_count": 25,
   "outputs": [],
   "source": [
    "rbf_kernel_svm_clf = Pipeline([\n",
    "    (\"scaler\", StandardScaler()),\n",
    "    (\"svm_clf\", SVC(kernel=\"rbf\", gamma=5, C=0.001))\n",
    "])"
   ],
   "metadata": {
    "pycharm": {
     "name": "#%%\n"
    },
    "id": "R5e7gCYGz3bq"
   }
  },
  {
   "cell_type": "code",
   "execution_count": 26,
   "outputs": [
    {
     "data": {
      "text/plain": "Pipeline(steps=[('scaler', StandardScaler()),\n                ('svm_clf', SVC(C=0.001, gamma=5))])"
     },
     "execution_count": 26,
     "metadata": {},
     "output_type": "execute_result"
    }
   ],
   "source": [
    "rbf_kernel_svm_clf.fit(X, y)"
   ],
   "metadata": {
    "pycharm": {
     "name": "#%%\n"
    },
    "id": "puiHAjkzz3bq"
   }
  },
  {
   "cell_type": "markdown",
   "source": [
    "A continuación tenemos el espacio de predicciones con las instancias del conjunto de entrenamiento (abajo a la izquierda está el modelo entrenado anteriormente). Los otros gráficos se corresponden a diferentes configuraciones de hiperparámetros:\n",
    "\n",
    "<div style=\"text-align:center;\"><img style=\"width:66%;\" src=\"./img/training_rbfs.png\" /></div>\n",
    "\n",
    "El aumento de $\\gamma$ hace que la curva en forma de campana sea más estrecha, el límite de decisión termina siendo más irregular, moviéndose alrededor de instancias individuales. Entonces $\\gamma$ actúa como un hiperparámetro de regularización.\n",
    "- El aumento de gamma aumenta la sensibilidad del modelo (puede dar lugar a un sobreajuste).\n",
    "- la disminución de gamma aumenta el sesgo del modelo (puede conducir a un ajuste insuficiente)\n",
    "\n",
    "Siempre deberíamos probar primero el kernel lineal, y si el conjunto de entrenamiento no es demasiado grande, entonces podríamos probar el kernel RBF gaussiano."
   ],
   "metadata": {
    "collapsed": false,
    "pycharm": {
     "name": "#%% md\n"
    },
    "id": "FwXRMxYHz3bq"
   }
  },
  {
   "cell_type": "markdown",
   "source": [
    "## Ejercicios:\n",
    "\n",
    "Responde a las siguientes preguntas cortas:\n",
    "\n",
    "1. ¿Qué es un vector de soporte?\n",
    "2. ¿Es necesario escalar las features cuando usamos SVM? ¿Por qué?\n",
    "3. Supongamos que has entrenado un clasificador SVM con Kernel Polinómicos, pero parece que no se ajusta bien a los datos de entrenamiento. ¿Qué harías?\n"
   ],
   "metadata": {
    "collapsed": false,
    "id": "Wh3kztkrz3bq"
   }
  },
  {
   "cell_type": "markdown",
   "metadata": {
    "id": "oOCoGkXhz3br"
   },
   "source": [
    "**4. Entrena un clasificador `LinearSVC` sobre un dataset separable lienalmente generado aleatóriamente.**"
   ]
  },
  {
   "cell_type": "code",
   "execution_count": 27,
   "metadata": {
    "id": "G9flW7iuz3br"
   },
   "outputs": [],
   "source": [
    "from sklearn.svm import LinearSVC, SVC\n",
    "import matplotlib.pyplot as plt"
   ]
  },
  {
   "cell_type": "markdown",
   "metadata": {
    "id": "v2AFYgdBz3br"
   },
   "source": [
    "Primero generamos los datos separable linealmente:"
   ]
  },
  {
   "cell_type": "code",
   "execution_count": 28,
   "metadata": {
    "id": "CZd4IIDVz3br"
   },
   "outputs": [
    {
     "data": {
      "text/plain": "((500, 3), (500, 3))"
     },
     "execution_count": 28,
     "metadata": {},
     "output_type": "execute_result"
    }
   ],
   "source": [
    "d1 = np.concatenate((np.random.normal(loc=6, scale=1, size=(500, 2)), np.ones((500, 1))), axis=1) \n",
    "d2 = np.concatenate((np.random.normal(loc=3, scale=1, size=(500, 2)), np.zeros((500, 1))), axis=1) \n",
    "d1.shape, d2.shape"
   ]
  },
  {
   "cell_type": "code",
   "execution_count": 29,
   "metadata": {
    "id": "8hLnYRlPz3br"
   },
   "outputs": [
    {
     "data": {
      "text/plain": "<Figure size 432x288 with 1 Axes>",
      "image/png": "[encoded data removed]"
     },
     "metadata": {
      "needs_background": "light"
     },
     "output_type": "display_data"
    }
   ],
   "source": [
    "plt.scatter(d1[:,0], d1[:,1], c='red')\n",
    "plt.scatter(d2[:,0], d2[:,1], c='blue')\n",
    "plt.xlabel('x1')\n",
    "plt.ylabel('x2')\n",
    "plt.title('Synthetic 2D Points')\n",
    "plt.xlim(0, 10)\n",
    "plt.ylim(0, 10)\n",
    "plt.show()"
   ]
  },
  {
   "cell_type": "markdown",
   "metadata": {
    "id": "RWSqcBuWz3bs"
   },
   "source": [
    "Posteriormente, combinamos y mezclamos los datos d1 y d2:"
   ]
  },
  {
   "cell_type": "code",
   "execution_count": 30,
   "metadata": {
    "id": "ZhZCbJ71z3bs"
   },
   "outputs": [
    {
     "data": {
      "text/plain": "(1000, 3)"
     },
     "execution_count": 30,
     "metadata": {},
     "output_type": "execute_result"
    }
   ],
   "source": [
    "d = np.concatenate((d1,d2), axis=0)\n",
    "d.shape"
   ]
  },
  {
   "cell_type": "code",
   "execution_count": 31,
   "metadata": {
    "id": "wDkP4y7Tz3bs"
   },
   "outputs": [],
   "source": [
    "np.random.shuffle(d)"
   ]
  },
  {
   "cell_type": "markdown",
   "metadata": {
    "id": "cElD5Cclz3bs"
   },
   "source": [
    "Entrenamiento:"
   ]
  },
  {
   "cell_type": "code",
   "execution_count": 32,
   "metadata": {
    "id": "nxqtGXTFz3bt"
   },
   "outputs": [],
   "source": [
    "model = LinearSVC()"
   ]
  },
  {
   "cell_type": "code",
   "execution_count": 33,
   "metadata": {
    "id": "hhxJE0o1z3bt"
   },
   "outputs": [],
   "source": [
    "from sklearn.model_selection import train_test_split"
   ]
  },
  {
   "cell_type": "code",
   "execution_count": 34,
   "metadata": {
    "id": "KebHc28Wz3bt"
   },
   "outputs": [],
   "source": [
    "X_train, X_test, y_train, y_test =  train_test_split(d[:,:2], d[:,2:], test_size=0.2)"
   ]
  },
  {
   "cell_type": "code",
   "execution_count": 35,
   "metadata": {
    "id": "LIMFqk-xz3bt"
   },
   "outputs": [
    {
     "data": {
      "text/plain": "((800, 2), (200, 2), (800, 1), (200, 1))"
     },
     "execution_count": 35,
     "metadata": {},
     "output_type": "execute_result"
    }
   ],
   "source": [
    "X_train.shape, X_test.shape, y_train.shape, y_test.shape"
   ]
  },
  {
   "cell_type": "code",
   "execution_count": 36,
   "metadata": {
    "id": "38SZ4r8dz3bt"
   },
   "outputs": [
    {
     "name": "stderr",
     "output_type": "stream",
     "text": [
      "C:\\Users\\adrian\\anaconda3\\lib\\site-packages\\sklearn\\svm\\_base.py:985: ConvergenceWarning: Liblinear failed to converge, increase the number of iterations.\n",
      "  warnings.warn(\"Liblinear failed to converge, increase \"\n"
     ]
    },
    {
     "data": {
      "text/plain": "LinearSVC()"
     },
     "execution_count": 36,
     "metadata": {},
     "output_type": "execute_result"
    }
   ],
   "source": [
    "model.fit(X_train, y_train.ravel())"
   ]
  },
  {
   "cell_type": "code",
   "execution_count": 37,
   "metadata": {
    "id": "wdsS6RTEz3bu"
   },
   "outputs": [
    {
     "data": {
      "text/plain": "0.985"
     },
     "execution_count": 37,
     "metadata": {},
     "output_type": "execute_result"
    }
   ],
   "source": [
    "model.score(X_test, y_test)"
   ]
  },
  {
   "cell_type": "markdown",
   "metadata": {
    "id": "PWBqLA1Nz3bu"
   },
   "source": [
    "Printado de los márgenes de decisión:"
   ]
  },
  {
   "cell_type": "code",
   "execution_count": 38,
   "metadata": {
    "id": "RWs0972Xz3bu"
   },
   "outputs": [
    {
     "data": {
      "text/plain": "<Figure size 864x576 with 1 Axes>",
      "image/png": "[encoded data removed]"
     },
     "metadata": {
      "needs_background": "light"
     },
     "output_type": "display_data"
    }
   ],
   "source": [
    "plt.figure(figsize=(12,8))\n",
    "# Points\n",
    "plt.scatter(d1[:,0], d1[:,1], c='red', s=7)\n",
    "plt.scatter(d2[:,0], d2[:,1], c='blue', s=7)\n",
    "# Decision boundaries\n",
    "w = model.coef_[0]\n",
    "a = -w[0] / w[1]\n",
    "xx = np.linspace(0, 10)\n",
    "yy = a * xx - (model.intercept_[0]) / w[1]\n",
    "plt.plot(xx, yy, 'k-')\n",
    "# Other\n",
    "plt.xlabel('x1')\n",
    "plt.ylabel('x2')\n",
    "plt.title('Synthetic 2D Points')\n",
    "plt.xlim(0, 10)\n",
    "plt.ylim(0, 10)\n",
    "plt.show()"
   ]
  },
  {
   "cell_type": "markdown",
   "metadata": {
    "id": "KOjbmvT9z3bu"
   },
   "source": [
    "A continuación, entrenamos un clasificador SVC:"
   ]
  },
  {
   "cell_type": "code",
   "execution_count": 39,
   "metadata": {
    "id": "uC4s38nZz3bu"
   },
   "outputs": [],
   "source": [
    "C = 99.\n",
    "svc_clf = SVC(C=C, kernel='linear', degree=1, gamma='auto')"
   ]
  },
  {
   "cell_type": "code",
   "execution_count": 40,
   "metadata": {
    "id": "p18c-KlSz3bv"
   },
   "outputs": [
    {
     "data": {
      "text/plain": "SVC(C=99.0, degree=1, gamma='auto', kernel='linear')"
     },
     "execution_count": 40,
     "metadata": {},
     "output_type": "execute_result"
    }
   ],
   "source": [
    "svc_clf.fit(X_train, y_train.ravel())"
   ]
  },
  {
   "cell_type": "code",
   "execution_count": 41,
   "metadata": {
    "id": "ET-Bp1Ccz3bv"
   },
   "outputs": [
    {
     "data": {
      "text/plain": "0.995"
     },
     "execution_count": 41,
     "metadata": {},
     "output_type": "execute_result"
    }
   ],
   "source": [
    "svc_clf.score(X_test, y_test)"
   ]
  },
  {
   "cell_type": "code",
   "execution_count": 42,
   "metadata": {
    "id": "FXd1zHwPz3bv"
   },
   "outputs": [],
   "source": [
    "h = .02 \n",
    "x_min, x_max = d[:,0].min() - 1, d[:,0].max() + 1\n",
    "y_min, y_max = d[:,1].min() - 1, d[:,1].max() + 1\n",
    "xx, yy = np.meshgrid(np.arange(x_min, x_max, h),\n",
    "                     np.arange(y_min, y_max, h))"
   ]
  },
  {
   "cell_type": "code",
   "execution_count": 43,
   "metadata": {
    "id": "v5ABat6dz3bv"
   },
   "outputs": [],
   "source": [
    "Z = svc_clf.predict(np.c_[xx.ravel(), yy.ravel()])\n",
    "Z = Z.reshape(xx.shape)"
   ]
  },
  {
   "cell_type": "code",
   "execution_count": 44,
   "metadata": {
    "id": "UzwMkKJ3z3bv"
   },
   "outputs": [
    {
     "data": {
      "text/plain": "<Figure size 864x576 with 1 Axes>",
      "image/png": "[encoded data removed]"
     },
     "metadata": {
      "needs_background": "light"
     },
     "output_type": "display_data"
    }
   ],
   "source": [
    "plt.figure(figsize=(12,8))\n",
    "# Points\n",
    "plt.scatter(d1[:,0], d1[:,1], c='red', s=7)\n",
    "plt.scatter(d2[:,0], d2[:,1], c='blue', s=7)\n",
    "# Decision boundary\n",
    "plt.contour(xx, yy, Z, cmap=plt.cm.Paired)\n",
    "# Other\n",
    "plt.xlabel('x1')\n",
    "plt.ylabel('x2')\n",
    "plt.title('Synthetic 2D Points')\n",
    "plt.xlim(0, 10)\n",
    "plt.ylim(0, 10)\n",
    "plt.show()"
   ]
  },
  {
   "cell_type": "markdown",
   "source": [
    "Explica que diferencias has encontrado entre ambos. ¿Son iguales sus resultados? ¿Podríamos obtener el mismo modelo de ambos?"
   ],
   "metadata": {
    "collapsed": false,
    "pycharm": {
     "name": "#%% md\n"
    },
    "id": "e-9C7fP0z3bw"
   }
  },
  {
   "cell_type": "markdown",
   "metadata": {
    "id": "B7sVvb_Dz3bw"
   },
   "source": [
    "**5. Entrena un Regresor SVM sobre el dataset de casas de California (California Housing)**"
   ]
  },
  {
   "cell_type": "code",
   "execution_count": 45,
   "metadata": {
    "id": "DEVmNRd_z3bw"
   },
   "outputs": [],
   "source": [
    "from sklearn.svm import SVR"
   ]
  },
  {
   "cell_type": "code",
   "execution_count": 46,
   "metadata": {
    "id": "Lt_FG2Jbz3bw"
   },
   "outputs": [
    {
     "ename": "AttributeError",
     "evalue": "module 'sklearn.datasets' has no attribute 'california_housing'",
     "output_type": "error",
     "traceback": [
      "\u001B[1;31m---------------------------------------------------------------------------\u001B[0m",
      "\u001B[1;31mAttributeError\u001B[0m                            Traceback (most recent call last)",
      "\u001B[1;32m~\\AppData\\Local\\Temp/ipykernel_11464/3216429284.py\u001B[0m in \u001B[0;36m<module>\u001B[1;34m\u001B[0m\n\u001B[1;32m----> 1\u001B[1;33m \u001B[0mX\u001B[0m\u001B[1;33m,\u001B[0m \u001B[0my\u001B[0m \u001B[1;33m=\u001B[0m \u001B[0mdatasets\u001B[0m\u001B[1;33m.\u001B[0m\u001B[0mcalifornia_housing\u001B[0m\u001B[1;33m.\u001B[0m\u001B[0mfetch_california_housing\u001B[0m\u001B[1;33m(\u001B[0m\u001B[0mreturn_X_y\u001B[0m\u001B[1;33m=\u001B[0m\u001B[1;32mTrue\u001B[0m\u001B[1;33m)\u001B[0m\u001B[1;33m\u001B[0m\u001B[1;33m\u001B[0m\u001B[0m\n\u001B[0m\u001B[0;32m      2\u001B[0m \u001B[0mX\u001B[0m\u001B[1;33m.\u001B[0m\u001B[0mshape\u001B[0m\u001B[1;33m,\u001B[0m \u001B[0my\u001B[0m\u001B[1;33m.\u001B[0m\u001B[0mshape\u001B[0m\u001B[1;33m\u001B[0m\u001B[1;33m\u001B[0m\u001B[0m\n",
      "\u001B[1;31mAttributeError\u001B[0m: module 'sklearn.datasets' has no attribute 'california_housing'"
     ]
    }
   ],
   "source": [
    "X, y = datasets.california_housing.fetch_california_housing(return_X_y=True)\n",
    "X.shape, y.shape"
   ]
  },
  {
   "cell_type": "code",
   "execution_count": null,
   "metadata": {
    "id": "xFMCAZfMz3bw"
   },
   "outputs": [],
   "source": [
    "X_train, X_val, y_train, y_val = train_test_split(X, y, test_size=0.33)"
   ]
  },
  {
   "cell_type": "code",
   "execution_count": null,
   "metadata": {
    "id": "fBj77MP9z3bx"
   },
   "outputs": [],
   "source": [
    "from sklearn.preprocessing import StandardScaler"
   ]
  },
  {
   "cell_type": "markdown",
   "metadata": {
    "id": "Kfumw1yqz3bx"
   },
   "source": [
    "Primero, escalamos los datos, para después entrenar y evaluar los resultados:"
   ]
  },
  {
   "cell_type": "code",
   "execution_count": null,
   "metadata": {
    "id": "NKL5dnwSz3bx"
   },
   "outputs": [],
   "source": [
    "scaler = StandardScaler()"
   ]
  },
  {
   "cell_type": "code",
   "execution_count": null,
   "metadata": {
    "id": "DqTdmrgQz3bx"
   },
   "outputs": [],
   "source": [
    "X_train = scaler.fit_transform(X_train)"
   ]
  },
  {
   "cell_type": "code",
   "execution_count": null,
   "metadata": {
    "id": "yoxb8c-_z3bx"
   },
   "outputs": [],
   "source": [
    "regressor = SVR()"
   ]
  },
  {
   "cell_type": "code",
   "execution_count": null,
   "metadata": {
    "id": "9wDSde9fz3bx"
   },
   "outputs": [],
   "source": [
    "regressor.fit(X_train, y_train)"
   ]
  },
  {
   "cell_type": "code",
   "execution_count": null,
   "metadata": {
    "id": "zdEKE8Xtz3by"
   },
   "outputs": [],
   "source": [
    "regressor.score(scaler.transform(X_val), y_val)"
   ]
  },
  {
   "cell_type": "markdown",
   "source": [
    "¿Cómo ha ido el regresor? Muestra gráficamente si todos los puntos se encuentran dentro de los márgenes."
   ],
   "metadata": {
    "collapsed": false,
    "pycharm": {
     "name": "#%% md\n"
    },
    "id": "HEP8JWBsz3by"
   }
  },
  {
   "cell_type": "markdown",
   "source": [
    "**EXTRA: Entrena un clasificador SVM en el conjunto de datos MNIST. Dado que los clasificadores SVM son clasificadores binarios, deberás usar uno contra el resto para clasificar los 10 dígitos. Es posible que quieras ajustar los hiperparámetros mediante pequeños conjuntos de validación para acelerar el proceso. ¿Qué precisión puedes alcanzar?\n",
    "Pista: https://www.kaggle.com/nishan192/mnist-digit-recognition-using-svm**"
   ],
   "metadata": {
    "collapsed": false,
    "id": "Q3qIUatyz3by"
   }
  },
  {
   "cell_type": "code",
   "execution_count": null,
   "outputs": [],
   "source": [
    "from sklearn import datasets"
   ],
   "metadata": {
    "pycharm": {
     "name": "#%%\n"
    },
    "id": "ASanZRh9z3by"
   }
  },
  {
   "cell_type": "code",
   "execution_count": null,
   "outputs": [],
   "source": [
    "X, y = datasets.fetch_openml(name='mnist_784', return_X_y=True)"
   ],
   "metadata": {
    "pycharm": {
     "name": "#%%\n"
    },
    "id": "bEqqMYSoz3by"
   }
  },
  {
   "cell_type": "code",
   "execution_count": null,
   "outputs": [],
   "source": [
    "X_train, X_test, y_train, y_test = train_test_split(X, y, test_size=0.33)"
   ],
   "metadata": {
    "pycharm": {
     "name": "#%%\n"
    },
    "id": "z0TpUWqYz3by",
    "outputId": "1e301581-f042-4d21-c72f-360afa3973e2"
   }
  },
  {
   "cell_type": "code",
   "execution_count": null,
   "outputs": [],
   "source": [
    "X_train.shape, X_test.shape, y_train.shape, y_test.shape"
   ],
   "metadata": {
    "pycharm": {
     "name": "#%%\n"
    },
    "id": "RG2Ztpbmz3bz"
   }
  },
  {
   "cell_type": "markdown",
   "source": [
    "Usaremos la validación cruzada para optimizar los hiperparámetros:"
   ],
   "metadata": {
    "collapsed": false,
    "id": "SSOSdeQqz3bz"
   }
  },
  {
   "cell_type": "code",
   "execution_count": null,
   "outputs": [],
   "source": [
    "from sklearn.multiclass import OneVsRestClassifier\n",
    "from sklearn.model_selection import cross_val_score"
   ],
   "metadata": {
    "pycharm": {
     "name": "#%%\n"
    },
    "id": "zdgGFmQiz3bz"
   }
  },
  {
   "cell_type": "code",
   "execution_count": null,
   "outputs": [],
   "source": [
    "clf = OneVsRestClassifier(estimator=SVC(gamma='auto'))"
   ],
   "metadata": {
    "pycharm": {
     "name": "#%%\n"
    },
    "id": "JfwGx1hDz3bz"
   }
  },
  {
   "cell_type": "code",
   "execution_count": null,
   "outputs": [],
   "source": [
    "scores = cross_val_score(estimator=clf, X=X_train[:1000]/255., y=y_train[:1000], cv=7)"
   ],
   "metadata": {
    "pycharm": {
     "name": "#%%\n"
    },
    "id": "ar43GK14z3bz"
   }
  },
  {
   "cell_type": "code",
   "execution_count": null,
   "outputs": [],
   "source": [
    "print(f\"We reach an accuracy of {sum(scores)/len(scores)}\")"
   ],
   "metadata": {
    "pycharm": {
     "name": "#%%\n"
    },
    "id": "puD7Zn0nz3b0"
   }
  },
  {
   "cell_type": "markdown",
   "metadata": {
    "id": "D41uSBBWz3b0"
   },
   "source": [
    "---"
   ]
  }
 ],
 "metadata": {
  "kernelspec": {
   "display_name": "Python 3",
   "language": "python",
   "name": "python3"
  },
  "language_info": {
   "codemirror_mode": {
    "name": "ipython",
    "version": 3
   },
   "file_extension": ".py",
   "mimetype": "text/x-python",
   "name": "python",
   "nbconvert_exporter": "python",
   "pygments_lexer": "ipython3",
   "version": "3.8.6"
  },
  "colab": {
   "name": "2.6.Supervised-SVMs.ipynb",
   "provenance": []
  }
 },
 "nbformat": 4,
 "nbformat_minor": 0
}